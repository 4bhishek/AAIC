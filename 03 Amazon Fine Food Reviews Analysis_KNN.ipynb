{
 "cells": [
  {
   "cell_type": "markdown",
   "metadata": {},
   "source": [
    "# Amazon Fine Food Reviews Analysis\n",
    "\n",
    "\n",
    "Data Source: https://www.kaggle.com/snap/amazon-fine-food-reviews <br>\n",
    "\n",
    "EDA: https://nycdatascience.com/blog/student-works/amazon-fine-foods-visualization/\n",
    "\n",
    "\n",
    "The Amazon Fine Food Reviews dataset consists of reviews of fine foods from Amazon.<br>\n",
    "\n",
    "Number of reviews: 568,454<br>\n",
    "Number of users: 256,059<br>\n",
    "Number of products: 74,258<br>\n",
    "Timespan: Oct 1999 - Oct 2012<br>\n",
    "Number of Attributes/Columns in data: 10 \n",
    "\n",
    "Attribute Information:\n",
    "\n",
    "1. Id\n",
    "2. ProductId - unique identifier for the product\n",
    "3. UserId - unqiue identifier for the user\n",
    "4. ProfileName\n",
    "5. HelpfulnessNumerator - number of users who found the review helpful\n",
    "6. HelpfulnessDenominator - number of users who indicated whether they found the review helpful or not\n",
    "7. Score - rating between 1 and 5\n",
    "8. Time - timestamp for the review\n",
    "9. Summary - brief summary of the review\n",
    "10. Text - text of the review\n",
    "\n",
    "\n",
    "#### Objective:\n",
    "Given a review, determine whether the review is positive (rating of 4 or 5) or negative (rating of 1 or 2).\n",
    "\n",
    "<br>\n",
    "[Q] How to determine if a review is positive or negative?<br>\n",
    "<br> \n",
    "[Ans] We could use Score/Rating. A rating of 4 or 5 can be cosnidered as a positive review. A rating of 1 or 2 can be considered as negative one. A review of rating 3 is considered nuetral and such reviews are ignored from our analysis. This is an approximate and proxy way of determining the polarity (positivity/negativity) of a review.\n",
    "\n",
    "\n"
   ]
  },
  {
   "cell_type": "markdown",
   "metadata": {},
   "source": [
    "# [1]. Reading Data"
   ]
  },
  {
   "cell_type": "markdown",
   "metadata": {},
   "source": [
    "## [1.1] Loading the data\n",
    "\n",
    "The dataset is available in two forms\n",
    "1. .csv file\n",
    "2. SQLite Database\n",
    "\n",
    "In order to load the data, We have used the SQLITE dataset as it is easier to query the data and visualise the data efficiently.\n",
    "<br> \n",
    "\n",
    "Here as we only want to get the global sentiment of the recommendations (positive or negative), we will purposefully ignore all Scores equal to 3. If the score is above 3, then the recommendation wil be set to \"positive\". Otherwise, it will be set to \"negative\"."
   ]
  },
  {
   "cell_type": "code",
   "execution_count": 1,
   "metadata": {},
   "outputs": [],
   "source": [
    "%matplotlib inline\n",
    "import warnings\n",
    "warnings.filterwarnings(\"ignore\")\n",
    "\n",
    "\n",
    "import sqlite3\n",
    "import pandas as pd\n",
    "import numpy as np\n",
    "import nltk\n",
    "import string\n",
    "import matplotlib.pyplot as plt\n",
    "import seaborn as sns\n",
    "from sklearn.feature_extraction.text import TfidfTransformer\n",
    "from sklearn.feature_extraction.text import TfidfVectorizer\n",
    "\n",
    "from sklearn.feature_extraction.text import CountVectorizer\n",
    "from sklearn.metrics import confusion_matrix\n",
    "from sklearn import metrics\n",
    "from sklearn.metrics import roc_curve, auc\n",
    "from nltk.stem.porter import PorterStemmer\n",
    "\n",
    "import re\n",
    "# Tutorial about Python regular expressions: https://pymotw.com/2/re/\n",
    "import string\n",
    "from nltk.corpus import stopwords\n",
    "from nltk.stem import PorterStemmer\n",
    "from nltk.stem.wordnet import WordNetLemmatizer\n",
    "\n",
    "from gensim.models import Word2Vec\n",
    "from gensim.models import KeyedVectors\n",
    "import pickle\n",
    "\n",
    "from tqdm import tqdm\n",
    "import os"
   ]
  },
  {
   "cell_type": "code",
   "execution_count": 2,
   "metadata": {},
   "outputs": [
    {
     "name": "stdout",
     "output_type": "stream",
     "text": [
      "Number of data points in our data (60000, 10)\n"
     ]
    },
    {
     "data": {
      "text/html": [
       "<div>\n",
       "<style scoped>\n",
       "    .dataframe tbody tr th:only-of-type {\n",
       "        vertical-align: middle;\n",
       "    }\n",
       "\n",
       "    .dataframe tbody tr th {\n",
       "        vertical-align: top;\n",
       "    }\n",
       "\n",
       "    .dataframe thead th {\n",
       "        text-align: right;\n",
       "    }\n",
       "</style>\n",
       "<table border=\"1\" class=\"dataframe\">\n",
       "  <thead>\n",
       "    <tr style=\"text-align: right;\">\n",
       "      <th></th>\n",
       "      <th>Id</th>\n",
       "      <th>ProductId</th>\n",
       "      <th>UserId</th>\n",
       "      <th>ProfileName</th>\n",
       "      <th>HelpfulnessNumerator</th>\n",
       "      <th>HelpfulnessDenominator</th>\n",
       "      <th>Score</th>\n",
       "      <th>Time</th>\n",
       "      <th>Summary</th>\n",
       "      <th>Text</th>\n",
       "    </tr>\n",
       "  </thead>\n",
       "  <tbody>\n",
       "    <tr>\n",
       "      <th>0</th>\n",
       "      <td>1</td>\n",
       "      <td>B001E4KFG0</td>\n",
       "      <td>A3SGXH7AUHU8GW</td>\n",
       "      <td>delmartian</td>\n",
       "      <td>1</td>\n",
       "      <td>1</td>\n",
       "      <td>1</td>\n",
       "      <td>1303862400</td>\n",
       "      <td>Good Quality Dog Food</td>\n",
       "      <td>I have bought several of the Vitality canned d...</td>\n",
       "    </tr>\n",
       "    <tr>\n",
       "      <th>1</th>\n",
       "      <td>2</td>\n",
       "      <td>B00813GRG4</td>\n",
       "      <td>A1D87F6ZCVE5NK</td>\n",
       "      <td>dll pa</td>\n",
       "      <td>0</td>\n",
       "      <td>0</td>\n",
       "      <td>0</td>\n",
       "      <td>1346976000</td>\n",
       "      <td>Not as Advertised</td>\n",
       "      <td>Product arrived labeled as Jumbo Salted Peanut...</td>\n",
       "    </tr>\n",
       "    <tr>\n",
       "      <th>2</th>\n",
       "      <td>3</td>\n",
       "      <td>B000LQOCH0</td>\n",
       "      <td>ABXLMWJIXXAIN</td>\n",
       "      <td>Natalia Corres \"Natalia Corres\"</td>\n",
       "      <td>1</td>\n",
       "      <td>1</td>\n",
       "      <td>1</td>\n",
       "      <td>1219017600</td>\n",
       "      <td>\"Delight\" says it all</td>\n",
       "      <td>This is a confection that has been around a fe...</td>\n",
       "    </tr>\n",
       "  </tbody>\n",
       "</table>\n",
       "</div>"
      ],
      "text/plain": [
       "   Id   ProductId          UserId                      ProfileName  \\\n",
       "0   1  B001E4KFG0  A3SGXH7AUHU8GW                       delmartian   \n",
       "1   2  B00813GRG4  A1D87F6ZCVE5NK                           dll pa   \n",
       "2   3  B000LQOCH0   ABXLMWJIXXAIN  Natalia Corres \"Natalia Corres\"   \n",
       "\n",
       "   HelpfulnessNumerator  HelpfulnessDenominator  Score        Time  \\\n",
       "0                     1                       1      1  1303862400   \n",
       "1                     0                       0      0  1346976000   \n",
       "2                     1                       1      1  1219017600   \n",
       "\n",
       "                 Summary                                               Text  \n",
       "0  Good Quality Dog Food  I have bought several of the Vitality canned d...  \n",
       "1      Not as Advertised  Product arrived labeled as Jumbo Salted Peanut...  \n",
       "2  \"Delight\" says it all  This is a confection that has been around a fe...  "
      ]
     },
     "execution_count": 2,
     "metadata": {},
     "output_type": "execute_result"
    }
   ],
   "source": [
    "# using SQLite Table to read data.\n",
    "con = sqlite3.connect('database.sqlite') \n",
    "\n",
    "# filtering only positive and negative reviews i.e. \n",
    "# not taking into consideration those reviews with Score=3\n",
    "# SELECT * FROM Reviews WHERE Score != 3 LIMIT 500000, will give top 500000 data points\n",
    "# you can change the number to any other number based on your computing power\n",
    "\n",
    "# filtered_data = pd.read_sql_query(\"\"\" SELECT * FROM Reviews WHERE Score != 3 LIMIT 500000\"\"\", con) \n",
    "# for tsne assignment you can take 5k data points\n",
    "\n",
    "filtered_data = pd.read_sql_query(\"\"\" SELECT * FROM Reviews WHERE Score != 3 LIMIT 60000\"\"\", con) \n",
    "\n",
    "# Give reviews with Score>3 a positive rating(1), and reviews with a score<3 a negative rating(0).\n",
    "def partition(x):\n",
    "    if x < 3:\n",
    "        return 0\n",
    "    return 1\n",
    "\n",
    "#changing reviews with score less than 3 to be positive and vice-versa\n",
    "actualScore = filtered_data['Score']\n",
    "positiveNegative = actualScore.map(partition) \n",
    "filtered_data['Score'] = positiveNegative\n",
    "print(\"Number of data points in our data\", filtered_data.shape)\n",
    "filtered_data.head(3)"
   ]
  },
  {
   "cell_type": "code",
   "execution_count": 3,
   "metadata": {},
   "outputs": [],
   "source": [
    "display = pd.read_sql_query(\"\"\"\n",
    "SELECT UserId, ProductId, ProfileName, Time, Score, Text, COUNT(*)\n",
    "FROM Reviews\n",
    "GROUP BY UserId\n",
    "HAVING COUNT(*)>1\n",
    "\"\"\", con)"
   ]
  },
  {
   "cell_type": "code",
   "execution_count": 4,
   "metadata": {
    "scrolled": true
   },
   "outputs": [
    {
     "name": "stdout",
     "output_type": "stream",
     "text": [
      "(80668, 7)\n"
     ]
    },
    {
     "data": {
      "text/html": [
       "<div>\n",
       "<style scoped>\n",
       "    .dataframe tbody tr th:only-of-type {\n",
       "        vertical-align: middle;\n",
       "    }\n",
       "\n",
       "    .dataframe tbody tr th {\n",
       "        vertical-align: top;\n",
       "    }\n",
       "\n",
       "    .dataframe thead th {\n",
       "        text-align: right;\n",
       "    }\n",
       "</style>\n",
       "<table border=\"1\" class=\"dataframe\">\n",
       "  <thead>\n",
       "    <tr style=\"text-align: right;\">\n",
       "      <th></th>\n",
       "      <th>UserId</th>\n",
       "      <th>ProductId</th>\n",
       "      <th>ProfileName</th>\n",
       "      <th>Time</th>\n",
       "      <th>Score</th>\n",
       "      <th>Text</th>\n",
       "      <th>COUNT(*)</th>\n",
       "    </tr>\n",
       "  </thead>\n",
       "  <tbody>\n",
       "    <tr>\n",
       "      <th>0</th>\n",
       "      <td>#oc-R115TNMSPFT9I7</td>\n",
       "      <td>B007Y59HVM</td>\n",
       "      <td>Breyton</td>\n",
       "      <td>1331510400</td>\n",
       "      <td>2</td>\n",
       "      <td>Overall its just OK when considering the price...</td>\n",
       "      <td>2</td>\n",
       "    </tr>\n",
       "    <tr>\n",
       "      <th>1</th>\n",
       "      <td>#oc-R11D9D7SHXIJB9</td>\n",
       "      <td>B005HG9ET0</td>\n",
       "      <td>Louis E. Emory \"hoppy\"</td>\n",
       "      <td>1342396800</td>\n",
       "      <td>5</td>\n",
       "      <td>My wife has recurring extreme muscle spasms, u...</td>\n",
       "      <td>3</td>\n",
       "    </tr>\n",
       "    <tr>\n",
       "      <th>2</th>\n",
       "      <td>#oc-R11DNU2NBKQ23Z</td>\n",
       "      <td>B007Y59HVM</td>\n",
       "      <td>Kim Cieszykowski</td>\n",
       "      <td>1348531200</td>\n",
       "      <td>1</td>\n",
       "      <td>This coffee is horrible and unfortunately not ...</td>\n",
       "      <td>2</td>\n",
       "    </tr>\n",
       "    <tr>\n",
       "      <th>3</th>\n",
       "      <td>#oc-R11O5J5ZVQE25C</td>\n",
       "      <td>B005HG9ET0</td>\n",
       "      <td>Penguin Chick</td>\n",
       "      <td>1346889600</td>\n",
       "      <td>5</td>\n",
       "      <td>This will be the bottle that you grab from the...</td>\n",
       "      <td>3</td>\n",
       "    </tr>\n",
       "    <tr>\n",
       "      <th>4</th>\n",
       "      <td>#oc-R12KPBODL2B5ZD</td>\n",
       "      <td>B007OSBE1U</td>\n",
       "      <td>Christopher P. Presta</td>\n",
       "      <td>1348617600</td>\n",
       "      <td>1</td>\n",
       "      <td>I didnt like this coffee. Instead of telling y...</td>\n",
       "      <td>2</td>\n",
       "    </tr>\n",
       "  </tbody>\n",
       "</table>\n",
       "</div>"
      ],
      "text/plain": [
       "               UserId   ProductId             ProfileName        Time  Score  \\\n",
       "0  #oc-R115TNMSPFT9I7  B007Y59HVM                 Breyton  1331510400      2   \n",
       "1  #oc-R11D9D7SHXIJB9  B005HG9ET0  Louis E. Emory \"hoppy\"  1342396800      5   \n",
       "2  #oc-R11DNU2NBKQ23Z  B007Y59HVM        Kim Cieszykowski  1348531200      1   \n",
       "3  #oc-R11O5J5ZVQE25C  B005HG9ET0           Penguin Chick  1346889600      5   \n",
       "4  #oc-R12KPBODL2B5ZD  B007OSBE1U   Christopher P. Presta  1348617600      1   \n",
       "\n",
       "                                                Text  COUNT(*)  \n",
       "0  Overall its just OK when considering the price...         2  \n",
       "1  My wife has recurring extreme muscle spasms, u...         3  \n",
       "2  This coffee is horrible and unfortunately not ...         2  \n",
       "3  This will be the bottle that you grab from the...         3  \n",
       "4  I didnt like this coffee. Instead of telling y...         2  "
      ]
     },
     "execution_count": 4,
     "metadata": {},
     "output_type": "execute_result"
    }
   ],
   "source": [
    "print(display.shape)\n",
    "display.head()"
   ]
  },
  {
   "cell_type": "code",
   "execution_count": 5,
   "metadata": {},
   "outputs": [
    {
     "data": {
      "text/html": [
       "<div>\n",
       "<style scoped>\n",
       "    .dataframe tbody tr th:only-of-type {\n",
       "        vertical-align: middle;\n",
       "    }\n",
       "\n",
       "    .dataframe tbody tr th {\n",
       "        vertical-align: top;\n",
       "    }\n",
       "\n",
       "    .dataframe thead th {\n",
       "        text-align: right;\n",
       "    }\n",
       "</style>\n",
       "<table border=\"1\" class=\"dataframe\">\n",
       "  <thead>\n",
       "    <tr style=\"text-align: right;\">\n",
       "      <th></th>\n",
       "      <th>UserId</th>\n",
       "      <th>ProductId</th>\n",
       "      <th>ProfileName</th>\n",
       "      <th>Time</th>\n",
       "      <th>Score</th>\n",
       "      <th>Text</th>\n",
       "      <th>COUNT(*)</th>\n",
       "    </tr>\n",
       "  </thead>\n",
       "  <tbody>\n",
       "    <tr>\n",
       "      <th>80638</th>\n",
       "      <td>AZY10LLTJ71NX</td>\n",
       "      <td>B006P7E5ZI</td>\n",
       "      <td>undertheshrine \"undertheshrine\"</td>\n",
       "      <td>1334707200</td>\n",
       "      <td>5</td>\n",
       "      <td>I was recommended to try green tea extract to ...</td>\n",
       "      <td>5</td>\n",
       "    </tr>\n",
       "  </tbody>\n",
       "</table>\n",
       "</div>"
      ],
      "text/plain": [
       "              UserId   ProductId                      ProfileName        Time  \\\n",
       "80638  AZY10LLTJ71NX  B006P7E5ZI  undertheshrine \"undertheshrine\"  1334707200   \n",
       "\n",
       "       Score                                               Text  COUNT(*)  \n",
       "80638      5  I was recommended to try green tea extract to ...         5  "
      ]
     },
     "execution_count": 5,
     "metadata": {},
     "output_type": "execute_result"
    }
   ],
   "source": [
    "display[display['UserId']=='AZY10LLTJ71NX']"
   ]
  },
  {
   "cell_type": "code",
   "execution_count": 6,
   "metadata": {},
   "outputs": [
    {
     "data": {
      "text/plain": [
       "393063"
      ]
     },
     "execution_count": 6,
     "metadata": {},
     "output_type": "execute_result"
    }
   ],
   "source": [
    "display['COUNT(*)'].sum()"
   ]
  },
  {
   "cell_type": "markdown",
   "metadata": {},
   "source": [
    "#  [2] Exploratory Data Analysis"
   ]
  },
  {
   "cell_type": "markdown",
   "metadata": {},
   "source": [
    "## [2.1] Data Cleaning: Deduplication\n",
    "\n",
    "It is observed (as shown in the table below) that the reviews data had many duplicate entries. Hence it was necessary to remove duplicates in order to get unbiased results for the analysis of the data.  Following is an example:"
   ]
  },
  {
   "cell_type": "code",
   "execution_count": 7,
   "metadata": {
    "scrolled": false
   },
   "outputs": [
    {
     "data": {
      "text/html": [
       "<div>\n",
       "<style scoped>\n",
       "    .dataframe tbody tr th:only-of-type {\n",
       "        vertical-align: middle;\n",
       "    }\n",
       "\n",
       "    .dataframe tbody tr th {\n",
       "        vertical-align: top;\n",
       "    }\n",
       "\n",
       "    .dataframe thead th {\n",
       "        text-align: right;\n",
       "    }\n",
       "</style>\n",
       "<table border=\"1\" class=\"dataframe\">\n",
       "  <thead>\n",
       "    <tr style=\"text-align: right;\">\n",
       "      <th></th>\n",
       "      <th>Id</th>\n",
       "      <th>ProductId</th>\n",
       "      <th>UserId</th>\n",
       "      <th>ProfileName</th>\n",
       "      <th>HelpfulnessNumerator</th>\n",
       "      <th>HelpfulnessDenominator</th>\n",
       "      <th>Score</th>\n",
       "      <th>Time</th>\n",
       "      <th>Summary</th>\n",
       "      <th>Text</th>\n",
       "    </tr>\n",
       "  </thead>\n",
       "  <tbody>\n",
       "    <tr>\n",
       "      <th>0</th>\n",
       "      <td>78445</td>\n",
       "      <td>B000HDL1RQ</td>\n",
       "      <td>AR5J8UI46CURR</td>\n",
       "      <td>Geetha Krishnan</td>\n",
       "      <td>2</td>\n",
       "      <td>2</td>\n",
       "      <td>5</td>\n",
       "      <td>1199577600</td>\n",
       "      <td>LOACKER QUADRATINI VANILLA WAFERS</td>\n",
       "      <td>DELICIOUS WAFERS. I FIND THAT EUROPEAN WAFERS ...</td>\n",
       "    </tr>\n",
       "    <tr>\n",
       "      <th>1</th>\n",
       "      <td>138317</td>\n",
       "      <td>B000HDOPYC</td>\n",
       "      <td>AR5J8UI46CURR</td>\n",
       "      <td>Geetha Krishnan</td>\n",
       "      <td>2</td>\n",
       "      <td>2</td>\n",
       "      <td>5</td>\n",
       "      <td>1199577600</td>\n",
       "      <td>LOACKER QUADRATINI VANILLA WAFERS</td>\n",
       "      <td>DELICIOUS WAFERS. I FIND THAT EUROPEAN WAFERS ...</td>\n",
       "    </tr>\n",
       "    <tr>\n",
       "      <th>2</th>\n",
       "      <td>138277</td>\n",
       "      <td>B000HDOPYM</td>\n",
       "      <td>AR5J8UI46CURR</td>\n",
       "      <td>Geetha Krishnan</td>\n",
       "      <td>2</td>\n",
       "      <td>2</td>\n",
       "      <td>5</td>\n",
       "      <td>1199577600</td>\n",
       "      <td>LOACKER QUADRATINI VANILLA WAFERS</td>\n",
       "      <td>DELICIOUS WAFERS. I FIND THAT EUROPEAN WAFERS ...</td>\n",
       "    </tr>\n",
       "    <tr>\n",
       "      <th>3</th>\n",
       "      <td>73791</td>\n",
       "      <td>B000HDOPZG</td>\n",
       "      <td>AR5J8UI46CURR</td>\n",
       "      <td>Geetha Krishnan</td>\n",
       "      <td>2</td>\n",
       "      <td>2</td>\n",
       "      <td>5</td>\n",
       "      <td>1199577600</td>\n",
       "      <td>LOACKER QUADRATINI VANILLA WAFERS</td>\n",
       "      <td>DELICIOUS WAFERS. I FIND THAT EUROPEAN WAFERS ...</td>\n",
       "    </tr>\n",
       "    <tr>\n",
       "      <th>4</th>\n",
       "      <td>155049</td>\n",
       "      <td>B000PAQ75C</td>\n",
       "      <td>AR5J8UI46CURR</td>\n",
       "      <td>Geetha Krishnan</td>\n",
       "      <td>2</td>\n",
       "      <td>2</td>\n",
       "      <td>5</td>\n",
       "      <td>1199577600</td>\n",
       "      <td>LOACKER QUADRATINI VANILLA WAFERS</td>\n",
       "      <td>DELICIOUS WAFERS. I FIND THAT EUROPEAN WAFERS ...</td>\n",
       "    </tr>\n",
       "  </tbody>\n",
       "</table>\n",
       "</div>"
      ],
      "text/plain": [
       "       Id   ProductId         UserId      ProfileName  HelpfulnessNumerator  \\\n",
       "0   78445  B000HDL1RQ  AR5J8UI46CURR  Geetha Krishnan                     2   \n",
       "1  138317  B000HDOPYC  AR5J8UI46CURR  Geetha Krishnan                     2   \n",
       "2  138277  B000HDOPYM  AR5J8UI46CURR  Geetha Krishnan                     2   \n",
       "3   73791  B000HDOPZG  AR5J8UI46CURR  Geetha Krishnan                     2   \n",
       "4  155049  B000PAQ75C  AR5J8UI46CURR  Geetha Krishnan                     2   \n",
       "\n",
       "   HelpfulnessDenominator  Score        Time  \\\n",
       "0                       2      5  1199577600   \n",
       "1                       2      5  1199577600   \n",
       "2                       2      5  1199577600   \n",
       "3                       2      5  1199577600   \n",
       "4                       2      5  1199577600   \n",
       "\n",
       "                             Summary  \\\n",
       "0  LOACKER QUADRATINI VANILLA WAFERS   \n",
       "1  LOACKER QUADRATINI VANILLA WAFERS   \n",
       "2  LOACKER QUADRATINI VANILLA WAFERS   \n",
       "3  LOACKER QUADRATINI VANILLA WAFERS   \n",
       "4  LOACKER QUADRATINI VANILLA WAFERS   \n",
       "\n",
       "                                                Text  \n",
       "0  DELICIOUS WAFERS. I FIND THAT EUROPEAN WAFERS ...  \n",
       "1  DELICIOUS WAFERS. I FIND THAT EUROPEAN WAFERS ...  \n",
       "2  DELICIOUS WAFERS. I FIND THAT EUROPEAN WAFERS ...  \n",
       "3  DELICIOUS WAFERS. I FIND THAT EUROPEAN WAFERS ...  \n",
       "4  DELICIOUS WAFERS. I FIND THAT EUROPEAN WAFERS ...  "
      ]
     },
     "execution_count": 7,
     "metadata": {},
     "output_type": "execute_result"
    }
   ],
   "source": [
    "display= pd.read_sql_query(\"\"\"\n",
    "SELECT *\n",
    "FROM Reviews\n",
    "WHERE Score != 3 AND UserId=\"AR5J8UI46CURR\"\n",
    "ORDER BY ProductID\n",
    "\"\"\", con)\n",
    "display.head()"
   ]
  },
  {
   "cell_type": "markdown",
   "metadata": {},
   "source": [
    "As it can be seen above that same user has multiple reviews with same values for HelpfulnessNumerator, HelpfulnessDenominator, Score, Time, Summary and Text and on doing analysis it was found that <br>\n",
    "<br> \n",
    "ProductId=B000HDOPZG was Loacker Quadratini Vanilla Wafer Cookies, 8.82-Ounce Packages (Pack of 8)<br>\n",
    "<br> \n",
    "ProductId=B000HDL1RQ was Loacker Quadratini Lemon Wafer Cookies, 8.82-Ounce Packages (Pack of 8) and so on<br>\n",
    "\n",
    "It was inferred after analysis that reviews with same parameters other than ProductId belonged to the same product just having different flavour or quantity. Hence in order to reduce redundancy it was decided to eliminate the rows having same parameters.<br>\n",
    "\n",
    "The method used for the same was that we first sort the data according to ProductId and then just keep the first similar product review and delelte the others. for eg. in the above just the review for ProductId=B000HDL1RQ remains. This method ensures that there is only one representative for each product and deduplication without sorting would lead to possibility of different representatives still existing for the same product."
   ]
  },
  {
   "cell_type": "code",
   "execution_count": 8,
   "metadata": {},
   "outputs": [],
   "source": [
    "#Sorting data according to ProductId in ascending order\n",
    "sorted_data=filtered_data.sort_values('ProductId', axis=0, ascending=True, inplace=False, kind='quicksort', na_position='last')"
   ]
  },
  {
   "cell_type": "code",
   "execution_count": 9,
   "metadata": {},
   "outputs": [
    {
     "data": {
      "text/plain": [
       "(54458, 10)"
      ]
     },
     "execution_count": 9,
     "metadata": {},
     "output_type": "execute_result"
    }
   ],
   "source": [
    "#Deduplication of entries\n",
    "final=sorted_data.drop_duplicates(subset={\"UserId\",\"ProfileName\",\"Time\",\"Text\"}, keep='first', inplace=False)\n",
    "final.shape"
   ]
  },
  {
   "cell_type": "code",
   "execution_count": 10,
   "metadata": {},
   "outputs": [
    {
     "data": {
      "text/plain": [
       "90.76333333333334"
      ]
     },
     "execution_count": 10,
     "metadata": {},
     "output_type": "execute_result"
    }
   ],
   "source": [
    "#Checking to see how much % of data still remains\n",
    "(final['Id'].size*1.0)/(filtered_data['Id'].size*1.0)*100"
   ]
  },
  {
   "cell_type": "markdown",
   "metadata": {},
   "source": [
    "<b>Observation:-</b> It was also seen that in two rows given below the value of HelpfulnessNumerator is greater than HelpfulnessDenominator which is not practically possible hence these two rows too are removed from calcualtions"
   ]
  },
  {
   "cell_type": "code",
   "execution_count": 11,
   "metadata": {},
   "outputs": [
    {
     "data": {
      "text/html": [
       "<div>\n",
       "<style scoped>\n",
       "    .dataframe tbody tr th:only-of-type {\n",
       "        vertical-align: middle;\n",
       "    }\n",
       "\n",
       "    .dataframe tbody tr th {\n",
       "        vertical-align: top;\n",
       "    }\n",
       "\n",
       "    .dataframe thead th {\n",
       "        text-align: right;\n",
       "    }\n",
       "</style>\n",
       "<table border=\"1\" class=\"dataframe\">\n",
       "  <thead>\n",
       "    <tr style=\"text-align: right;\">\n",
       "      <th></th>\n",
       "      <th>Id</th>\n",
       "      <th>ProductId</th>\n",
       "      <th>UserId</th>\n",
       "      <th>ProfileName</th>\n",
       "      <th>HelpfulnessNumerator</th>\n",
       "      <th>HelpfulnessDenominator</th>\n",
       "      <th>Score</th>\n",
       "      <th>Time</th>\n",
       "      <th>Summary</th>\n",
       "      <th>Text</th>\n",
       "    </tr>\n",
       "  </thead>\n",
       "  <tbody>\n",
       "    <tr>\n",
       "      <th>0</th>\n",
       "      <td>64422</td>\n",
       "      <td>B000MIDROQ</td>\n",
       "      <td>A161DK06JJMCYF</td>\n",
       "      <td>J. E. Stephens \"Jeanne\"</td>\n",
       "      <td>3</td>\n",
       "      <td>1</td>\n",
       "      <td>5</td>\n",
       "      <td>1224892800</td>\n",
       "      <td>Bought This for My Son at College</td>\n",
       "      <td>My son loves spaghetti so I didn't hesitate or...</td>\n",
       "    </tr>\n",
       "    <tr>\n",
       "      <th>1</th>\n",
       "      <td>44737</td>\n",
       "      <td>B001EQ55RW</td>\n",
       "      <td>A2V0I904FH7ABY</td>\n",
       "      <td>Ram</td>\n",
       "      <td>3</td>\n",
       "      <td>2</td>\n",
       "      <td>4</td>\n",
       "      <td>1212883200</td>\n",
       "      <td>Pure cocoa taste with crunchy almonds inside</td>\n",
       "      <td>It was almost a 'love at first bite' - the per...</td>\n",
       "    </tr>\n",
       "  </tbody>\n",
       "</table>\n",
       "</div>"
      ],
      "text/plain": [
       "      Id   ProductId          UserId              ProfileName  \\\n",
       "0  64422  B000MIDROQ  A161DK06JJMCYF  J. E. Stephens \"Jeanne\"   \n",
       "1  44737  B001EQ55RW  A2V0I904FH7ABY                      Ram   \n",
       "\n",
       "   HelpfulnessNumerator  HelpfulnessDenominator  Score        Time  \\\n",
       "0                     3                       1      5  1224892800   \n",
       "1                     3                       2      4  1212883200   \n",
       "\n",
       "                                        Summary  \\\n",
       "0             Bought This for My Son at College   \n",
       "1  Pure cocoa taste with crunchy almonds inside   \n",
       "\n",
       "                                                Text  \n",
       "0  My son loves spaghetti so I didn't hesitate or...  \n",
       "1  It was almost a 'love at first bite' - the per...  "
      ]
     },
     "execution_count": 11,
     "metadata": {},
     "output_type": "execute_result"
    }
   ],
   "source": [
    "display= pd.read_sql_query(\"\"\"\n",
    "SELECT *\n",
    "FROM Reviews\n",
    "WHERE Score != 3 AND Id=44737 OR Id=64422\n",
    "ORDER BY ProductID\n",
    "\"\"\", con)\n",
    "\n",
    "display.head()"
   ]
  },
  {
   "cell_type": "code",
   "execution_count": 12,
   "metadata": {},
   "outputs": [],
   "source": [
    "final=final[final.HelpfulnessNumerator<=final.HelpfulnessDenominator]"
   ]
  },
  {
   "cell_type": "code",
   "execution_count": 13,
   "metadata": {},
   "outputs": [
    {
     "name": "stdout",
     "output_type": "stream",
     "text": [
      "(54456, 10)\n"
     ]
    },
    {
     "data": {
      "text/plain": [
       "1    45572\n",
       "0     8884\n",
       "Name: Score, dtype: int64"
      ]
     },
     "execution_count": 13,
     "metadata": {},
     "output_type": "execute_result"
    }
   ],
   "source": [
    "#Before starting the next phase of preprocessing lets see the number of entries left\n",
    "print(final.shape)\n",
    "\n",
    "#How many positive and negative reviews are present in our dataset?\n",
    "final['Score'].value_counts()"
   ]
  },
  {
   "cell_type": "markdown",
   "metadata": {},
   "source": [
    "#  [3] Preprocessing"
   ]
  },
  {
   "cell_type": "markdown",
   "metadata": {},
   "source": [
    "## [3.1].  Preprocessing Review Text\n",
    "\n",
    "Now that we have finished deduplication our data requires some preprocessing before we go on further with analysis and making the prediction model.\n",
    "\n",
    "Hence in the Preprocessing phase we do the following in the order below:-\n",
    "\n",
    "1. Begin by removing the html tags\n",
    "2. Remove any punctuations or limited set of special characters like , or . or # etc.\n",
    "3. Check if the word is made up of english letters and is not alpha-numeric\n",
    "4. Check to see if the length of the word is greater than 2 (as it was researched that there is no adjective in 2-letters)\n",
    "5. Convert the word to lowercase\n",
    "6. Remove Stopwords\n",
    "7. Finally Snowball Stemming the word (it was obsereved to be better than Porter Stemming)<br>\n",
    "\n",
    "After which we collect the words used to describe positive and negative reviews"
   ]
  },
  {
   "cell_type": "code",
   "execution_count": 14,
   "metadata": {},
   "outputs": [
    {
     "name": "stdout",
     "output_type": "stream",
     "text": [
      "Our dogs just love them.  I saw them in a pet store and a tag was attached regarding them being made in China and it satisfied me that they were safe.\n",
      "==================================================\n",
      "My whole family loves this sauce. I use it primarily to recreate a dish we had in Maui. It adds a wonderful sweet and spicy flavor to just about any sauce. Service on this order was spectacular. Several bottles arrived broken and replacements were received within days. Amazon service was fast, easy and reliable. I love Amazon. Also, there are many recipes that you can look up using this sauce that a very good. It goes spectaculary with coconut milk, vegetables, chicken or shrimp and pasta. We love it.\n",
      "==================================================\n",
      "My husband is a paraplegic and was having UTIs constantly.  Since he started drinking a cup of this tea every morning, he hasn't had a UTI for a year.\n",
      "==================================================\n",
      "THIS BREAD MIX IS THE CLOSEST THING TO REGULAR BREAD I HAVE FOUND. EASY TO MAKE IN MY BREAD MACHINE.\n",
      "==================================================\n"
     ]
    }
   ],
   "source": [
    "# printing some random reviews\n",
    "sent_0 = final['Text'].values[0]\n",
    "print(sent_0)\n",
    "print(\"=\"*50)\n",
    "\n",
    "sent_1000 = final['Text'].values[1000]\n",
    "print(sent_1000)\n",
    "print(\"=\"*50)\n",
    "\n",
    "sent_1500 = final['Text'].values[1500]\n",
    "print(sent_1500)\n",
    "print(\"=\"*50)\n",
    "\n",
    "sent_4900 = final['Text'].values[4900]\n",
    "print(sent_4900)\n",
    "print(\"=\"*50)"
   ]
  },
  {
   "cell_type": "code",
   "execution_count": 15,
   "metadata": {},
   "outputs": [
    {
     "name": "stdout",
     "output_type": "stream",
     "text": [
      "Our dogs just love them.  I saw them in a pet store and a tag was attached regarding them being made in China and it satisfied me that they were safe.\n"
     ]
    }
   ],
   "source": [
    "# remove urls from text python: https://stackoverflow.com/a/40823105/4084039\n",
    "sent_0 = re.sub(r\"http\\S+\", \"\", sent_0)\n",
    "sent_1000 = re.sub(r\"http\\S+\", \"\", sent_1000)\n",
    "sent_150 = re.sub(r\"http\\S+\", \"\", sent_1500)\n",
    "sent_4900 = re.sub(r\"http\\S+\", \"\", sent_4900)\n",
    "\n",
    "print(sent_0)"
   ]
  },
  {
   "cell_type": "code",
   "execution_count": 16,
   "metadata": {},
   "outputs": [
    {
     "name": "stdout",
     "output_type": "stream",
     "text": [
      "Our dogs just love them.  I saw them in a pet store and a tag was attached regarding them being made in China and it satisfied me that they were safe.\n",
      "==================================================\n",
      "My whole family loves this sauce. I use it primarily to recreate a dish we had in Maui. It adds a wonderful sweet and spicy flavor to just about any sauce. Service on this order was spectacular. Several bottles arrived broken and replacements were received within days. Amazon service was fast, easy and reliable. I love Amazon. Also, there are many recipes that you can look up using this sauce that a very good. It goes spectaculary with coconut milk, vegetables, chicken or shrimp and pasta. We love it.\n",
      "==================================================\n",
      "My husband is a paraplegic and was having UTIs constantly.  Since he started drinking a cup of this tea every morning, he hasn't had a UTI for a year.\n",
      "==================================================\n",
      "THIS BREAD MIX IS THE CLOSEST THING TO REGULAR BREAD I HAVE FOUND. EASY TO MAKE IN MY BREAD MACHINE.\n"
     ]
    }
   ],
   "source": [
    "# https://stackoverflow.com/questions/16206380/python-beautifulsoup-how-to-remove-all-tags-from-an-element\n",
    "from bs4 import BeautifulSoup\n",
    "\n",
    "soup = BeautifulSoup(sent_0, 'lxml')\n",
    "text = soup.get_text()\n",
    "print(text)\n",
    "print(\"=\"*50)\n",
    "\n",
    "soup = BeautifulSoup(sent_1000, 'lxml')\n",
    "text = soup.get_text()\n",
    "print(text)\n",
    "print(\"=\"*50)\n",
    "\n",
    "soup = BeautifulSoup(sent_1500, 'lxml')\n",
    "text = soup.get_text()\n",
    "print(text)\n",
    "print(\"=\"*50)\n",
    "\n",
    "soup = BeautifulSoup(sent_4900, 'lxml')\n",
    "text = soup.get_text()\n",
    "print(text)"
   ]
  },
  {
   "cell_type": "code",
   "execution_count": 17,
   "metadata": {},
   "outputs": [],
   "source": [
    "# https://stackoverflow.com/a/47091490/4084039\n",
    "import re\n",
    "\n",
    "def decontracted(phrase):\n",
    "    # specific\n",
    "    phrase = re.sub(r\"won't\", \"will not\", phrase)\n",
    "    phrase = re.sub(r\"can\\'t\", \"can not\", phrase)\n",
    "\n",
    "    # general\n",
    "    phrase = re.sub(r\"n\\'t\", \" not\", phrase)\n",
    "    phrase = re.sub(r\"\\'re\", \" are\", phrase)\n",
    "    phrase = re.sub(r\"\\'s\", \" is\", phrase)\n",
    "    phrase = re.sub(r\"\\'d\", \" would\", phrase)\n",
    "    phrase = re.sub(r\"\\'ll\", \" will\", phrase)\n",
    "    phrase = re.sub(r\"\\'t\", \" not\", phrase)\n",
    "    phrase = re.sub(r\"\\'ve\", \" have\", phrase)\n",
    "    phrase = re.sub(r\"\\'m\", \" am\", phrase)\n",
    "    return phrase"
   ]
  },
  {
   "cell_type": "code",
   "execution_count": 18,
   "metadata": {},
   "outputs": [
    {
     "name": "stdout",
     "output_type": "stream",
     "text": [
      "My husband is a paraplegic and was having UTIs constantly.  Since he started drinking a cup of this tea every morning, he has not had a UTI for a year.\n",
      "==================================================\n"
     ]
    }
   ],
   "source": [
    "sent_1500 = decontracted(sent_1500)\n",
    "print(sent_1500)\n",
    "print(\"=\"*50)"
   ]
  },
  {
   "cell_type": "code",
   "execution_count": 19,
   "metadata": {},
   "outputs": [
    {
     "name": "stdout",
     "output_type": "stream",
     "text": [
      "Our dogs just love them.  I saw them in a pet store and a tag was attached regarding them being made in China and it satisfied me that they were safe.\n"
     ]
    }
   ],
   "source": [
    "#remove words with numbers python: https://stackoverflow.com/a/18082370/4084039\n",
    "sent_0 = re.sub(\"\\S*\\d\\S*\", \"\", sent_0).strip()\n",
    "print(sent_0)"
   ]
  },
  {
   "cell_type": "code",
   "execution_count": 20,
   "metadata": {},
   "outputs": [
    {
     "name": "stdout",
     "output_type": "stream",
     "text": [
      "My husband is a paraplegic and was having UTIs constantly Since he started drinking a cup of this tea every morning he has not had a UTI for a year \n"
     ]
    }
   ],
   "source": [
    "#remove spacial character: https://stackoverflow.com/a/5843547/4084039\n",
    "sent_1500 = re.sub('[^A-Za-z0-9]+', ' ', sent_1500)\n",
    "print(sent_1500)"
   ]
  },
  {
   "cell_type": "code",
   "execution_count": 21,
   "metadata": {},
   "outputs": [],
   "source": [
    "# https://gist.github.com/sebleier/554280\n",
    "# we are removing the words from the stop words list: 'no', 'nor', 'not'\n",
    "# <br /><br /> ==> after the above steps, we are getting \"br br\"\n",
    "# we are including them into stop words list\n",
    "# instead of <br /> if we have <br/> these tags would have revmoved in the 1st step\n",
    "\n",
    "stopwords= set(['br', 'the', 'i', 'me', 'my', 'myself', 'we', 'our', 'ours', 'ourselves', 'you', \"you're\", \"you've\",\\\n",
    "            \"you'll\", \"you'd\", 'your', 'yours', 'yourself', 'yourselves', 'he', 'him', 'his', 'himself', \\\n",
    "            'she', \"she's\", 'her', 'hers', 'herself', 'it', \"it's\", 'its', 'itself', 'they', 'them', 'their',\\\n",
    "            'theirs', 'themselves', 'what', 'which', 'who', 'whom', 'this', 'that', \"that'll\", 'these', 'those', \\\n",
    "            'am', 'is', 'are', 'was', 'were', 'be', 'been', 'being', 'have', 'has', 'had', 'having', 'do', 'does', \\\n",
    "            'did', 'doing', 'a', 'an', 'the', 'and', 'but', 'if', 'or', 'because', 'as', 'until', 'while', 'of', \\\n",
    "            'at', 'by', 'for', 'with', 'about', 'against', 'between', 'into', 'through', 'during', 'before', 'after',\\\n",
    "            'above', 'below', 'to', 'from', 'up', 'down', 'in', 'out', 'on', 'off', 'over', 'under', 'again', 'further',\\\n",
    "            'then', 'once', 'here', 'there', 'when', 'where', 'why', 'how', 'all', 'any', 'both', 'each', 'few', 'more',\\\n",
    "            'most', 'other', 'some', 'such', 'only', 'own', 'same', 'so', 'than', 'too', 'very', \\\n",
    "            's', 't', 'can', 'will', 'just', 'don', \"don't\", 'should', \"should've\", 'now', 'd', 'll', 'm', 'o', 're', \\\n",
    "            've', 'y', 'ain', 'aren', \"aren't\", 'couldn', \"couldn't\", 'didn', \"didn't\", 'doesn', \"doesn't\", 'hadn',\\\n",
    "            \"hadn't\", 'hasn', \"hasn't\", 'haven', \"haven't\", 'isn', \"isn't\", 'ma', 'mightn', \"mightn't\", 'mustn',\\\n",
    "            \"mustn't\", 'needn', \"needn't\", 'shan', \"shan't\", 'shouldn', \"shouldn't\", 'wasn', \"wasn't\", 'weren', \"weren't\", \\\n",
    "            'won', \"won't\", 'wouldn', \"wouldn't\"])"
   ]
  },
  {
   "cell_type": "code",
   "execution_count": 22,
   "metadata": {},
   "outputs": [
    {
     "name": "stderr",
     "output_type": "stream",
     "text": [
      "100%|██████████████████████████████████████████████████████████████████████████| 54456/54456 [00:19<00:00, 2755.11it/s]\n"
     ]
    }
   ],
   "source": [
    "# Combining all the above stundents \n",
    "from tqdm import tqdm\n",
    "preprocessed_reviews = []\n",
    "# tqdm is for printing the status bar\n",
    "for sentance in tqdm(final['Text'].values):\n",
    "    sentance = re.sub(r\"http\\S+\", \"\", sentance)\n",
    "    sentance = BeautifulSoup(sentance, 'lxml').get_text()\n",
    "    sentance = decontracted(sentance)\n",
    "    sentance = re.sub(\"\\S*\\d\\S*\", \"\", sentance).strip()\n",
    "    sentance = re.sub('[^A-Za-z]+', ' ', sentance)\n",
    "    # https://gist.github.com/sebleier/554280\n",
    "    sentance = ' '.join(e.lower() for e in sentance.split() if e.lower() not in stopwords)\n",
    "    preprocessed_reviews.append(sentance.strip())"
   ]
  },
  {
   "cell_type": "code",
   "execution_count": 23,
   "metadata": {},
   "outputs": [
    {
     "data": {
      "text/plain": [
       "'husband paraplegic utis constantly since started drinking cup tea every morning not uti year'"
      ]
     },
     "execution_count": 23,
     "metadata": {},
     "output_type": "execute_result"
    }
   ],
   "source": [
    "preprocessed_reviews[1500]"
   ]
  },
  {
   "cell_type": "markdown",
   "metadata": {},
   "source": [
    "<h2><font color='red'>[3.2] Preprocessing Review Summary</font></h2>"
   ]
  },
  {
   "cell_type": "code",
   "execution_count": 24,
   "metadata": {},
   "outputs": [],
   "source": [
    "## Similartly you can do preprocessing for review summary also."
   ]
  },
  {
   "cell_type": "markdown",
   "metadata": {},
   "source": [
    "# [4] Data Splitting"
   ]
  },
  {
   "cell_type": "code",
   "execution_count": 25,
   "metadata": {},
   "outputs": [
    {
     "name": "stderr",
     "output_type": "stream",
     "text": [
      "C:\\Users\\4bhishek\\Anaconda3\\lib\\site-packages\\sklearn\\cross_validation.py:41: DeprecationWarning: This module was deprecated in version 0.18 in favor of the model_selection module into which all the refactored classes and functions are moved. Also note that the interface of the new CV iterators are different from that of this module. This module will be removed in 0.20.\n",
      "  \"This module will be removed in 0.20.\", DeprecationWarning)\n"
     ]
    },
    {
     "name": "stdout",
     "output_type": "stream",
     "text": [
      "X training set length:32673\n",
      "Y training set length:32673\n",
      "X CV set length:10891\n",
      "Y cv set length:10891\n",
      "X test set length:10892\n",
      "Y test set length:10892\n"
     ]
    }
   ],
   "source": [
    "from sklearn.cross_validation import train_test_split\n",
    "\n",
    "#print(type(preprocessed_reviews))\n",
    "#print(len(preprocessed_reviews))\n",
    "Y = final[\"Score\"].tolist()\n",
    "#print(type(Y))\n",
    "#print(len(Y))\n",
    "\n",
    "X_train_cv,X_test, Y_train_cv, Y_test = train_test_split(preprocessed_reviews, Y, test_size = 0.2)\n",
    "\n",
    "X_train, X_cv, Y_train, Y_cv = train_test_split(X_train_cv, Y_train_cv, test_size = 0.25)\n",
    "\n",
    "#print(type(X_train_cv))\n",
    "print(\"X training set length:\" + str(len(X_train)))\n",
    "#print(type(X_test))\n",
    "print(\"Y training set length:\" + str(len(Y_train)))\n",
    "print(\"X CV set length:\" + str(len(X_cv)))\n",
    "print(\"Y cv set length:\" + str(len(Y_cv)))\n",
    "print(\"X test set length:\" + str(len(X_test)))\n",
    "print(\"Y test set length:\" + str(len(Y_test)))\n"
   ]
  },
  {
   "cell_type": "markdown",
   "metadata": {},
   "source": [
    "# [5] Featurization"
   ]
  },
  {
   "cell_type": "markdown",
   "metadata": {},
   "source": [
    "## [5.1] BAG OF WORDS"
   ]
  },
  {
   "cell_type": "code",
   "execution_count": 26,
   "metadata": {
    "scrolled": true
   },
   "outputs": [
    {
     "name": "stdout",
     "output_type": "stream",
     "text": [
      "the type of count vectorizer for training set:  <class 'scipy.sparse.csr.csr_matrix'>\n",
      "the shape of out text BOW vectorizer for training set:  (32673, 33952)\n",
      "the number of unique words for training set:  33952\n",
      "###############################################################################################################################\n",
      "the type of count vectorizer for CV set:  <class 'scipy.sparse.csr.csr_matrix'>\n",
      "the shape of out text BOW vectorizer for CV set:  (10891, 33952)\n",
      "the number of unique words for CV set:  33952\n",
      "###############################################################################################################################\n",
      "the type of count vectorizer for test set:  <class 'scipy.sparse.csr.csr_matrix'>\n",
      "the shape of out text BOW vectorizer for test set:  (10892, 33952)\n",
      "the number of unique words for test set:  33952\n"
     ]
    }
   ],
   "source": [
    "#BoW for training set\n",
    "count_vect = CountVectorizer() #in scikit-learn\n",
    "#count_vect.fit(X_train)\n",
    "#print(\"some feature names \", count_vect.get_feature_names()[:10])\n",
    "#print('='*127)\n",
    "\n",
    "final_counts_train = count_vect.fit_transform(X_train)\n",
    "print(\"the type of count vectorizer for training set: \",type(final_counts_train))\n",
    "print(\"the shape of out text BOW vectorizer for training set: \",final_counts_train.get_shape())\n",
    "print(\"the number of unique words for training set: \", final_counts_train.get_shape()[1])\n",
    "print('#'*127)\n",
    "###############################################################################################################################\n",
    "#BOW for CV set\n",
    "#count_vect = CountVectorizer() #in scikit-learn\n",
    "#count_vect.fit(X_cv)\n",
    "#print(\"some feature names \", count_vect.get_feature_names()[:10])\n",
    "#print('='*127)\n",
    "\n",
    "final_counts_cv = count_vect.transform(X_cv)\n",
    "print(\"the type of count vectorizer for CV set: \",type(final_counts_cv))\n",
    "print(\"the shape of out text BOW vectorizer for CV set: \",final_counts_cv.get_shape())\n",
    "print(\"the number of unique words for CV set: \", final_counts_cv.get_shape()[1])\n",
    "print('#'*127)\n",
    "###############################################################################################################################\n",
    "#BOW for test set\n",
    "#count_vect = CountVectorizer() #in scikit-learn\n",
    "#count_vect.fit(X_test)\n",
    "#print(\"some feature names \", count_vect.get_feature_names()[:10])\n",
    "#print('='*127)\n",
    "\n",
    "final_counts_test = count_vect.transform(X_test)\n",
    "print(\"the type of count vectorizer for test set: \",type(final_counts_test))\n",
    "print(\"the shape of out text BOW vectorizer for test set: \",final_counts_test.get_shape())\n",
    "print(\"the number of unique words for test set: \", final_counts_test.get_shape()[1])\n"
   ]
  },
  {
   "cell_type": "markdown",
   "metadata": {},
   "source": [
    "## [5.1.1] BAG OF WORDS-MAX FEATURES RESTRICTED"
   ]
  },
  {
   "cell_type": "code",
   "execution_count": 27,
   "metadata": {},
   "outputs": [
    {
     "name": "stdout",
     "output_type": "stream",
     "text": [
      "the type of count vectorizer for training set:  <class 'scipy.sparse.csr.csr_matrix'>\n",
      "the shape of out text BOW vectorizer for training set:  (32673, 500)\n",
      "the number of unique words for training set:  500\n",
      "###############################################################################################################################\n",
      "the type of count vectorizer for CV set:  <class 'scipy.sparse.csr.csr_matrix'>\n",
      "the shape of out text BOW vectorizer for CV set:  (10891, 500)\n",
      "the number of unique words for CV set:  500\n",
      "###############################################################################################################################\n",
      "the type of count vectorizer for test set:  <class 'scipy.sparse.csr.csr_matrix'>\n",
      "the shape of out text BOW vectorizer for test set:  (10892, 500)\n",
      "the number of unique words for test set:  500\n"
     ]
    }
   ],
   "source": [
    "#BoW for training set\n",
    "count_vect = CountVectorizer(min_df=10, max_features=500) #in scikit-learn\n",
    "#count_vect.fit(X_train)\n",
    "#print(\"some feature names \", count_vect.get_feature_names()[:10])\n",
    "#print('='*127)\n",
    "\n",
    "final_counts_res_train = count_vect.fit_transform(X_train)\n",
    "print(\"the type of count vectorizer for training set: \",type(final_counts_res_train))\n",
    "print(\"the shape of out text BOW vectorizer for training set: \",final_counts_res_train.get_shape())\n",
    "print(\"the number of unique words for training set: \", final_counts_res_train.get_shape()[1])\n",
    "print('#'*127)\n",
    "###############################################################################################################################\n",
    "#BOW for CV set\n",
    "#count_vect = CountVectorizer() #in scikit-learn\n",
    "#count_vect.fit(X_cv)\n",
    "#print(\"some feature names \", count_vect.get_feature_names()[:10])\n",
    "#print('='*127)\n",
    "\n",
    "final_counts_res_cv = count_vect.transform(X_cv)\n",
    "print(\"the type of count vectorizer for CV set: \",type(final_counts_res_cv))\n",
    "print(\"the shape of out text BOW vectorizer for CV set: \",final_counts_res_cv.get_shape())\n",
    "print(\"the number of unique words for CV set: \", final_counts_res_cv.get_shape()[1])\n",
    "print('#'*127)\n",
    "###############################################################################################################################\n",
    "#BOW for test set\n",
    "#count_vect = CountVectorizer() #in scikit-learn\n",
    "#count_vect.fit(X_test)\n",
    "#print(\"some feature names \", count_vect.get_feature_names()[:10])\n",
    "#print('='*127)\n",
    "\n",
    "final_counts_res_test = count_vect.transform(X_test)\n",
    "print(\"the type of count vectorizer for test set: \",type(final_counts_res_test))\n",
    "print(\"the shape of out text BOW vectorizer for test set: \",final_counts_res_test.get_shape())\n",
    "print(\"the number of unique words for test set: \", final_counts_res_test.get_shape()[1])\n"
   ]
  },
  {
   "cell_type": "markdown",
   "metadata": {},
   "source": [
    "## [5.2] Bi-Grams and n-Grams."
   ]
  },
  {
   "cell_type": "code",
   "execution_count": 28,
   "metadata": {},
   "outputs": [
    {
     "name": "stdout",
     "output_type": "stream",
     "text": [
      "the type of count vectorizer  <class 'scipy.sparse.csr.csr_matrix'>\n",
      "the shape of out text BOW vectorizer  (54456, 5000)\n",
      "the number of unique words including both unigrams and bigrams  5000\n"
     ]
    }
   ],
   "source": [
    "#bi-gram, tri-gram and n-gram\n",
    "\n",
    "#removing stop words like \"not\" should be avoided before building n-grams\n",
    "# count_vect = CountVectorizer(ngram_range=(1,2))\n",
    "# please do read the CountVectorizer documentation http://scikit-learn.org/stable/modules/generated/sklearn.feature_extraction.text.CountVectorizer.html\n",
    "\n",
    "# you can choose these numebrs min_df=10, max_features=5000, of your choice\n",
    "count_vect = CountVectorizer(ngram_range=(1,2), min_df=10, max_features=5000)\n",
    "final_bigram_counts = count_vect.fit_transform(preprocessed_reviews)\n",
    "print(\"the type of count vectorizer \",type(final_bigram_counts))\n",
    "print(\"the shape of out text BOW vectorizer \",final_bigram_counts.get_shape())\n",
    "print(\"the number of unique words including both unigrams and bigrams \", final_bigram_counts.get_shape()[1])"
   ]
  },
  {
   "cell_type": "markdown",
   "metadata": {},
   "source": [
    "## [5.3] TF-IDF"
   ]
  },
  {
   "cell_type": "code",
   "execution_count": 29,
   "metadata": {},
   "outputs": [
    {
     "name": "stdout",
     "output_type": "stream",
     "text": [
      "some sample features(unique words in the corpus) ['ability', 'able', 'able buy', 'able chew', 'able drink', 'able eat', 'able enjoy', 'able find', 'able get', 'able give']\n",
      "===============================================================================================================================\n",
      "the type of count vectorizer for training set:  <class 'scipy.sparse.csr.csr_matrix'>\n",
      "the shape of out text TFIDF vectorizer for training set:  (32673, 19538)\n",
      "the number of unique words including both unigrams and bigrams for training set:  19538\n",
      "###############################################################################################################################\n",
      "some sample features(unique words in the corpus) ['ability', 'able', 'able buy', 'able chew', 'able drink', 'able eat', 'able enjoy', 'able find', 'able get', 'able give']\n",
      "===============================================================================================================================\n",
      "the type of count vectorizer for CV set:  <class 'scipy.sparse.csr.csr_matrix'>\n",
      "the shape of out text TFIDF vectorizer for CV set:  (10891, 19538)\n",
      "the number of unique words including both unigrams and bigrams for CV set:  19538\n",
      "###############################################################################################################################\n",
      "some sample features(unique words in the corpus) ['ability', 'able', 'able buy', 'able chew', 'able drink', 'able eat', 'able enjoy', 'able find', 'able get', 'able give']\n",
      "===============================================================================================================================\n",
      "the type of count vectorizer for test set:  <class 'scipy.sparse.csr.csr_matrix'>\n",
      "the shape of out text TFIDF vectorizer for test set:  (10892, 19538)\n",
      "the number of unique words including both unigrams and bigrams for test set:  19538\n"
     ]
    }
   ],
   "source": [
    "#TF-IDFfor training Set\n",
    "tf_idf_vect = TfidfVectorizer(ngram_range=(1,2), min_df=10)\n",
    "tf_idf_vect.fit(X_train)\n",
    "print(\"some sample features(unique words in the corpus)\",tf_idf_vect.get_feature_names()[0:10])\n",
    "print('='*127)\n",
    "\n",
    "final_tf_idf_train = tf_idf_vect.transform(X_train)\n",
    "print(\"the type of count vectorizer for training set: \",type(final_tf_idf_train))\n",
    "print(\"the shape of out text TFIDF vectorizer for training set: \",final_tf_idf_train.get_shape())\n",
    "print(\"the number of unique words including both unigrams and bigrams for training set: \", final_tf_idf_train.get_shape()[1])\n",
    "print('#'*127)\n",
    "################################################################################################################################\n",
    "#TF-IDFfor CV Set\n",
    "#tf_idf_vect = TfidfVectorizer(ngram_range=(1,2), min_df=10)\n",
    "#tf_idf_vect.fit(X_cv)\n",
    "print(\"some sample features(unique words in the corpus)\",tf_idf_vect.get_feature_names()[0:10])\n",
    "print('='*127)\n",
    "\n",
    "final_tf_idf_cv = tf_idf_vect.transform(X_cv)\n",
    "print(\"the type of count vectorizer for CV set: \",type(final_tf_idf_cv))\n",
    "print(\"the shape of out text TFIDF vectorizer for CV set: \",final_tf_idf_cv.get_shape())\n",
    "print(\"the number of unique words including both unigrams and bigrams for CV set: \", final_tf_idf_cv.get_shape()[1])\n",
    "print('#'*127)\n",
    "################################################################################################################################\n",
    "#TF-IDFfor test Set\n",
    "#tf_idf_vect = TfidfVectorizer(ngram_range=(1,2), min_df=10)\n",
    "#tf_idf_vect.fit(X_test)\n",
    "print(\"some sample features(unique words in the corpus)\",tf_idf_vect.get_feature_names()[0:10])\n",
    "print('='*127)\n",
    "\n",
    "final_tf_idf_test = tf_idf_vect.transform(X_test)\n",
    "print(\"the type of count vectorizer for test set: \",type(final_tf_idf_cv))\n",
    "print(\"the shape of out text TFIDF vectorizer for test set: \",final_tf_idf_test.get_shape())\n",
    "print(\"the number of unique words including both unigrams and bigrams for test set: \", final_tf_idf_test.get_shape()[1])\n",
    "#print('#'*127)"
   ]
  },
  {
   "cell_type": "markdown",
   "metadata": {},
   "source": [
    "## [5.3.1] TF-IDF-MAX FEATURES RESTRICTED"
   ]
  },
  {
   "cell_type": "code",
   "execution_count": 30,
   "metadata": {},
   "outputs": [
    {
     "name": "stdout",
     "output_type": "stream",
     "text": [
      "some sample features(unique words in the corpus) ['able', 'absolutely', 'acid', 'actually', 'add', 'added', 'aftertaste', 'ago', 'almonds', 'almost']\n",
      "===============================================================================================================================\n",
      "the type of count vectorizer for training set:  <class 'scipy.sparse.csr.csr_matrix'>\n",
      "the shape of out text TFIDF vectorizer for training set:  (32673, 500)\n",
      "the number of unique words including both unigrams and bigrams for training set:  500\n",
      "###############################################################################################################################\n",
      "some sample features(unique words in the corpus) ['able', 'absolutely', 'acid', 'actually', 'add', 'added', 'aftertaste', 'ago', 'almonds', 'almost']\n",
      "===============================================================================================================================\n",
      "the type of count vectorizer for CV set:  <class 'scipy.sparse.csr.csr_matrix'>\n",
      "the shape of out text TFIDF vectorizer for CV set:  (10891, 500)\n",
      "the number of unique words including both unigrams and bigrams for CV set:  500\n",
      "###############################################################################################################################\n",
      "some sample features(unique words in the corpus) ['able', 'absolutely', 'acid', 'actually', 'add', 'added', 'aftertaste', 'ago', 'almonds', 'almost']\n",
      "===============================================================================================================================\n",
      "the type of count vectorizer for test set:  <class 'scipy.sparse.csr.csr_matrix'>\n",
      "the shape of out text TFIDF vectorizer for test set:  (10892, 500)\n",
      "the number of unique words including both unigrams and bigrams for test set:  500\n"
     ]
    }
   ],
   "source": [
    "#TF-IDFfor training Set\n",
    "tf_idf_vect = TfidfVectorizer(ngram_range=(1,2), min_df=10, max_features=500)\n",
    "tf_idf_vect.fit(X_train)\n",
    "print(\"some sample features(unique words in the corpus)\",tf_idf_vect.get_feature_names()[0:10])\n",
    "print('='*127)\n",
    "\n",
    "final_tf_idf_res_train = tf_idf_vect.transform(X_train)\n",
    "print(\"the type of count vectorizer for training set: \",type(final_tf_idf_res_train))\n",
    "print(\"the shape of out text TFIDF vectorizer for training set: \",final_tf_idf_res_train.get_shape())\n",
    "print(\"the number of unique words including both unigrams and bigrams for training set: \", final_tf_idf_res_train.get_shape()[1])\n",
    "print('#'*127)\n",
    "################################################################################################################################\n",
    "#TF-IDFfor CV Set\n",
    "#tf_idf_vect = TfidfVectorizer(ngram_range=(1,2), min_df=10)\n",
    "#tf_idf_vect.fit(X_cv)\n",
    "print(\"some sample features(unique words in the corpus)\",tf_idf_vect.get_feature_names()[0:10])\n",
    "print('='*127)\n",
    "\n",
    "final_tf_idf_res_cv = tf_idf_vect.transform(X_cv)\n",
    "print(\"the type of count vectorizer for CV set: \",type(final_tf_idf_res_cv))\n",
    "print(\"the shape of out text TFIDF vectorizer for CV set: \",final_tf_idf_res_cv.get_shape())\n",
    "print(\"the number of unique words including both unigrams and bigrams for CV set: \", final_tf_idf_res_cv.get_shape()[1])\n",
    "print('#'*127)\n",
    "################################################################################################################################\n",
    "#TF-IDFfor test Set\n",
    "#tf_idf_vect = TfidfVectorizer(ngram_range=(1,2), min_df=10)\n",
    "#tf_idf_vect.fit(X_test)\n",
    "print(\"some sample features(unique words in the corpus)\",tf_idf_vect.get_feature_names()[0:10])\n",
    "print('='*127)\n",
    "\n",
    "final_tf_idf_res_test = tf_idf_vect.transform(X_test)\n",
    "print(\"the type of count vectorizer for test set: \",type(final_tf_idf_res_cv))\n",
    "print(\"the shape of out text TFIDF vectorizer for test set: \",final_tf_idf_res_test.get_shape())\n",
    "print(\"the number of unique words including both unigrams and bigrams for test set: \", final_tf_idf_res_test.get_shape()[1])\n",
    "#print('#'*127)"
   ]
  },
  {
   "cell_type": "markdown",
   "metadata": {},
   "source": [
    "## [5.4] Word2Vec"
   ]
  },
  {
   "cell_type": "code",
   "execution_count": 31,
   "metadata": {},
   "outputs": [],
   "source": [
    "# Train your own Word2Vec model using your own text corpus\n",
    "i=0\n",
    "list_of_sentance_train=[]\n",
    "for sentance in X_train:\n",
    "    list_of_sentance_train.append(sentance.split())"
   ]
  },
  {
   "cell_type": "code",
   "execution_count": 32,
   "metadata": {
    "scrolled": true
   },
   "outputs": [],
   "source": [
    "# Using Google News Word2Vectors\n",
    "\n",
    "# in this project we are using a pretrained model by google\n",
    "# its 3.3G file, once you load this into your memory \n",
    "# it occupies ~9Gb, so please do this step only if you have >12G of ram\n",
    "# we will provide a pickle file wich contains a dict , \n",
    "# and it contains all our courpus words as keys and  model[word] as values\n",
    "# To use this code-snippet, download \"GoogleNews-vectors-negative300.bin\" \n",
    "# from https://drive.google.com/file/d/0B7XkCwpI5KDYNlNUTTlSS21pQmM/edit\n",
    "# it's 1.9GB in size.\n",
    "\n",
    "\n",
    "# http://kavita-ganesan.com/gensim-word2vec-tutorial-starter-code/#.W17SRFAzZPY\n",
    "# you can comment this whole cell\n",
    "# or change these varible according to your need\n",
    "\n",
    "#is_your_ram_gt_16g=False\n",
    "#want_to_use_google_w2v = False\n",
    "#want_to_train_w2v = True\n",
    "\n",
    "#if want_to_train_w2v:\n",
    "\n",
    "#training train_data\n",
    "    # min_count = 5 considers only words that occured atleast 5 times\n",
    "w2v_model_train=Word2Vec(list_of_sentance_train,min_count=5,size=50, workers=4)\n",
    "#print(type(w2v_model))\n",
    "#print(w2v_model.wv.most_similar('great'))\n",
    "#print('='*50)\n",
    "#print(w2v_model.wv.most_similar('worst'))\n",
    "    \n",
    "#print(\"#\"*127)\n",
    "\n",
    "list_of_sentance_cv=[]\n",
    "for sentance in X_cv:\n",
    "    list_of_sentance_cv.append(sentance.split())\n",
    "\n",
    "# min_count = 5 considers only words that occured atleast 5 times\n",
    "w2v_model_cv=Word2Vec(list_of_sentance_cv,min_count=5,size=50, workers=4)\n",
    "#print(w2v_model.wv.most_similar('great'))\n",
    "#print('='*50)\n",
    "#print(w2v_model.wv.most_similar('worst'))\n",
    "    \n",
    "#print(\"#\"*127)\n",
    "    \n",
    "    \n",
    "list_of_sentance_test=[]\n",
    "for sentance in X_test:\n",
    "    list_of_sentance_test.append(sentance.split())\n",
    "\n",
    "# min_count = 5 considers only words that occured atleast 5 times\n",
    "w2v_model_test=Word2Vec(list_of_sentance_test,min_count=5,size=50, workers=4)\n",
    "#print(w2v_model.wv.most_similar('great'))\n",
    "#print('='*50)\n",
    "#print(w2v_model.wv.most_similar('worst'))\n",
    "\n",
    "#elif want_to_use_google_w2v and is_your_ram_gt_16g:\n",
    "    #if os.path.isfile('GoogleNews-vectors-negative300.bin'):\n",
    "        #w2v_model=KeyedVectors.load_word2vec_format('GoogleNews-vectors-negative300.bin', binary=True)\n",
    "        #print(w2v_model.wv.most_similar('great'))\n",
    "        #print(w2v_model.wv.most_similar('worst'))\n",
    "    #else:\n",
    "        #print(\"you don't have gogole's word2vec file, keep want_to_train_w2v = True, to train your own w2v \")"
   ]
  },
  {
   "cell_type": "code",
   "execution_count": 33,
   "metadata": {},
   "outputs": [
    {
     "name": "stdout",
     "output_type": "stream",
     "text": [
      "number of words that occured minimum 5 times in Training set 10918\n",
      "sample words in training set ['awesome', 'product', 'ordered', 'many', 'times', 'honey', 'like', 'flavored', 'lower', 'glycemic', 'sweetener', 'great', 'coffee', 'tea', 'one', 'tastiest', 'products', 'ever', 'eaten', 'husband', 'love', 'cruising', 'dish', 'perfect', 'small', 'amount', 'water', 'short', 'cooking', 'time', 'results', 'favorite', 'way', 'use', 'package', 'us', 'mix', 'salmon', 'bunch', 'capers', 'yum', 'used', 'get', 'candies', 'italian', 'deli', 'san', 'diego', 'kid', 'late']\n",
      "###############################################################################################################################\n",
      "number of words that occured minimum 5 times in CV set 6363\n",
      "sample words in CV set ['actually', 'little', 'surprised', 'good', 'tried', 'lower', 'calorie', 'peanut', 'butters', 'like', 'better', 'n', 'butter', 'think', 'called', 'spit', 'tasted', 'artificial', 'go', 'bell', 'site', 'company', 'makes', 'stuff', 'lots', 'recipes', 'look', 'appetizing', 'problem', 'powdered', 'not', 'satisfying', 'real', 'no', 'much', 'fat', 'sometimes', 'hard', 'eat', 'would', 'normal', 'taste', 'natural', 'fake', 'tasting', 'way', 'loved', 'really', 'liked', 'well']\n",
      "###############################################################################################################################\n",
      "number of words that occured minimum 5 times in Test set 6308\n",
      "sample words in test set ['great', 'stuff', 'enjoy', 'things', 'need', 'little', 'seasoning', 'far', 'superior', 'ordinary', 'table', 'salt', 'ability', 'bring', 'flavor', 'food', 'small', 'pinch', 'salts', 'needed', 'er', 'often', 'not', 'get', 'time', 'eat', 'lunch', 'work', 'keep', 'stash', 'grab', 'one', 'blood', 'sugar', 'starts', 'low', 'delicious', 'moist', 'flavorful', 'also', 'nothing', 'artificial', 'give', 'grams', 'fiber', 'highly', 'recommend', 'adore', 'brownies', 'perfect']\n"
     ]
    }
   ],
   "source": [
    "w2v_words_train = list(w2v_model_train.wv.vocab)\n",
    "print(\"number of words that occured minimum 5 times in Training set\",len(w2v_words_train))\n",
    "print(\"sample words in training set\", w2v_words_train[0:50])\n",
    "\n",
    "print(\"#\"*127)\n",
    "\n",
    "w2v_words_cv = list(w2v_model_cv.wv.vocab)\n",
    "print(\"number of words that occured minimum 5 times in CV set\",len(w2v_words_cv))\n",
    "print(\"sample words in CV set\", w2v_words_cv[0:50])\n",
    "\n",
    "print(\"#\"*127)\n",
    "\n",
    "w2v_words_test = list(w2v_model_test.wv.vocab)\n",
    "print(\"number of words that occured minimum 5 times in Test set\",len(w2v_words_test))\n",
    "print(\"sample words in test set\", w2v_words_test[0:50])"
   ]
  },
  {
   "cell_type": "markdown",
   "metadata": {},
   "source": [
    "## [4.4.1] Converting text into vectors using Avg W2V, TFIDF-W2V"
   ]
  },
  {
   "cell_type": "markdown",
   "metadata": {},
   "source": [
    "#### [4.4.1.1] Avg W2v"
   ]
  },
  {
   "cell_type": "code",
   "execution_count": 34,
   "metadata": {},
   "outputs": [
    {
     "name": "stderr",
     "output_type": "stream",
     "text": [
      "100%|███████████████████████████████████████████████████████████████████████████| 32673/32673 [00:51<00:00, 630.97it/s]\n"
     ]
    },
    {
     "name": "stdout",
     "output_type": "stream",
     "text": [
      "32673\n",
      "50\n",
      "###############################################################################################################################\n"
     ]
    },
    {
     "name": "stderr",
     "output_type": "stream",
     "text": [
      "100%|███████████████████████████████████████████████████████████████████████████| 10891/10891 [00:12<00:00, 889.90it/s]\n"
     ]
    },
    {
     "name": "stdout",
     "output_type": "stream",
     "text": [
      "10891\n",
      "50\n",
      "###############################################################################################################################\n"
     ]
    },
    {
     "name": "stderr",
     "output_type": "stream",
     "text": [
      "100%|███████████████████████████████████████████████████████████████████████████| 10892/10892 [00:11<00:00, 910.87it/s]\n"
     ]
    },
    {
     "name": "stdout",
     "output_type": "stream",
     "text": [
      "10892\n",
      "50\n"
     ]
    }
   ],
   "source": [
    "# average Word2Vec\n",
    "# compute average word2vec for each review.\n",
    "sent_vectors_train = []; # the avg-w2v for each sentence/review is stored in this list\n",
    "for sent in tqdm(list_of_sentance_train): # for each review/sentence\n",
    "    sent_vec_train = np.zeros(50) # as word vectors are of zero length 50, you might need to change this to 300 if you use google's w2v\n",
    "    cnt_words_train =0; # num of words with a valid vector in the sentence/review\n",
    "    for word in sent: # for each word in a review/sentence\n",
    "        if word in w2v_words_train:\n",
    "            vec_train = w2v_model_train.wv[word]\n",
    "            sent_vec_train += vec_train\n",
    "            cnt_words_train += 1\n",
    "    if cnt_words_train != 0:\n",
    "        sent_vec_train /= cnt_words_train\n",
    "    sent_vectors_train.append(sent_vec_train)\n",
    "print(len(sent_vectors_train))\n",
    "print(len(sent_vectors_train[0]))\n",
    "\n",
    "print(\"#\"*127)\n",
    "\n",
    "sent_vectors_cv = []; # the avg-w2v for each sentence/review is stored in this list\n",
    "for sent in tqdm(list_of_sentance_cv): # for each review/sentence\n",
    "    sent_vec_cv = np.zeros(50) # as word vectors are of zero length 50, you might need to change this to 300 if you use google's w2v\n",
    "    cnt_words_cv =0; # num of words with a valid vector in the sentence/review\n",
    "    for word in sent: # for each word in a review/sentence\n",
    "        if word in w2v_words_cv:\n",
    "            vec_cv = w2v_model_cv.wv[word]\n",
    "            sent_vec_cv += vec_cv\n",
    "            cnt_words_cv += 1\n",
    "    if cnt_words_cv != 0:\n",
    "        sent_vec_cv /= cnt_words_cv\n",
    "    sent_vectors_cv.append(sent_vec_cv)\n",
    "print(len(sent_vectors_cv))\n",
    "print(len(sent_vectors_cv[0]))\n",
    "\n",
    "print(\"#\"*127)\n",
    "\n",
    "sent_vectors_test = []; # the avg-w2v for each sentence/review is stored in this list\n",
    "for sent in tqdm(list_of_sentance_test): # for each review/sentence\n",
    "    sent_vec_test = np.zeros(50) # as word vectors are of zero length 50, you might need to change this to 300 if you use google's w2v\n",
    "    cnt_words_test =0; # num of words with a valid vector in the sentence/review\n",
    "    for word in sent: # for each word in a review/sentence\n",
    "        if word in w2v_words_test:\n",
    "            vec_test = w2v_model_test.wv[word]\n",
    "            sent_vec_test += vec_test\n",
    "            cnt_words_test += 1\n",
    "    if cnt_words_test != 0:\n",
    "        sent_vec_test /= cnt_words_test\n",
    "    sent_vectors_test.append(sent_vec_test)\n",
    "print(len(sent_vectors_test))\n",
    "print(len(sent_vectors_test[0]))\n"
   ]
  },
  {
   "cell_type": "markdown",
   "metadata": {},
   "source": [
    "#### [4.4.1.2] TFIDF weighted W2v"
   ]
  },
  {
   "cell_type": "code",
   "execution_count": 85,
   "metadata": {},
   "outputs": [],
   "source": [
    "# S = [\"abc def pqr\", \"def def def abc\", \"pqr pqr def\"]\n",
    "model = TfidfVectorizer()\n",
    "tf_idf_matrix_train = model.fit_transform(X_train)\n",
    "# we are converting a dictionary with word as a key, and the idf as a value\n",
    "dictionary = dict(zip(model.get_feature_names(), list(model.idf_)))"
   ]
  },
  {
   "cell_type": "code",
   "execution_count": 86,
   "metadata": {
    "scrolled": true
   },
   "outputs": [
    {
     "name": "stdout",
     "output_type": "stream",
     "text": [
      "For Training Set Data\n"
     ]
    },
    {
     "name": "stderr",
     "output_type": "stream",
     "text": [
      "100%|████████████████████████████████████████████████████████████████████████████| 50117/50117 [38:52<00:00, 21.49it/s]\n"
     ]
    },
    {
     "name": "stdout",
     "output_type": "stream",
     "text": [
      "###############################################################################################################################\n",
      "For CV Set Data\n"
     ]
    },
    {
     "name": "stderr",
     "output_type": "stream",
     "text": [
      "100%|████████████████████████████████████████████████████████████████████████████| 16706/16706 [15:47<00:00, 17.63it/s]\n"
     ]
    },
    {
     "name": "stdout",
     "output_type": "stream",
     "text": [
      "###############################################################################################################################\n",
      "For Test Set Data\n"
     ]
    },
    {
     "name": "stderr",
     "output_type": "stream",
     "text": [
      "100%|████████████████████████████████████████████████████████████████████████████| 16706/16706 [20:05<00:00, 13.86it/s]\n"
     ]
    }
   ],
   "source": [
    "# TF-IDF weighted Word2Vec\n",
    "tfidf_feat = model.get_feature_names() # tfidf words/col-names\n",
    "# final_tf_idf is the sparse matrix with row= sentence, col=word and cell_val = tfidf\n",
    "\n",
    "print(\"For Training Set Data\")\n",
    "\n",
    "tfidf_sent_vectors_train = []; # the tfidf-w2v for each sentence/review is stored in this list\n",
    "row_train=0;\n",
    "for sent in tqdm(list_of_sentance_train): # for each review/sentence \n",
    "    sent_vec_train = np.zeros(50) # as word vectors are of zero length\n",
    "    weight_sum_train =0; # num of words with a valid vector in the sentence/review\n",
    "    for word in sent: # for each word in a review/sentence\n",
    "        if word in w2v_words_train and word in tfidf_feat:\n",
    "            vec_train = w2v_model_train.wv[word]\n",
    "#             tf_idf = tf_idf_matrix[row, tfidf_feat.index(word)]\n",
    "            # to reduce the computation we are \n",
    "            # dictionary[word] = idf value of word in whole courpus\n",
    "            # sent.count(word) = tf valeus of word in this review\n",
    "            tf_idf_train = dictionary[word]*(sent.count(word)/len(sent))\n",
    "            sent_vec_train += (vec_train * tf_idf_train)\n",
    "            weight_sum_train += tf_idf_train\n",
    "    if weight_sum_train != 0:\n",
    "        sent_vec_train /= weight_sum_train\n",
    "    tfidf_sent_vectors_train.append(sent_vec_train)\n",
    "    row_train += 1\n",
    "    \n",
    "    \n",
    "print(\"#\"*127)\n",
    "################################################################################################################################\n",
    "print(\"For CV Set Data\")\n",
    "    \n",
    "    \n",
    "tf_idf_matrix_cv = model.fit_transform(X_cv)    \n",
    "    \n",
    "    # TF-IDF weighted Word2Vec\n",
    "\n",
    "tfidf_sent_vectors_cv = []; # the tfidf-w2v for each sentence/review is stored in this list\n",
    "row_cv=0;\n",
    "for sent in tqdm(list_of_sentance_cv): # for each review/sentence \n",
    "    sent_vec_cv = np.zeros(50) # as word vectors are of zero length\n",
    "    weight_sum_cv =0; # num of words with a valid vector in the sentence/review\n",
    "    for word in sent: # for each word in a review/sentence\n",
    "        if word in w2v_words_cv and word in tfidf_feat:\n",
    "            vec_cv = w2v_model_cv.wv[word]\n",
    "#             tf_idf = tf_idf_matrix[row, tfidf_feat.index(word)]\n",
    "            # to reduce the computation we are \n",
    "            # dictionary[word] = idf value of word in whole courpus\n",
    "            # sent.count(word) = tf valeus of word in this review\n",
    "            tf_idf_cv = dictionary[word]*(sent.count(word)/len(sent))\n",
    "            sent_vec_cv += (vec_cv * tf_idf_cv)\n",
    "            weight_sum_cv += tf_idf_cv\n",
    "    if weight_sum_cv != 0:\n",
    "        sent_vec_cv /= weight_sum_cv\n",
    "    tfidf_sent_vectors_cv.append(sent_vec_cv)\n",
    "    row_cv += 1\n",
    "    \n",
    "print(\"#\"*127)\n",
    "\n",
    "################################################################################################################################\n",
    "print(\"For Test Set Data\")\n",
    "\n",
    "\n",
    "tf_idf_matrix_test = model.fit_transform(X_test)    \n",
    "    \n",
    "    # TF-IDF weighted Word2Vec\n",
    "\n",
    "tfidf_sent_vectors_test = []; # the tfidf-w2v for each sentence/review is stored in this list\n",
    "row_test=0;\n",
    "for sent in tqdm(list_of_sentance_test): # for each review/sentence \n",
    "    sent_vec_test = np.zeros(50) # as word vectors are of zero length\n",
    "    weight_sum_test =0; # num of words with a valid vector in the sentence/review\n",
    "    for word in sent: # for each word in a review/sentence\n",
    "        if word in w2v_words_test and word in tfidf_feat:\n",
    "            vec_test = w2v_model_test.wv[word]\n",
    "#             tf_idf = tf_idf_matrix[row, tfidf_feat.index(word)]\n",
    "            # to reduce the computation we are \n",
    "            # dictionary[word] = idf value of word in whole courpus\n",
    "            # sent.count(word) = tf valeus of word in this review\n",
    "            tf_idf_test = dictionary[word]*(sent.count(word)/len(sent))\n",
    "            sent_vec_test += (vec_test * tf_idf_test)\n",
    "            weight_sum_test += tf_idf_test\n",
    "    if weight_sum_test != 0:\n",
    "        sent_vec_test /= weight_sum_test\n",
    "    tfidf_sent_vectors_test.append(sent_vec_test)\n",
    "    row_test += 1\n",
    "    \n"
   ]
  },
  {
   "cell_type": "markdown",
   "metadata": {},
   "source": [
    "# [5] Assignment 3: KNN"
   ]
  },
  {
   "cell_type": "markdown",
   "metadata": {},
   "source": [
    "<ol>\n",
    "    <li><strong>Apply Knn(brute force version) on these feature sets</strong>\n",
    "        <ul>\n",
    "            <li><font color='red'>SET 1:</font>Review text, preprocessed one converted into vectors using (BOW)</li>\n",
    "            <li><font color='red'>SET 2:</font>Review text, preprocessed one converted into vectors using (TFIDF)</li>\n",
    "            <li><font color='red'>SET 3:</font>Review text, preprocessed one converted into vectors using (AVG W2v)</li>\n",
    "            <li><font color='red'>SET 4:</font>Review text, preprocessed one converted into vectors using (TFIDF W2v)</li>\n",
    "        </ul>\n",
    "    </li>\n",
    "    <br>\n",
    "    <li><strong>Apply Knn(kd tree version) on these feature sets</strong>\n",
    "        <br><font color='red'>NOTE: </font>sklearn implementation of kd-tree accepts only dense matrices, you need to convert the sparse matrices of CountVectorizer/TfidfVectorizer into dense matices. You can convert sparse matrices to dense using .toarray() attribute. For more information please visit this <a href='https://docs.scipy.org/doc/scipy-0.18.1/reference/generated/scipy.sparse.csr_matrix.toarray.html'>link</a>\n",
    "        <ul>\n",
    "            <li><font color='red'>SET 5:</font>Review text, preprocessed one converted into vectors using (BOW) but with restriction on maximum features generated.\n",
    "            <pre>\n",
    "            count_vect = CountVectorizer(min_df=10, max_features=500) \n",
    "            count_vect.fit(preprocessed_reviews)\n",
    "            </pre>\n",
    "            </li>\n",
    "            <li><font color='red'>SET 6:</font>Review text, preprocessed one converted into vectors using (TFIDF) but with restriction on maximum features generated.\n",
    "            <pre>\n",
    "                tf_idf_vect = TfidfVectorizer(min_df=10, max_features=500)\n",
    "                tf_idf_vect.fit(preprocessed_reviews)\n",
    "            </pre>\n",
    "            </li>\n",
    "            <li><font color='red'>SET 3:</font>Review text, preprocessed one converted into vectors using (AVG W2v)</li>\n",
    "            <li><font color='red'>SET 4:</font>Review text, preprocessed one converted into vectors using (TFIDF W2v)</li>\n",
    "        </ul>\n",
    "    </li>\n",
    "    <br>\n",
    "    <li><strong>The hyper paramter tuning(find best K)</strong>\n",
    "        <ul>\n",
    "    <li>Find the best hyper parameter which will give the maximum <a href='https://www.appliedaicourse.com/course/applied-ai-course-online/lessons/receiver-operating-characteristic-curve-roc-curve-and-auc-1/'>AUC</a> value</li>\n",
    "    <li>Find the best hyper paramter using k-fold cross validation or simple cross validation data</li>\n",
    "    <li>Use gridsearch cv or randomsearch cv or you can also write your own for loops to do this task of hyperparameter tuning</li>\n",
    "        </ul>\n",
    "    </li>\n",
    "    <br>\n",
    "    <li>\n",
    "    <strong>Representation of results</strong>\n",
    "        <ul>\n",
    "    <li>You need to plot the performance of model both on train data and cross validation data for each hyper parameter, like shown in the figure\n",
    "    <img src='train_cv_auc.JPG' width=300px></li>\n",
    "    <li>Once after you found the best hyper parameter, you need to train your model with it, and find the AUC on test data and plot the ROC curve on both train and test.\n",
    "    <img src='train_test_auc.JPG' width=300px></li>\n",
    "    <li>Along with plotting ROC curve, you need to print the <a href='https://www.appliedaicourse.com/course/applied-ai-course-online/lessons/confusion-matrix-tpr-fpr-fnr-tnr-1/'>confusion matrix</a> with predicted and original labels of test data points\n",
    "    <img src='confusion_matrix.png' width=300px></li>\n",
    "        </ul>\n",
    "    </li>\n",
    "    <br>\n",
    "    <li><strong>Conclusion</strong>\n",
    "        <ul>\n",
    "    <li>You need to summarize the results at the end of the notebook, summarize it in the table format. To print out a table please refer to this prettytable library<a href='http://zetcode.com/python/prettytable/'> link</a> \n",
    "        <img src='summary.JPG' width=400px>\n",
    "    </li>\n",
    "        </ul>\n",
    "</ol>"
   ]
  },
  {
   "cell_type": "markdown",
   "metadata": {},
   "source": [
    "<h4><font color='red'>Note: Data Leakage</font></h4>\n",
    "\n",
    "1. There will be an issue of data-leakage if you vectorize the entire data and then split it into train/cv/test.\n",
    "2. To avoid the issue of data-leakag, make sure to split your data first and then vectorize it. \n",
    "3. While vectorizing your data, apply the method fit_transform() on you train data, and apply the method transform() on cv/test data.\n",
    "4. For more details please go through this <a href='https://soundcloud.com/applied-ai-course/leakage-bow-and-tfidf'>link.</a>"
   ]
  },
  {
   "cell_type": "markdown",
   "metadata": {},
   "source": [
    "## [5.1] Applying KNN brute force"
   ]
  },
  {
   "cell_type": "markdown",
   "metadata": {},
   "source": [
    "### [5.1.1] Applying KNN brute force on BOW,<font color='red'> SET 1</font>"
   ]
  },
  {
   "cell_type": "code",
   "execution_count": 35,
   "metadata": {},
   "outputs": [
    {
     "ename": "MemoryError",
     "evalue": "",
     "output_type": "error",
     "traceback": [
      "\u001b[1;31m---------------------------------------------------------------------------\u001b[0m",
      "\u001b[1;31mMemoryError\u001b[0m                               Traceback (most recent call last)",
      "\u001b[1;32m<ipython-input-35-ac2238df4cb9>\u001b[0m in \u001b[0;36m<module>\u001b[1;34m()\u001b[0m\n\u001b[0;32m     26\u001b[0m     \u001b[0mknn\u001b[0m\u001b[1;33m.\u001b[0m\u001b[0mfit\u001b[0m\u001b[1;33m(\u001b[0m\u001b[0mfinal_counts_train\u001b[0m\u001b[1;33m,\u001b[0m \u001b[0mY_train\u001b[0m\u001b[1;33m)\u001b[0m\u001b[1;33m\u001b[0m\u001b[0m\n\u001b[0;32m     27\u001b[0m \u001b[1;33m\u001b[0m\u001b[0m\n\u001b[1;32m---> 28\u001b[1;33m     \u001b[0mBOWpred_train\u001b[0m \u001b[1;33m=\u001b[0m \u001b[0mknn\u001b[0m\u001b[1;33m.\u001b[0m\u001b[0mpredict\u001b[0m\u001b[1;33m(\u001b[0m\u001b[0mfinal_counts_train\u001b[0m\u001b[1;33m)\u001b[0m\u001b[1;33m\u001b[0m\u001b[0m\n\u001b[0m\u001b[0;32m     29\u001b[0m \u001b[1;33m\u001b[0m\u001b[0m\n\u001b[0;32m     30\u001b[0m     \u001b[0mBOWpred_cv\u001b[0m \u001b[1;33m=\u001b[0m \u001b[0mknn\u001b[0m\u001b[1;33m.\u001b[0m\u001b[0mpredict\u001b[0m\u001b[1;33m(\u001b[0m\u001b[0mfinal_counts_cv\u001b[0m\u001b[1;33m)\u001b[0m\u001b[1;33m\u001b[0m\u001b[0m\n",
      "\u001b[1;32m~\\Anaconda3\\lib\\site-packages\\sklearn\\neighbors\\classification.py\u001b[0m in \u001b[0;36mpredict\u001b[1;34m(self, X)\u001b[0m\n\u001b[0;32m    143\u001b[0m         \u001b[0mX\u001b[0m \u001b[1;33m=\u001b[0m \u001b[0mcheck_array\u001b[0m\u001b[1;33m(\u001b[0m\u001b[0mX\u001b[0m\u001b[1;33m,\u001b[0m \u001b[0maccept_sparse\u001b[0m\u001b[1;33m=\u001b[0m\u001b[1;34m'csr'\u001b[0m\u001b[1;33m)\u001b[0m\u001b[1;33m\u001b[0m\u001b[0m\n\u001b[0;32m    144\u001b[0m \u001b[1;33m\u001b[0m\u001b[0m\n\u001b[1;32m--> 145\u001b[1;33m         \u001b[0mneigh_dist\u001b[0m\u001b[1;33m,\u001b[0m \u001b[0mneigh_ind\u001b[0m \u001b[1;33m=\u001b[0m \u001b[0mself\u001b[0m\u001b[1;33m.\u001b[0m\u001b[0mkneighbors\u001b[0m\u001b[1;33m(\u001b[0m\u001b[0mX\u001b[0m\u001b[1;33m)\u001b[0m\u001b[1;33m\u001b[0m\u001b[0m\n\u001b[0m\u001b[0;32m    146\u001b[0m \u001b[1;33m\u001b[0m\u001b[0m\n\u001b[0;32m    147\u001b[0m         \u001b[0mclasses_\u001b[0m \u001b[1;33m=\u001b[0m \u001b[0mself\u001b[0m\u001b[1;33m.\u001b[0m\u001b[0mclasses_\u001b[0m\u001b[1;33m\u001b[0m\u001b[0m\n",
      "\u001b[1;32m~\\Anaconda3\\lib\\site-packages\\sklearn\\neighbors\\base.py\u001b[0m in \u001b[0;36mkneighbors\u001b[1;34m(self, X, n_neighbors, return_distance)\u001b[0m\n\u001b[0;32m    355\u001b[0m             \u001b[1;32mif\u001b[0m \u001b[0mself\u001b[0m\u001b[1;33m.\u001b[0m\u001b[0meffective_metric_\u001b[0m \u001b[1;33m==\u001b[0m \u001b[1;34m'euclidean'\u001b[0m\u001b[1;33m:\u001b[0m\u001b[1;33m\u001b[0m\u001b[0m\n\u001b[0;32m    356\u001b[0m                 dist = pairwise_distances(X, self._fit_X, 'euclidean',\n\u001b[1;32m--> 357\u001b[1;33m                                           n_jobs=n_jobs, squared=True)\n\u001b[0m\u001b[0;32m    358\u001b[0m             \u001b[1;32melse\u001b[0m\u001b[1;33m:\u001b[0m\u001b[1;33m\u001b[0m\u001b[0m\n\u001b[0;32m    359\u001b[0m                 dist = pairwise_distances(\n",
      "\u001b[1;32m~\\Anaconda3\\lib\\site-packages\\sklearn\\metrics\\pairwise.py\u001b[0m in \u001b[0;36mpairwise_distances\u001b[1;34m(X, Y, metric, n_jobs, **kwds)\u001b[0m\n\u001b[0;32m   1245\u001b[0m         \u001b[0mfunc\u001b[0m \u001b[1;33m=\u001b[0m \u001b[0mpartial\u001b[0m\u001b[1;33m(\u001b[0m\u001b[0mdistance\u001b[0m\u001b[1;33m.\u001b[0m\u001b[0mcdist\u001b[0m\u001b[1;33m,\u001b[0m \u001b[0mmetric\u001b[0m\u001b[1;33m=\u001b[0m\u001b[0mmetric\u001b[0m\u001b[1;33m,\u001b[0m \u001b[1;33m**\u001b[0m\u001b[0mkwds\u001b[0m\u001b[1;33m)\u001b[0m\u001b[1;33m\u001b[0m\u001b[0m\n\u001b[0;32m   1246\u001b[0m \u001b[1;33m\u001b[0m\u001b[0m\n\u001b[1;32m-> 1247\u001b[1;33m     \u001b[1;32mreturn\u001b[0m \u001b[0m_parallel_pairwise\u001b[0m\u001b[1;33m(\u001b[0m\u001b[0mX\u001b[0m\u001b[1;33m,\u001b[0m \u001b[0mY\u001b[0m\u001b[1;33m,\u001b[0m \u001b[0mfunc\u001b[0m\u001b[1;33m,\u001b[0m \u001b[0mn_jobs\u001b[0m\u001b[1;33m,\u001b[0m \u001b[1;33m**\u001b[0m\u001b[0mkwds\u001b[0m\u001b[1;33m)\u001b[0m\u001b[1;33m\u001b[0m\u001b[0m\n\u001b[0m\u001b[0;32m   1248\u001b[0m \u001b[1;33m\u001b[0m\u001b[0m\n\u001b[0;32m   1249\u001b[0m \u001b[1;33m\u001b[0m\u001b[0m\n",
      "\u001b[1;32m~\\Anaconda3\\lib\\site-packages\\sklearn\\metrics\\pairwise.py\u001b[0m in \u001b[0;36m_parallel_pairwise\u001b[1;34m(X, Y, func, n_jobs, **kwds)\u001b[0m\n\u001b[0;32m   1088\u001b[0m     \u001b[1;32mif\u001b[0m \u001b[0mn_jobs\u001b[0m \u001b[1;33m==\u001b[0m \u001b[1;36m1\u001b[0m\u001b[1;33m:\u001b[0m\u001b[1;33m\u001b[0m\u001b[0m\n\u001b[0;32m   1089\u001b[0m         \u001b[1;31m# Special case to avoid picklability checks in delayed\u001b[0m\u001b[1;33m\u001b[0m\u001b[1;33m\u001b[0m\u001b[0m\n\u001b[1;32m-> 1090\u001b[1;33m         \u001b[1;32mreturn\u001b[0m \u001b[0mfunc\u001b[0m\u001b[1;33m(\u001b[0m\u001b[0mX\u001b[0m\u001b[1;33m,\u001b[0m \u001b[0mY\u001b[0m\u001b[1;33m,\u001b[0m \u001b[1;33m**\u001b[0m\u001b[0mkwds\u001b[0m\u001b[1;33m)\u001b[0m\u001b[1;33m\u001b[0m\u001b[0m\n\u001b[0m\u001b[0;32m   1091\u001b[0m \u001b[1;33m\u001b[0m\u001b[0m\n\u001b[0;32m   1092\u001b[0m     \u001b[1;31m# TODO: in some cases, backend='threading' may be appropriate\u001b[0m\u001b[1;33m\u001b[0m\u001b[1;33m\u001b[0m\u001b[0m\n",
      "\u001b[1;32m~\\Anaconda3\\lib\\site-packages\\sklearn\\metrics\\pairwise.py\u001b[0m in \u001b[0;36meuclidean_distances\u001b[1;34m(X, Y, Y_norm_squared, squared, X_norm_squared)\u001b[0m\n\u001b[0;32m    244\u001b[0m         \u001b[0mYY\u001b[0m \u001b[1;33m=\u001b[0m \u001b[0mrow_norms\u001b[0m\u001b[1;33m(\u001b[0m\u001b[0mY\u001b[0m\u001b[1;33m,\u001b[0m \u001b[0msquared\u001b[0m\u001b[1;33m=\u001b[0m\u001b[1;32mTrue\u001b[0m\u001b[1;33m)\u001b[0m\u001b[1;33m[\u001b[0m\u001b[0mnp\u001b[0m\u001b[1;33m.\u001b[0m\u001b[0mnewaxis\u001b[0m\u001b[1;33m,\u001b[0m \u001b[1;33m:\u001b[0m\u001b[1;33m]\u001b[0m\u001b[1;33m\u001b[0m\u001b[0m\n\u001b[0;32m    245\u001b[0m \u001b[1;33m\u001b[0m\u001b[0m\n\u001b[1;32m--> 246\u001b[1;33m     \u001b[0mdistances\u001b[0m \u001b[1;33m=\u001b[0m \u001b[0msafe_sparse_dot\u001b[0m\u001b[1;33m(\u001b[0m\u001b[0mX\u001b[0m\u001b[1;33m,\u001b[0m \u001b[0mY\u001b[0m\u001b[1;33m.\u001b[0m\u001b[0mT\u001b[0m\u001b[1;33m,\u001b[0m \u001b[0mdense_output\u001b[0m\u001b[1;33m=\u001b[0m\u001b[1;32mTrue\u001b[0m\u001b[1;33m)\u001b[0m\u001b[1;33m\u001b[0m\u001b[0m\n\u001b[0m\u001b[0;32m    247\u001b[0m     \u001b[0mdistances\u001b[0m \u001b[1;33m*=\u001b[0m \u001b[1;33m-\u001b[0m\u001b[1;36m2\u001b[0m\u001b[1;33m\u001b[0m\u001b[0m\n\u001b[0;32m    248\u001b[0m     \u001b[0mdistances\u001b[0m \u001b[1;33m+=\u001b[0m \u001b[0mXX\u001b[0m\u001b[1;33m\u001b[0m\u001b[0m\n",
      "\u001b[1;32m~\\Anaconda3\\lib\\site-packages\\sklearn\\utils\\extmath.py\u001b[0m in \u001b[0;36msafe_sparse_dot\u001b[1;34m(a, b, dense_output)\u001b[0m\n\u001b[0;32m    135\u001b[0m         \u001b[0mret\u001b[0m \u001b[1;33m=\u001b[0m \u001b[0ma\u001b[0m \u001b[1;33m*\u001b[0m \u001b[0mb\u001b[0m\u001b[1;33m\u001b[0m\u001b[0m\n\u001b[0;32m    136\u001b[0m         \u001b[1;32mif\u001b[0m \u001b[0mdense_output\u001b[0m \u001b[1;32mand\u001b[0m \u001b[0mhasattr\u001b[0m\u001b[1;33m(\u001b[0m\u001b[0mret\u001b[0m\u001b[1;33m,\u001b[0m \u001b[1;34m\"toarray\"\u001b[0m\u001b[1;33m)\u001b[0m\u001b[1;33m:\u001b[0m\u001b[1;33m\u001b[0m\u001b[0m\n\u001b[1;32m--> 137\u001b[1;33m             \u001b[0mret\u001b[0m \u001b[1;33m=\u001b[0m \u001b[0mret\u001b[0m\u001b[1;33m.\u001b[0m\u001b[0mtoarray\u001b[0m\u001b[1;33m(\u001b[0m\u001b[1;33m)\u001b[0m\u001b[1;33m\u001b[0m\u001b[0m\n\u001b[0m\u001b[0;32m    138\u001b[0m         \u001b[1;32mreturn\u001b[0m \u001b[0mret\u001b[0m\u001b[1;33m\u001b[0m\u001b[0m\n\u001b[0;32m    139\u001b[0m     \u001b[1;32melse\u001b[0m\u001b[1;33m:\u001b[0m\u001b[1;33m\u001b[0m\u001b[0m\n",
      "\u001b[1;32m~\\Anaconda3\\lib\\site-packages\\scipy\\sparse\\compressed.py\u001b[0m in \u001b[0;36mtoarray\u001b[1;34m(self, order, out)\u001b[0m\n\u001b[0;32m    945\u001b[0m         \u001b[1;32mif\u001b[0m \u001b[0mout\u001b[0m \u001b[1;32mis\u001b[0m \u001b[1;32mNone\u001b[0m \u001b[1;32mand\u001b[0m \u001b[0morder\u001b[0m \u001b[1;32mis\u001b[0m \u001b[1;32mNone\u001b[0m\u001b[1;33m:\u001b[0m\u001b[1;33m\u001b[0m\u001b[0m\n\u001b[0;32m    946\u001b[0m             \u001b[0morder\u001b[0m \u001b[1;33m=\u001b[0m \u001b[0mself\u001b[0m\u001b[1;33m.\u001b[0m\u001b[0m_swap\u001b[0m\u001b[1;33m(\u001b[0m\u001b[1;34m'cf'\u001b[0m\u001b[1;33m)\u001b[0m\u001b[1;33m[\u001b[0m\u001b[1;36m0\u001b[0m\u001b[1;33m]\u001b[0m\u001b[1;33m\u001b[0m\u001b[0m\n\u001b[1;32m--> 947\u001b[1;33m         \u001b[0mout\u001b[0m \u001b[1;33m=\u001b[0m \u001b[0mself\u001b[0m\u001b[1;33m.\u001b[0m\u001b[0m_process_toarray_args\u001b[0m\u001b[1;33m(\u001b[0m\u001b[0morder\u001b[0m\u001b[1;33m,\u001b[0m \u001b[0mout\u001b[0m\u001b[1;33m)\u001b[0m\u001b[1;33m\u001b[0m\u001b[0m\n\u001b[0m\u001b[0;32m    948\u001b[0m         \u001b[1;32mif\u001b[0m \u001b[1;32mnot\u001b[0m \u001b[1;33m(\u001b[0m\u001b[0mout\u001b[0m\u001b[1;33m.\u001b[0m\u001b[0mflags\u001b[0m\u001b[1;33m.\u001b[0m\u001b[0mc_contiguous\u001b[0m \u001b[1;32mor\u001b[0m \u001b[0mout\u001b[0m\u001b[1;33m.\u001b[0m\u001b[0mflags\u001b[0m\u001b[1;33m.\u001b[0m\u001b[0mf_contiguous\u001b[0m\u001b[1;33m)\u001b[0m\u001b[1;33m:\u001b[0m\u001b[1;33m\u001b[0m\u001b[0m\n\u001b[0;32m    949\u001b[0m             \u001b[1;32mraise\u001b[0m \u001b[0mValueError\u001b[0m\u001b[1;33m(\u001b[0m\u001b[1;34m'Output array must be C or F contiguous'\u001b[0m\u001b[1;33m)\u001b[0m\u001b[1;33m\u001b[0m\u001b[0m\n",
      "\u001b[1;32m~\\Anaconda3\\lib\\site-packages\\scipy\\sparse\\base.py\u001b[0m in \u001b[0;36m_process_toarray_args\u001b[1;34m(self, order, out)\u001b[0m\n\u001b[0;32m   1182\u001b[0m             \u001b[1;32mreturn\u001b[0m \u001b[0mout\u001b[0m\u001b[1;33m\u001b[0m\u001b[0m\n\u001b[0;32m   1183\u001b[0m         \u001b[1;32melse\u001b[0m\u001b[1;33m:\u001b[0m\u001b[1;33m\u001b[0m\u001b[0m\n\u001b[1;32m-> 1184\u001b[1;33m             \u001b[1;32mreturn\u001b[0m \u001b[0mnp\u001b[0m\u001b[1;33m.\u001b[0m\u001b[0mzeros\u001b[0m\u001b[1;33m(\u001b[0m\u001b[0mself\u001b[0m\u001b[1;33m.\u001b[0m\u001b[0mshape\u001b[0m\u001b[1;33m,\u001b[0m \u001b[0mdtype\u001b[0m\u001b[1;33m=\u001b[0m\u001b[0mself\u001b[0m\u001b[1;33m.\u001b[0m\u001b[0mdtype\u001b[0m\u001b[1;33m,\u001b[0m \u001b[0morder\u001b[0m\u001b[1;33m=\u001b[0m\u001b[0morder\u001b[0m\u001b[1;33m)\u001b[0m\u001b[1;33m\u001b[0m\u001b[0m\n\u001b[0m\u001b[0;32m   1185\u001b[0m \u001b[1;33m\u001b[0m\u001b[0m\n\u001b[0;32m   1186\u001b[0m \u001b[1;33m\u001b[0m\u001b[0m\n",
      "\u001b[1;31mMemoryError\u001b[0m: "
     ]
    }
   ],
   "source": [
    "# Please write all the code with proper documentation\n",
    "\n",
    "from matplotlib import pyplot as plt\n",
    "from sklearn.neighbors import KNeighborsClassifier\n",
    "from sklearn import cross_validation\n",
    "from sklearn.metrics import roc_auc_score\n",
    "from sklearn.metrics import confusion_matrix\n",
    "from prettytable import PrettyTable\n",
    "import seaborn as sns; sns.set()\n",
    "\n",
    "\n",
    "hyperparameter_BOW = []\n",
    "\n",
    "auc_scoresBOW_train = []\n",
    "\n",
    "auc_scoresBOW_cv = []\n",
    "\n",
    "table1_BOW = PrettyTable()\n",
    "\n",
    "table1_BOW.field_names = [\"Hyperparameter\", \"AUC_Train\", \"AUC_CV\"]\n",
    "\n",
    "for i in range(1,30,2):\n",
    "  \n",
    "    knn = KNeighborsClassifier( n_neighbors = i)\n",
    "    \n",
    "    knn.fit(final_counts_train, Y_train)\n",
    "       \n",
    "    BOWpred_train = knn.predict(final_counts_train)\n",
    "        \n",
    "    BOWpred_cv = knn.predict(final_counts_cv)\n",
    "    \n",
    "    hyperparameter_BOW.append(i)\n",
    "    \n",
    "    auc_scoreBOW_train = roc_auc_score(Y_train, BOWpred_train)\n",
    "    auc_scoresBOW_train.append(auc_scoreBOW_train)\n",
    "    \n",
    "    auc_scoreBOW_cv = roc_auc_score(Y_cv, BOWpred_cv)\n",
    "    auc_scoresBOW_cv.append(auc_scoreBOW_cv)\n",
    "    \n",
    "    table1_BOW.add_row([i,auc_scoreBOW_train, auc_scoreBOW_cv])\n",
    "\n",
    "    \n",
    "plt.plot(hyperparameter_BOW, auc_scoresBOW_train, 'r',label = 'Training Set')\n",
    "plt.plot( hyperparameter_BOW, auc_scoresBOW_cv, 'blue', label = 'CV Set')\n",
    "plt.title(\"Performance of model on CV\")\n",
    "plt.xlabel(\"Hyperparameter\")\n",
    "plt.ylabel(\"Area under ROC Score\")\n",
    "plt.legend()\n",
    "plt.show()\n",
    "\n",
    "print(table1_BOW)\n",
    "\n",
    "#print(\"from the plot the optimal K is 1\")\n",
    "#print(\"AUC for training set for K = 1: \" + str(auc_scoresBOW_train[0]))\n",
    "#print(\"AUC for CV set for K = 1: \" + str(auc_scoresBOW_cv[0]))\n",
    "\n",
    "\n",
    "#knn = KNeighborsClassifier(n_neighbors = 1)\n",
    "\n",
    "#knn.fit(final_counts_train, Y_train)\n",
    "\n",
    "#BOWpred_train = knn.predict(final_counts_train)\n",
    "\n",
    "#BOWpred_test = knn.predict(final_counts_test)\n",
    "\n",
    "#BOWfpr_train, BOWtpr_train, BOWthrshold_train = roc_curve(Y_train, BOWpred_train)\n",
    "\n",
    "#BOWfpr_test, BOWtpr_test, BOWthrshold_test = roc_curve(Y_test, BOWpred_test)\n",
    "\n",
    "\n",
    "#plt.plot(BOWfpr_train,BOWtpr_train,'r', label=\"Training Set\")\n",
    "#plt.plot(BOWfpr_test,BOWtpr_test, 'blue', label = \"Test Set\")\n",
    "#plt.title(\"ROC Curve for optimal K\")\n",
    "#plt.xlabel(\"FPR\")\n",
    "#plt.ylabel(\"TPR\")\n",
    "#plt.legend()\n",
    "#plt.show()\n",
    "\n",
    "#cm_train = confusion_matrix(Y_train,BOWpred_train)\n",
    "\n",
    "#sns.heatmap(cm, annot = True)\n",
    "\n",
    "#cm_test = confusion_matrix(Y_test,BOWpred_test)\n",
    "\n",
    "#sns.heatmap(cm, annot = True)\n",
    "\n",
    "#table2_BOW = PrettyTable()\n",
    "\n",
    "#table2_BOW.field_names = [\"     \", \"Predicted: NO\", \"Predicted: Yes\"]\n",
    "\n",
    "#table2_BOW.add_row([\"Actual:NO\", cm[0][0], cm[0][1]])\n",
    "#table2_BOW.add_row([\"Actual: Yes\", cm[1][0], cm[1][1]])\n",
    "#print(table2_BOW)"
   ]
  },
  {
   "cell_type": "markdown",
   "metadata": {},
   "source": [
    "### [5.1.2] Applying KNN brute force on TFIDF,<font color='red'> SET 2</font>"
   ]
  },
  {
   "cell_type": "code",
   "execution_count": 107,
   "metadata": {},
   "outputs": [
    {
     "data": {
      "image/png": "[encoded data removed]",
      "text/plain": [
       "<Figure size 432x288 with 1 Axes>"
      ]
     },
     "metadata": {},
     "output_type": "display_data"
    },
    {
     "name": "stdout",
     "output_type": "stream",
     "text": [
      "+----------------+--------------------+--------------------+\n",
      "| Hyperparameter |     AUC_Train      |       AUC_CV       |\n",
      "+----------------+--------------------+--------------------+\n",
      "|       1        |        1.0         | 0.5246188031568462 |\n",
      "|       3        | 0.511794961887194  | 0.5096774193548388 |\n",
      "|       5        | 0.5008161801305888 |        0.5         |\n",
      "|       7        |        0.5         |        0.5         |\n",
      "|       9        |        0.5         |        0.5         |\n",
      "|       11       |        0.5         |        0.5         |\n",
      "|       13       |        0.5         |        0.5         |\n",
      "|       15       |        0.5         |        0.5         |\n",
      "|       17       |        0.5         |        0.5         |\n",
      "|       19       |        0.5         |        0.5         |\n",
      "|       21       |        0.5         |        0.5         |\n",
      "|       23       |        0.5         |        0.5         |\n",
      "|       25       |        0.5         |        0.5         |\n",
      "|       27       |        0.5         |        0.5         |\n",
      "|       29       |        0.5         |        0.5         |\n",
      "+----------------+--------------------+--------------------+\n",
      "from the plot the optimal K is 1\n",
      "AUC for training set for K = 1: 1.0\n",
      "AUC for CV set for K = 1: 0.5911079610757797\n"
     ]
    },
    {
     "data": {
      "image/png": "[encoded data removed]",
      "text/plain": [
       "<Figure size 432x288 with 1 Axes>"
      ]
     },
     "metadata": {},
     "output_type": "display_data"
    },
    {
     "name": "stdout",
     "output_type": "stream",
     "text": [
      "+-------------+---------------+----------------+\n",
      "|             | Predicted: NO | Predicted: Yes |\n",
      "+-------------+---------------+----------------+\n",
      "|  Actual:NO  |       5       |      156       |\n",
      "| Actual: Yes |       1       |      836       |\n",
      "+-------------+---------------+----------------+\n"
     ]
    }
   ],
   "source": [
    "# Please write all the code with proper documentation\n",
    "\n",
    "\n",
    "hyperparameter_TFIDF = []\n",
    "\n",
    "auc_scoresTFIDF_train = []\n",
    "\n",
    "\n",
    "auc_scoresTFIDF_cv = []\n",
    "\n",
    "table1_TFIDF = PrettyTable()\n",
    "\n",
    "table1_TFIDF.field_names = [\"Hyperparameter\", \"AUC_Train\", \"AUC_CV\"]\n",
    "\n",
    "#print(type(final_tf_idf_train))\n",
    "#print(str(final_tf_idf_train.get_shape()))\n",
    "\n",
    "for i in range(1,30,2):\n",
    "  \n",
    "    knn = KNeighborsClassifier( n_neighbors = i)\n",
    "    \n",
    "    knn.fit(final_tf_idf_train, Y_train)\n",
    "       \n",
    "    TFIDFpred_train = knn.predict(final_tf_idf_train)\n",
    "        \n",
    "    TFIDFpred_cv = knn.predict(final_tf_idf_cv)\n",
    "    \n",
    "    hyperparameter_TFIDF.append(i)\n",
    "    \n",
    "    auc_scoreTFIDF_train = roc_auc_score(Y_train, TFIDFpred_train)\n",
    "    auc_scoresTFIDF_train.append(auc_scoreTFIDF_train)\n",
    "    \n",
    "    auc_scoreTFIDF_cv = roc_auc_score(Y_cv, TFIDFpred_cv)\n",
    "    auc_scoresTFIDF_cv.append(auc_scoreTFIDF_cv)\n",
    "    \n",
    "    table1_TFIDF.add_row([i,auc_scoreTFIDF_train, auc_scoreTFIDF_cv])\n",
    "\n",
    "    \n",
    "plt.plot(hyperparameter_TFIDF, auc_scoresTFIDF_train, 'r',label = 'Training Set')\n",
    "plt.plot( hyperparameter_TFIDF, auc_scoresTFIDF_cv, 'blue', label = 'CV Set')\n",
    "plt.title(\"Performance model on CV\")\n",
    "plt.xlabel(\"Hyperparameter\")\n",
    "plt.ylabel(\"Area under ROC Score\")\n",
    "plt.legend()\n",
    "plt.show()\n",
    "\n",
    "print(table1_TFIDF)\n",
    "\n",
    "\n",
    "print(\"from the plot the optimal K is 1\")\n",
    "print(\"AUC for training set for K = 1: \" + str(auc_scoresBOW_train[0]))\n",
    "print(\"AUC for CV set for K = 1: \" + str(auc_scoresBOW_cv[0]))\n",
    "\n",
    "\n",
    "\n",
    "\n",
    "\n",
    "knn = KNeighborsClassifier(n_neighbors = 1)\n",
    "\n",
    "knn.fit(final_tf_idf_train, Y_train)\n",
    "\n",
    "TFIDFpred_train = knn.predict(final_tf_idf_train)\n",
    "\n",
    "TFIDFpred_test = knn.predict(final_tf_idf_test)\n",
    "\n",
    "TFIDFfpr_train, TFIDFtpr_train, TFIDFthrshold_train = roc_curve(Y_train, TFIDFpred_train)\n",
    "\n",
    "TFIDFfpr_test, TFIDFtpr_test, TFIDFthrshold_test = roc_curve(Y_test, TFIDFpred_test)\n",
    "\n",
    "\n",
    "plt.plot(TFIDFfpr_train,TFIDFtpr_train,'r', label=\"Training Set\")\n",
    "plt.plot(TFIDFfpr_test,TFIDFtpr_test, 'blue', label = \"Test Set\")\n",
    "plt.title(\"ROC Curve for Optimal K\")\n",
    "plt.xlabel(\"FPR\")\n",
    "plt.ylabel(\"TPR\")\n",
    "plt.legend()\n",
    "plt.show()\n",
    "\n",
    "cm = confusion_matrix(Y_test,TFIDFpred_test)\n",
    "\n",
    "\n",
    "table2_TFIDF = PrettyTable()\n",
    "\n",
    "table2_TFIDF.field_names = [\"     \", \"Predicted: NO\", \"Predicted: Yes\"]\n",
    "\n",
    "table2_TFIDF.add_row([\"Actual:NO\", cm[0][0], cm[0][1]])\n",
    "table2_TFIDF.add_row([\"Actual: Yes\", cm[1][0], cm[1][1]])\n",
    "print(table2_TFIDF)"
   ]
  },
  {
   "cell_type": "markdown",
   "metadata": {},
   "source": [
    "### [5.1.3] Applying KNN brute force on AVG W2V,<font color='red'> SET 3</font>"
   ]
  },
  {
   "cell_type": "code",
   "execution_count": 108,
   "metadata": {},
   "outputs": [
    {
     "data": {
      "image/png": "[encoded data removed]",
      "text/plain": [
       "<Figure size 432x288 with 1 Axes>"
      ]
     },
     "metadata": {},
     "output_type": "display_data"
    },
    {
     "name": "stdout",
     "output_type": "stream",
     "text": [
      "+----------------+--------------------+--------------------+\n",
      "| Hyperparameter |     AUC_Train      |       AUC_CV       |\n",
      "+----------------+--------------------+--------------------+\n",
      "|       1        |        1.0         | 0.5028848364110029 |\n",
      "|       3        | 0.6927112308337969 | 0.505183510842081  |\n",
      "|       5        | 0.6176604788256768 | 0.5026319822235844 |\n",
      "|       7        | 0.5586856693897071 |        0.5         |\n",
      "|       9        | 0.5393132862901259 |        0.5         |\n",
      "|       11       | 0.5297350647576103 |        0.5         |\n",
      "|       13       | 0.5132589621214338 |        0.5         |\n",
      "|       15       | 0.507129681140749  |        0.5         |\n",
      "|       17       | 0.5054973208795713 |        0.5         |\n",
      "|       19       | 0.5030487804878049 |        0.5         |\n",
      "|       21       | 0.5010162601626016 |        0.5         |\n",
      "|       23       |        0.5         |        0.5         |\n",
      "|       25       |        0.5         |        0.5         |\n",
      "|       27       |        0.5         |        0.5         |\n",
      "|       29       |        0.5         |        0.5         |\n",
      "|       31       |        0.5         |        0.5         |\n",
      "|       33       |        0.5         |        0.5         |\n",
      "|       35       |        0.5         |        0.5         |\n",
      "|       37       |        0.5         |        0.5         |\n",
      "|       39       |        0.5         |        0.5         |\n",
      "|       41       |        0.5         |        0.5         |\n",
      "|       43       |        0.5         |        0.5         |\n",
      "|       45       |        0.5         |        0.5         |\n",
      "|       47       |        0.5         |        0.5         |\n",
      "|       49       |        0.5         |        0.5         |\n",
      "+----------------+--------------------+--------------------+\n",
      "from the plot the optimal K is 9\n",
      "AUC for training set for K = 9: 0.5393132862901259\n",
      "AUC for CV set for K = 9: 0.5\n"
     ]
    },
    {
     "data": {
      "image/png": "[encoded data removed]",
      "text/plain": [
       "<Figure size 432x288 with 1 Axes>"
      ]
     },
     "metadata": {},
     "output_type": "display_data"
    },
    {
     "name": "stdout",
     "output_type": "stream",
     "text": [
      "+-------------+---------------+----------------+\n",
      "|             | Predicted: NO | Predicted: Yes |\n",
      "+-------------+---------------+----------------+\n",
      "|  Actual:NO  |       0       |      161       |\n",
      "| Actual: Yes |       0       |      837       |\n",
      "+-------------+---------------+----------------+\n"
     ]
    }
   ],
   "source": [
    "# Please write all the code with proper documentation\n",
    "\n",
    "hyperparameter_Avg_W2V = []\n",
    "\n",
    "auc_scoresAvg_W2V_train = []\n",
    "\n",
    "\n",
    "auc_scoresAvg_W2V_cv = []\n",
    "\n",
    "table1_Avg_W2V = PrettyTable()\n",
    "\n",
    "table1_Avg_W2V.field_names = [\"Hyperparameter\", \"AUC_Train\", \"AUC_CV\"]\n",
    "\n",
    "#print(type(sent_vectors_train))\n",
    "#print(str(len(sent_vectors_train)))\n",
    "\n",
    "\n",
    "for i in range(1,50,2):\n",
    "  \n",
    "    knn = KNeighborsClassifier( n_neighbors = i)\n",
    "    \n",
    "    knn.fit(sent_vectors_train, Y_train)\n",
    "       \n",
    "    Avg_W2Vpred_train = knn.predict(sent_vectors_train)\n",
    "        \n",
    "    Avg_W2Vpred_cv = knn.predict(sent_vectors_cv)\n",
    "    \n",
    "    hyperparameter_Avg_W2V.append(i)\n",
    "    \n",
    "    auc_scoreAvg_W2V_train = roc_auc_score(Y_train, Avg_W2Vpred_train)\n",
    "    auc_scoresAvg_W2V_train.append(auc_scoreAvg_W2V_train)\n",
    "    \n",
    "    auc_scoreAvg_W2V_cv = roc_auc_score(Y_cv, Avg_W2Vpred_cv)\n",
    "    auc_scoresAvg_W2V_cv.append(auc_scoreAvg_W2V_cv)\n",
    "    \n",
    "    table1_Avg_W2V.add_row([i,auc_scoreAvg_W2V_train, auc_scoreAvg_W2V_cv])\n",
    "\n",
    "    \n",
    "plt.plot(hyperparameter_Avg_W2V, auc_scoresAvg_W2V_train, 'r',label = 'Training Set')\n",
    "plt.plot( hyperparameter_Avg_W2V, auc_scoresAvg_W2V_cv, 'blue', label = 'CV Set')\n",
    "plt.title(\"Performance of Model on CV\")\n",
    "plt.xlabel(\"Hyperparameter\")\n",
    "plt.ylabel(\"Area under ROC Score\")\n",
    "plt.legend()\n",
    "plt.show()\n",
    "\n",
    "print(table1_Avg_W2V)\n",
    "\n",
    "\n",
    "print(\"from the plot the optimal K is 9\")\n",
    "print(\"AUC for training set for K = 9: \" + str(auc_scoresAvg_W2V_train[4]))\n",
    "print(\"AUC for CV set for K = 9: \" + str(auc_scoresAvg_W2V_cv[4]))\n",
    "\n",
    "\n",
    "\n",
    "knn = KNeighborsClassifier(n_neighbors = 9)\n",
    "\n",
    "knn.fit(sent_vectors_train, Y_train)\n",
    "\n",
    "Avg_W2Vpred_train = knn.predict(sent_vectors_train)\n",
    "\n",
    "Avg_W2Vpred_test = knn.predict(sent_vectors_test)\n",
    "\n",
    "Avg_W2Vfpr_train, Avg_W2Vtpr_train, Avg_W2Vthrshold_train = roc_curve(Y_train, Avg_W2Vpred_train)\n",
    "\n",
    "Avg_W2Vfpr_test, Avg_W2Vtpr_test, Avg_W2Vthrshold_test = roc_curve(Y_test, Avg_W2Vpred_test)\n",
    "\n",
    "\n",
    "plt.plot(Avg_W2Vfpr_train,Avg_W2Vtpr_train,'r', label=\"Training Set\")\n",
    "plt.plot(Avg_W2Vfpr_test,Avg_W2Vtpr_test, 'blue', label = \"Test Set\")\n",
    "plt.title(\"ROC Curve for optimal K\")\n",
    "plt.xlabel(\"FPR\")\n",
    "plt.ylabel(\"TPR\")\n",
    "plt.legend()\n",
    "plt.show()\n",
    "\n",
    "cm = confusion_matrix(Y_test,Avg_W2Vpred_test)\n",
    "\n",
    "\n",
    "table2_Avg_W2V = PrettyTable()\n",
    "\n",
    "table2_Avg_W2V.field_names = [\"     \", \"Predicted: NO\", \"Predicted: Yes\"]\n",
    "\n",
    "table2_Avg_W2V.add_row([\"Actual:NO\", cm[0][0], cm[0][1]])\n",
    "table2_Avg_W2V.add_row([\"Actual: Yes\", cm[1][0], cm[1][1]])\n",
    "print(table2_Avg_W2V)"
   ]
  },
  {
   "cell_type": "markdown",
   "metadata": {},
   "source": [
    "### [5.1.4] Applying KNN brute force on TFIDF W2V,<font color='red'> SET 4</font>"
   ]
  },
  {
   "cell_type": "code",
   "execution_count": 109,
   "metadata": {
    "scrolled": true
   },
   "outputs": [
    {
     "data": {
      "image/png": "[encoded data removed]",
      "text/plain": [
       "<Figure size 432x288 with 1 Axes>"
      ]
     },
     "metadata": {},
     "output_type": "display_data"
    },
    {
     "name": "stdout",
     "output_type": "stream",
     "text": [
      "+----------------+--------------------+--------------------+\n",
      "| Hyperparameter |     AUC_Train      |       AUC_CV       |\n",
      "+----------------+--------------------+--------------------+\n",
      "|       1        |        1.0         | 0.5187571833575971 |\n",
      "|       3        | 0.6793314886930382 | 0.5112175312236611 |\n",
      "|       5        | 0.5738978518236563 | 0.5097731974561337 |\n",
      "|       7        | 0.5409297865487658 | 0.4974637958777105 |\n",
      "|       9        | 0.5285028645604584 | 0.4982185273159145 |\n",
      "|       11       | 0.5177083028333285 |        0.5         |\n",
      "|       13       | 0.5124110619857699 |        0.5         |\n",
      "|       15       | 0.5052972408475586 |        0.5         |\n",
      "|       17       | 0.5018324402931904 |        0.5         |\n",
      "|       19       | 0.5010162601626016 |        0.5         |\n",
      "|       21       | 0.5010162601626016 |        0.5         |\n",
      "|       23       |        0.5         |        0.5         |\n",
      "|       25       |        0.5         |        0.5         |\n",
      "|       27       |        0.5         |        0.5         |\n",
      "|       29       |        0.5         |        0.5         |\n",
      "|       31       |        0.5         |        0.5         |\n",
      "|       33       |        0.5         |        0.5         |\n",
      "|       35       |        0.5         |        0.5         |\n",
      "|       37       |        0.5         |        0.5         |\n",
      "|       39       |        0.5         |        0.5         |\n",
      "|       41       |        0.5         |        0.5         |\n",
      "|       43       |        0.5         |        0.5         |\n",
      "|       45       |        0.5         |        0.5         |\n",
      "|       47       |        0.5         |        0.5         |\n",
      "|       49       |        0.5         |        0.5         |\n",
      "+----------------+--------------------+--------------------+\n",
      "from the plot the optimal K is 13\n",
      "AUC for training set for K = 13: 0.5124110619857699\n",
      "AUC for CV set for K = 13: 0.5\n"
     ]
    },
    {
     "data": {
      "image/png": "[encoded data removed]",
      "text/plain": [
       "<Figure size 432x288 with 1 Axes>"
      ]
     },
     "metadata": {},
     "output_type": "display_data"
    },
    {
     "name": "stdout",
     "output_type": "stream",
     "text": [
      "+-------------+---------------+----------------+\n",
      "|             | Predicted: NO | Predicted: Yes |\n",
      "+-------------+---------------+----------------+\n",
      "|  Actual:NO  |       0       |      161       |\n",
      "| Actual: Yes |       0       |      837       |\n",
      "+-------------+---------------+----------------+\n"
     ]
    }
   ],
   "source": [
    "# Please write all the code with proper documentation\n",
    "\n",
    "hyperparameter_TFIDF_W2V = []\n",
    "\n",
    "auc_scoresTFIDF_W2V_train = []\n",
    "\n",
    "\n",
    "auc_scoresTFIDF_W2V_cv = []\n",
    "\n",
    "table1_TFIDF_W2V = PrettyTable()\n",
    "\n",
    "table1_TFIDF_W2V.field_names = [\"Hyperparameter\", \"AUC_Train\", \"AUC_CV\"]\n",
    "\n",
    "#print(type(tfidf_sent_vectors_train))\n",
    "#print(str(len(tfidf_sent_vectors_train)))\n",
    "\n",
    "\n",
    "for i in range(1,50,2):\n",
    "  \n",
    "    knn = KNeighborsClassifier( n_neighbors = i)\n",
    "    \n",
    "    knn.fit(tfidf_sent_vectors_train, Y_train)\n",
    "       \n",
    "    TFIDF_W2Vpred_train = knn.predict(tfidf_sent_vectors_train)\n",
    "        \n",
    "    TFIDF_W2Vpred_cv = knn.predict(tfidf_sent_vectors_cv)\n",
    "    \n",
    "    hyperparameter_TFIDF_W2V.append(i)\n",
    "    \n",
    "    auc_scoreTFIDF_W2V_train = roc_auc_score(Y_train, TFIDF_W2Vpred_train)\n",
    "    auc_scoresTFIDF_W2V_train.append(auc_scoreTFIDF_W2V_train)\n",
    "    \n",
    "    auc_scoreTFIDF_W2V_cv = roc_auc_score(Y_cv, TFIDF_W2Vpred_cv)\n",
    "    auc_scoresTFIDF_W2V_cv.append(auc_scoreTFIDF_W2V_cv)\n",
    "    \n",
    "    table1_TFIDF_W2V.add_row([i,auc_scoreTFIDF_W2V_train, auc_scoreTFIDF_W2V_cv])\n",
    "\n",
    "    \n",
    "plt.plot(hyperparameter_TFIDF_W2V, auc_scoresTFIDF_W2V_train, 'r',label = 'Training Set')\n",
    "plt.plot( hyperparameter_TFIDF_W2V, auc_scoresTFIDF_W2V_cv, 'blue', label = 'CV Set')\n",
    "plt.title(\"Performance of model on CV\")\n",
    "plt.xlabel(\"Hyperparameter\")\n",
    "plt.ylabel(\"Area under ROC Score\")\n",
    "plt.legend()\n",
    "plt.show()\n",
    "\n",
    "print(table1_TFIDF_W2V)\n",
    "\n",
    "\n",
    "print(\"from the plot the optimal K is 13\")\n",
    "print(\"AUC for training set for K = 13: \" + str(auc_scoresTFIDF_W2V_train[6]))\n",
    "print(\"AUC for CV set for K = 13: \" + str(auc_scoresTFIDF_W2V_cv[6]))\n",
    "\n",
    "\n",
    "\n",
    "knn = KNeighborsClassifier(n_neighbors = 13)\n",
    "\n",
    "knn.fit(tfidf_sent_vectors_train, Y_train)\n",
    "\n",
    "TFIDF_W2Vpred_train = knn.predict(tfidf_sent_vectors_train)\n",
    "\n",
    "TFIDF_W2Vpred_test = knn.predict(tfidf_sent_vectors_test)\n",
    "\n",
    "TFIDF_W2Vfpr_train, TFIDF_W2Vtpr_train, TFIDF_W2Vthrshold_train = roc_curve(Y_train, TFIDF_W2Vpred_train)\n",
    "\n",
    "TFIDF_W2Vfpr_test, TFIDF_W2Vtpr_test, TFIDF_W2Vthrshold_test = roc_curve(Y_test, TFIDF_W2Vpred_test)\n",
    "\n",
    "\n",
    "plt.plot(TFIDF_W2Vfpr_train,TFIDF_W2Vtpr_train,'r', label=\"Training Set\")\n",
    "plt.plot(TFIDF_W2Vfpr_test,TFIDF_W2Vtpr_test, 'blue', label = \"Test Set\")\n",
    "plt.title(\"ROC Curve for Optimal K\")\n",
    "plt.xlabel(\"FPR\")\n",
    "plt.ylabel(\"TPR\")\n",
    "plt.legend()\n",
    "plt.show()\n",
    "\n",
    "cm = confusion_matrix(Y_test,TFIDF_W2Vpred_test)\n",
    "\n",
    "\n",
    "table2_TFIDF_W2V = PrettyTable()\n",
    "\n",
    "table2_TFIDF_W2V.field_names = [\"     \", \"Predicted: NO\", \"Predicted: Yes\"]\n",
    "\n",
    "table2_TFIDF_W2V.add_row([\"Actual:NO\", cm[0][0], cm[0][1]])\n",
    "table2_TFIDF_W2V.add_row([\"Actual: Yes\", cm[1][0], cm[1][1]])\n",
    "print(table2_TFIDF_W2V)"
   ]
  },
  {
   "cell_type": "markdown",
   "metadata": {},
   "source": [
    "## [5.2] Applying KNN kd-tree"
   ]
  },
  {
   "cell_type": "markdown",
   "metadata": {},
   "source": [
    "### [5.2.1] Applying KNN kd-tree on BOW,<font color='red'> SET 5</font>"
   ]
  },
  {
   "cell_type": "code",
   "execution_count": 110,
   "metadata": {},
   "outputs": [
    {
     "data": {
      "image/png": "[encoded data removed]",
      "text/plain": [
       "<Figure size 432x288 with 1 Axes>"
      ]
     },
     "metadata": {},
     "output_type": "display_data"
    },
    {
     "name": "stdout",
     "output_type": "stream",
     "text": [
      "+----------------+--------------------+--------------------+\n",
      "| Hyperparameter |     AUC_Train      |       AUC_CV       |\n",
      "+----------------+--------------------+--------------------+\n",
      "|       1        |        1.0         | 0.6140563941460424 |\n",
      "|       3        | 0.7400752984120478 | 0.5928089801547773 |\n",
      "|       5        | 0.6508286241325798 | 0.5759098919623018 |\n",
      "|       7        | 0.6099622775939644 | 0.5724274001992185 |\n",
      "|       9        | 0.5995837359333978 | 0.5771779940234465 |\n",
      "|       11       | 0.5877570540411285 | 0.5625737491379971 |\n",
      "|       13       | 0.5835077933612469 | 0.5552716266952724 |\n",
      "|       15       | 0.5765623322499731 | 0.5461880315684622 |\n",
      "|       17       | 0.5645514303282289 | 0.5429622251168493 |\n",
      "|       19       | 0.5548048487687758 | 0.539479733353766  |\n",
      "|       21       | 0.5543888287022126 | 0.539479733353766  |\n",
      "|       23       | 0.5507080881132941 | 0.5424488544939085 |\n",
      "|       25       | 0.5423779267804683 |  0.54185503026588  |\n",
      "|       27       | 0.5443945871031339 | 0.5365910658187112 |\n",
      "|       29       | 0.5417459666793546 | 0.5319209255995709 |\n",
      "|       31       | 0.540729706516753  | 0.5339590835951268 |\n",
      "|       33       | 0.5405296264847402 | 0.5313271013715424 |\n",
      "|       35       | 0.5388972662235626 | 0.5228373304727607 |\n",
      "|       37       | 0.5380810860929738 | 0.5260631369243737 |\n",
      "|       39       | 0.5360485657677706 | 0.5310704160600721 |\n",
      "|       41       | 0.5348163655706185 | 0.5304765918320435 |\n",
      "|       43       | 0.5348163655706185 | 0.5304765918320435 |\n",
      "|       45       | 0.5335841653734664 | 0.5316642402881006 |\n",
      "|       47       | 0.5283027845284456 | 0.5310704160600721 |\n",
      "|       49       | 0.5266704242672678 | 0.5290322580645161 |\n",
      "+----------------+--------------------+--------------------+\n",
      "from the plot the optimal K is 1\n",
      "AUC for training set for K = 1: 1.0\n",
      "AUC for CV set for K =1: 0.6140563941460424\n"
     ]
    },
    {
     "data": {
      "image/png": "[encoded data removed]",
      "text/plain": [
       "<Figure size 432x288 with 1 Axes>"
      ]
     },
     "metadata": {},
     "output_type": "display_data"
    },
    {
     "name": "stdout",
     "output_type": "stream",
     "text": [
      "+-------------+---------------+----------------+\n",
      "|             | Predicted: NO | Predicted: Yes |\n",
      "+-------------+---------------+----------------+\n",
      "|  Actual:NO  |       62      |       99       |\n",
      "| Actual: Yes |      125      |      712       |\n",
      "+-------------+---------------+----------------+\n"
     ]
    }
   ],
   "source": [
    "# Please write all the code with proper documentation\n",
    "\n",
    "\n",
    "hyperparameter_BOW_Kd = []\n",
    "\n",
    "auc_scoresBOW_Kd_train = []\n",
    "\n",
    "\n",
    "auc_scoresBOW_Kd_cv = []\n",
    "\n",
    "table1_BOW_Kd = PrettyTable()\n",
    "\n",
    "table1_BOW_Kd.field_names = [\"Hyperparameter\", \"AUC_Train\", \"AUC_CV\"]\n",
    "#print(type(final_counts_res_train))\n",
    "#print(str(len(final_counts_res_train)))\n",
    "\n",
    "\n",
    "for i in range(1,50,2):\n",
    "  \n",
    "    knn = KNeighborsClassifier( n_neighbors = i, algorithm = 'kd_tree')\n",
    "    \n",
    "    knn.fit(final_counts_res_train.toarray(), Y_train)\n",
    "       \n",
    "    BOW_Kdpred_train = knn.predict(final_counts_res_train.toarray())\n",
    "        \n",
    "    BOW_Kdpred_cv = knn.predict(final_counts_res_cv.toarray())\n",
    "    \n",
    "    hyperparameter_BOW_Kd.append(i)\n",
    "    \n",
    "    auc_scoreBOW_Kd_train = roc_auc_score(Y_train, BOW_Kdpred_train)\n",
    "    auc_scoresBOW_Kd_train.append(auc_scoreBOW_Kd_train)\n",
    "    \n",
    "    auc_scoreBOW_Kd_cv = roc_auc_score(Y_cv, BOW_Kdpred_cv)\n",
    "    auc_scoresBOW_Kd_cv.append(auc_scoreBOW_Kd_cv)\n",
    "    \n",
    "    table1_BOW_Kd.add_row([i,auc_scoreBOW_Kd_train, auc_scoreBOW_Kd_cv])\n",
    "\n",
    "    \n",
    "plt.plot(hyperparameter_BOW_Kd, auc_scoresBOW_Kd_train, 'r',label = 'Training Set')\n",
    "plt.plot( hyperparameter_BOW_Kd, auc_scoresBOW_Kd_cv, 'blue', label = 'CV Set')\n",
    "plt.title(\"Performance of model on CV\")\n",
    "plt.xlabel(\"Hyperparameter\")\n",
    "plt.ylabel(\"Area under ROC Score\")\n",
    "plt.legend()\n",
    "plt.show()\n",
    "\n",
    "print(table1_BOW_Kd)\n",
    "\n",
    "\n",
    "print(\"from the plot the optimal K is 1\")\n",
    "print(\"AUC for training set for K = 1: \" + str(auc_scoresBOW_Kd_train[0]))\n",
    "print(\"AUC for CV set for K =1: \" + str(auc_scoresBOW_Kd_cv[0]))\n",
    "\n",
    "\n",
    "\n",
    "knn = KNeighborsClassifier(n_neighbors = 1)\n",
    "\n",
    "knn.fit(final_counts_res_train.toarray(), Y_train)\n",
    "\n",
    "BOW_Kdpred_train = knn.predict(final_counts_res_train.toarray())\n",
    "\n",
    "BOW_Kdpred_test = knn.predict(final_counts_res_test.toarray())\n",
    "\n",
    "BOW_Kdfpr_train, BOW_Kdtpr_train, BOW_Kdthrshold_train = roc_curve(Y_train, BOW_Kdpred_train)\n",
    "\n",
    "BOW_Kdfpr_test, BOW_Kdtpr_test, BOW_Kdthrshold_test = roc_curve(Y_test, BOW_Kdpred_test)\n",
    "\n",
    "\n",
    "plt.plot(BOW_Kdfpr_train,BOW_Kdtpr_train,'r', label=\"Training Set\")\n",
    "plt.plot(BOW_Kdfpr_test,BOW_Kdtpr_test, 'blue', label = \"Test Set\")\n",
    "plt.title(\"ROC Curve for Optimal K\")\n",
    "plt.xlabel(\"FPR\")\n",
    "plt.ylabel(\"TPR\")\n",
    "plt.legend()\n",
    "plt.show()\n",
    "\n",
    "cm = confusion_matrix(Y_test,BOW_Kdpred_test)\n",
    "\n",
    "\n",
    "table2_BOW_Kd = PrettyTable()\n",
    "\n",
    "table2_BOW_Kd.field_names = [\"     \", \"Predicted: NO\", \"Predicted: Yes\"]\n",
    "\n",
    "table2_BOW_Kd.add_row([\"Actual:NO\", cm[0][0], cm[0][1]])\n",
    "table2_BOW_Kd.add_row([\"Actual: Yes\", cm[1][0], cm[1][1]])\n",
    "print(table2_BOW_Kd)"
   ]
  },
  {
   "cell_type": "markdown",
   "metadata": {},
   "source": [
    "### [5.2.2] Applying KNN kd-tree on TFIDF,<font color='red'> SET 6</font>"
   ]
  },
  {
   "cell_type": "code",
   "execution_count": 111,
   "metadata": {},
   "outputs": [
    {
     "data": {
      "image/png": "[encoded data removed]",
      "text/plain": [
       "<Figure size 432x288 with 1 Axes>"
      ]
     },
     "metadata": {},
     "output_type": "display_data"
    },
    {
     "name": "stdout",
     "output_type": "stream",
     "text": [
      "+----------------+---------------------+--------------------+\n",
      "| Hyperparameter |      AUC_Train      |       AUC_CV       |\n",
      "+----------------+---------------------+--------------------+\n",
      "|       1        |         1.0         | 0.5317600183893955 |\n",
      "|       3        |  0.5540777286524365 | 0.5046701402191404 |\n",
      "|       5        |  0.5093622814979651 | 0.5026319822235844 |\n",
      "|       7        |  0.5028487004557921 |        0.5         |\n",
      "|       9        | 0.49979991996798717 |        0.5         |\n",
      "|       11       |         0.5         |        0.5         |\n",
      "|       13       |         0.5         |        0.5         |\n",
      "|       15       |         0.5         |        0.5         |\n",
      "|       17       |         0.5         |        0.5         |\n",
      "|       19       |         0.5         |        0.5         |\n",
      "|       21       |         0.5         |        0.5         |\n",
      "|       23       |         0.5         |        0.5         |\n",
      "|       25       |         0.5         |        0.5         |\n",
      "|       27       |         0.5         |        0.5         |\n",
      "|       29       |         0.5         |        0.5         |\n",
      "|       31       |         0.5         |        0.5         |\n",
      "|       33       |         0.5         |        0.5         |\n",
      "|       35       |         0.5         |        0.5         |\n",
      "|       37       |         0.5         |        0.5         |\n",
      "|       39       |         0.5         |        0.5         |\n",
      "|       41       |         0.5         |        0.5         |\n",
      "|       43       |         0.5         |        0.5         |\n",
      "|       45       |  0.5010162601626016 |        0.5         |\n",
      "|       47       |  0.5010162601626016 |        0.5         |\n",
      "|       49       |  0.5010162601626016 |        0.5         |\n",
      "+----------------+---------------------+--------------------+\n",
      "from the plot the optimal K is 1\n",
      "AUC for training set for K = 1: 1.0\n",
      "AUC for CV set for K =1: 0.5317600183893955\n"
     ]
    },
    {
     "data": {
      "image/png": "[encoded data removed]",
      "text/plain": [
       "<Figure size 432x288 with 1 Axes>"
      ]
     },
     "metadata": {},
     "output_type": "display_data"
    },
    {
     "name": "stdout",
     "output_type": "stream",
     "text": [
      "+-------------+---------------+----------------+\n",
      "|             | Predicted: NO | Predicted: Yes |\n",
      "+-------------+---------------+----------------+\n",
      "|  Actual:NO  |       14      |      147       |\n",
      "| Actual: Yes |       30      |      807       |\n",
      "+-------------+---------------+----------------+\n"
     ]
    }
   ],
   "source": [
    "# Please write all the code with proper documentation\n",
    "\n",
    "\n",
    "hyperparameter_TFIDF_kd = []\n",
    "\n",
    "auc_scoresTFIDF_kd_train = []\n",
    "\n",
    "\n",
    "auc_scoresTFIDF_kd_cv = []\n",
    "\n",
    "table1_TFIDF_kd = PrettyTable()\n",
    "\n",
    "table1_TFIDF_kd.field_names = [\"Hyperparameter\", \"AUC_Train\", \"AUC_CV\"]\n",
    "#print(type(final_tf_idf_res_train))\n",
    "#print(str(len(final_tf_idf_res_train)))\n",
    "\n",
    "\n",
    "for i in range(1,50,2):\n",
    "  \n",
    "    knn = KNeighborsClassifier( n_neighbors = i, algorithm = 'kd_tree')\n",
    "    \n",
    "    knn.fit(final_tf_idf_res_train.toarray(), Y_train)\n",
    "       \n",
    "    TFIDF_kdpred_train = knn.predict(final_tf_idf_res_train.toarray())\n",
    "        \n",
    "    TFIDF_kdpred_cv = knn.predict(final_tf_idf_res_cv.toarray())\n",
    "    \n",
    "    hyperparameter_TFIDF_kd.append(i)\n",
    "    \n",
    "    auc_scoreTFIDF_kd_train = roc_auc_score(Y_train, TFIDF_kdpred_train)\n",
    "    auc_scoresTFIDF_kd_train.append(auc_scoreTFIDF_kd_train)\n",
    "    \n",
    "    auc_scoreTFIDF_kd_cv = roc_auc_score(Y_cv, TFIDF_kdpred_cv)\n",
    "    auc_scoresTFIDF_kd_cv.append(auc_scoreTFIDF_kd_cv)\n",
    "    \n",
    "    table1_TFIDF_kd.add_row([i,auc_scoreTFIDF_kd_train, auc_scoreTFIDF_kd_cv])\n",
    "\n",
    "    \n",
    "plt.plot(hyperparameter_TFIDF_kd, auc_scoresTFIDF_kd_train, 'r',label = 'Training Set')\n",
    "plt.plot( hyperparameter_TFIDF_kd, auc_scoresTFIDF_kd_cv, 'blue', label = 'CV Set')\n",
    "plt.title(\"Performance of model on CV\")\n",
    "plt.xlabel(\"Hyperparameter\")\n",
    "plt.ylabel(\"Area under ROC Score\")\n",
    "plt.legend()\n",
    "plt.show()\n",
    "\n",
    "print(table1_TFIDF_kd)\n",
    "\n",
    "\n",
    "print(\"from the plot the optimal K is 1\")\n",
    "print(\"AUC for training set for K = 1: \" + str(auc_scoresTFIDF_kd_train[0]))\n",
    "print(\"AUC for CV set for K =1: \" + str(auc_scoresTFIDF_kd_cv[0]))\n",
    "\n",
    "\n",
    "\n",
    "knn = KNeighborsClassifier(n_neighbors = 1)\n",
    "\n",
    "knn.fit(final_tf_idf_res_train.toarray(), Y_train)\n",
    "\n",
    "TFIDF_kdpred_train = knn.predict(final_tf_idf_res_train.toarray())\n",
    "\n",
    "TFIDF_kdpred_test = knn.predict(final_tf_idf_res_test.toarray())\n",
    "\n",
    "TFIDF_kdfpr_train, TFIDF_kdtpr_train, TFIDF_kdthrshold_train = roc_curve(Y_train, TFIDF_kdpred_train)\n",
    "\n",
    "TFIDF_kdfpr_test, TFIDF_kdtpr_test, TFIDF_kdthrshold_test = roc_curve(Y_test, TFIDF_kdpred_test)\n",
    "\n",
    "\n",
    "plt.plot(TFIDF_kdfpr_train,TFIDF_kdtpr_train,'r', label=\"Training Set\")\n",
    "plt.plot(TFIDF_kdfpr_test,TFIDF_kdtpr_test, 'blue', label = \"Test Set\")\n",
    "plt.title(\"ROC Curve for Optimal K\")\n",
    "plt.xlabel(\"FPR\")\n",
    "plt.ylabel(\"TPR\")\n",
    "plt.legend()\n",
    "plt.show()\n",
    "\n",
    "cm = confusion_matrix(Y_test,TFIDF_kdpred_test)\n",
    "\n",
    "\n",
    "table2_TFIDF_kd = PrettyTable()\n",
    "\n",
    "table2_TFIDF_kd.field_names = [\"     \", \"Predicted: NO\", \"Predicted: Yes\"]\n",
    "\n",
    "table2_TFIDF_kd.add_row([\"Actual:NO\", cm[0][0], cm[0][1]])\n",
    "table2_TFIDF_kd.add_row([\"Actual: Yes\", cm[1][0], cm[1][1]])\n",
    "print(table2_TFIDF_kd)"
   ]
  },
  {
   "cell_type": "markdown",
   "metadata": {},
   "source": [
    "### [5.2.3] Applying KNN kd-tree on AVG W2V,<font color='red'> SET 3</font>"
   ]
  },
  {
   "cell_type": "code",
   "execution_count": 112,
   "metadata": {},
   "outputs": [
    {
     "data": {
      "image/png": "[encoded data removed]",
      "text/plain": [
       "<Figure size 432x288 with 1 Axes>"
      ]
     },
     "metadata": {},
     "output_type": "display_data"
    },
    {
     "name": "stdout",
     "output_type": "stream",
     "text": [
      "+----------------+--------------------+--------------------+\n",
      "| Hyperparameter |     AUC_Train      |       AUC_CV       |\n",
      "+----------------+--------------------+--------------------+\n",
      "|       1        |        1.0         | 0.5028848364110029 |\n",
      "|       3        | 0.6927112308337969 | 0.505183510842081  |\n",
      "|       5        | 0.6176604788256768 | 0.5026319822235844 |\n",
      "|       7        | 0.5586856693897071 |        0.5         |\n",
      "|       9        | 0.5393132862901259 |        0.5         |\n",
      "|       11       | 0.5297350647576103 |        0.5         |\n",
      "|       13       | 0.5132589621214338 |        0.5         |\n",
      "|       15       | 0.507129681140749  |        0.5         |\n",
      "|       17       | 0.5054973208795713 |        0.5         |\n",
      "|       19       | 0.5030487804878049 |        0.5         |\n",
      "|       21       | 0.5010162601626016 |        0.5         |\n",
      "|       23       |        0.5         |        0.5         |\n",
      "|       25       |        0.5         |        0.5         |\n",
      "|       27       |        0.5         |        0.5         |\n",
      "|       29       |        0.5         |        0.5         |\n",
      "|       31       |        0.5         |        0.5         |\n",
      "|       33       |        0.5         |        0.5         |\n",
      "|       35       |        0.5         |        0.5         |\n",
      "|       37       |        0.5         |        0.5         |\n",
      "|       39       |        0.5         |        0.5         |\n",
      "|       41       |        0.5         |        0.5         |\n",
      "|       43       |        0.5         |        0.5         |\n",
      "|       45       |        0.5         |        0.5         |\n",
      "|       47       |        0.5         |        0.5         |\n",
      "|       49       |        0.5         |        0.5         |\n",
      "+----------------+--------------------+--------------------+\n",
      "from the plot the optimal K is 3\n",
      "AUC for training set for K = 3: 0.6927112308337969\n",
      "AUC for CV set for K =3: 0.505183510842081\n"
     ]
    },
    {
     "data": {
      "image/png": "[encoded data removed]",
      "text/plain": [
       "<Figure size 432x288 with 1 Axes>"
      ]
     },
     "metadata": {},
     "output_type": "display_data"
    },
    {
     "name": "stdout",
     "output_type": "stream",
     "text": [
      "+-------------+---------------+----------------+\n",
      "|             | Predicted: NO | Predicted: Yes |\n",
      "+-------------+---------------+----------------+\n",
      "|  Actual:NO  |       1       |      160       |\n",
      "| Actual: Yes |       5       |      832       |\n",
      "+-------------+---------------+----------------+\n"
     ]
    }
   ],
   "source": [
    "\n",
    "hyperparameter_Avg_W2V_kd = []\n",
    "\n",
    "auc_scoresAvg_W2V_kd_train = []\n",
    "\n",
    "\n",
    "auc_scoresAvg_W2V_kd_cv = []\n",
    "\n",
    "table1_Avg_W2V_kd = PrettyTable()\n",
    "\n",
    "table1_Avg_W2V_kd.field_names = [\"Hyperparameter\", \"AUC_Train\", \"AUC_CV\"]\n",
    "#print(type(sent_vectors_train))\n",
    "#print(str(len(sent_vectors_train)))\n",
    "\n",
    "\n",
    "for i in range(1,50,2):\n",
    "  \n",
    "    knn = KNeighborsClassifier( n_neighbors = i, algorithm = 'kd_tree')\n",
    "    \n",
    "    knn.fit(sent_vectors_train, Y_train)\n",
    "       \n",
    "    Avg_W2V_kdpred_train = knn.predict(sent_vectors_train)\n",
    "        \n",
    "    Avg_W2V_kdpred_cv = knn.predict(sent_vectors_cv)\n",
    "    \n",
    "    hyperparameter_Avg_W2V_kd.append(i)\n",
    "    \n",
    "    auc_scoreAvg_W2V_kd_train = roc_auc_score(Y_train, Avg_W2V_kdpred_train)\n",
    "    auc_scoresAvg_W2V_kd_train.append(auc_scoreAvg_W2V_kd_train)\n",
    "    \n",
    "    auc_scoreAvg_W2V_kd_cv = roc_auc_score(Y_cv, Avg_W2V_kdpred_cv)\n",
    "    auc_scoresAvg_W2V_kd_cv.append(auc_scoreAvg_W2V_kd_cv)\n",
    "    \n",
    "    table1_Avg_W2V_kd.add_row([i,auc_scoreAvg_W2V_kd_train, auc_scoreAvg_W2V_kd_cv])\n",
    "\n",
    "    \n",
    "plt.plot(hyperparameter_Avg_W2V_kd, auc_scoresAvg_W2V_kd_train, 'r',label = 'Training Set')\n",
    "plt.plot( hyperparameter_Avg_W2V_kd, auc_scoresAvg_W2V_kd_cv, 'blue', label = 'CV Set')\n",
    "plt.title(\"Performance of Model on CV\")\n",
    "plt.xlabel(\"Hyperparameter\")\n",
    "plt.ylabel(\"Area under ROC Score\")\n",
    "plt.legend()\n",
    "plt.show()\n",
    "\n",
    "print(table1_Avg_W2V_kd)\n",
    "\n",
    "\n",
    "print(\"from the plot the optimal K is 3\")\n",
    "print(\"AUC for training set for K = 3: \" + str(auc_scoresAvg_W2V_kd_train[1]))\n",
    "print(\"AUC for CV set for K =3: \" + str(auc_scoresAvg_W2V_kd_cv[1]))\n",
    "\n",
    "\n",
    "\n",
    "knn = KNeighborsClassifier(n_neighbors = 3)\n",
    "\n",
    "knn.fit(sent_vectors_train, Y_train)\n",
    "\n",
    "Avg_W2V_kdpred_train = knn.predict(sent_vectors_train)\n",
    "\n",
    "Avg_W2V_kdpred_test = knn.predict(sent_vectors_test)\n",
    "\n",
    "Avg_W2V_kdfpr_train, Avg_W2V_kdtpr_train, Avg_W2V_kdthrshold_train = roc_curve(Y_train, Avg_W2V_kdpred_train)\n",
    "\n",
    "Avg_W2V_kdfpr_test, Avg_W2V_kdtpr_test, Avg_W2V_kdthrshold_test = roc_curve(Y_test, Avg_W2V_kdpred_test)\n",
    "\n",
    "\n",
    "plt.plot(Avg_W2V_kdfpr_train,Avg_W2V_kdtpr_train,'r', label=\"Training Set\")\n",
    "plt.plot(Avg_W2V_kdfpr_test,Avg_W2V_kdtpr_test, 'blue', label = \"Test Set\")\n",
    "plt.title(\"ROC Curve for optimal K\")\n",
    "plt.xlabel(\"FPR\")\n",
    "plt.ylabel(\"TPR\")\n",
    "plt.legend()\n",
    "plt.show()\n",
    "\n",
    "cm = confusion_matrix(Y_test,Avg_W2V_kdpred_test)\n",
    "\n",
    "\n",
    "table2_Avg_W2V_kd = PrettyTable()\n",
    "\n",
    "table2_Avg_W2V_kd.field_names = [\"     \", \"Predicted: NO\", \"Predicted: Yes\"]\n",
    "\n",
    "table2_Avg_W2V_kd.add_row([\"Actual:NO\", cm[0][0], cm[0][1]])\n",
    "table2_Avg_W2V_kd.add_row([\"Actual: Yes\", cm[1][0], cm[1][1]])\n",
    "print(table2_Avg_W2V_kd)"
   ]
  },
  {
   "cell_type": "markdown",
   "metadata": {},
   "source": [
    "### [5.2.4] Applying KNN kd-tree on TFIDF W2V,<font color='red'> SET 4</font>"
   ]
  },
  {
   "cell_type": "code",
   "execution_count": 113,
   "metadata": {
    "scrolled": true
   },
   "outputs": [
    {
     "data": {
      "image/png": "[encoded data removed]",
      "text/plain": [
       "<Figure size 432x288 with 1 Axes>"
      ]
     },
     "metadata": {},
     "output_type": "display_data"
    },
    {
     "name": "stdout",
     "output_type": "stream",
     "text": [
      "+----------------+--------------------+--------------------+\n",
      "| Hyperparameter |     AUC_Train      |       AUC_CV       |\n",
      "+----------------+--------------------+--------------------+\n",
      "|       1        |        1.0         | 0.5187571833575971 |\n",
      "|       3        | 0.6793314886930382 | 0.5112175312236611 |\n",
      "|       5        | 0.5738978518236563 | 0.5097731974561337 |\n",
      "|       7        | 0.5409297865487658 | 0.4974637958777105 |\n",
      "|       9        | 0.5285028645604584 | 0.4982185273159145 |\n",
      "|       11       | 0.5177083028333285 |        0.5         |\n",
      "|       13       | 0.5124110619857699 |        0.5         |\n",
      "|       15       | 0.5052972408475586 |        0.5         |\n",
      "|       17       | 0.5018324402931904 |        0.5         |\n",
      "|       19       | 0.5010162601626016 |        0.5         |\n",
      "|       21       | 0.5010162601626016 |        0.5         |\n",
      "|       23       |        0.5         |        0.5         |\n",
      "|       25       |        0.5         |        0.5         |\n",
      "|       27       |        0.5         |        0.5         |\n",
      "|       29       |        0.5         |        0.5         |\n",
      "|       31       |        0.5         |        0.5         |\n",
      "|       33       |        0.5         |        0.5         |\n",
      "|       35       |        0.5         |        0.5         |\n",
      "|       37       |        0.5         |        0.5         |\n",
      "|       39       |        0.5         |        0.5         |\n",
      "|       41       |        0.5         |        0.5         |\n",
      "|       43       |        0.5         |        0.5         |\n",
      "|       45       |        0.5         |        0.5         |\n",
      "|       47       |        0.5         |        0.5         |\n",
      "|       49       |        0.5         |        0.5         |\n",
      "+----------------+--------------------+--------------------+\n",
      "from the plot the optimal K is 13\n",
      "AUC for training set for K = 13: 0.5124110619857699\n",
      "AUC for CV set for K = 13: 0.5\n"
     ]
    },
    {
     "data": {
      "image/png": "[encoded data removed]",
      "text/plain": [
       "<Figure size 432x288 with 1 Axes>"
      ]
     },
     "metadata": {},
     "output_type": "display_data"
    },
    {
     "name": "stdout",
     "output_type": "stream",
     "text": [
      "+-------------+---------------+----------------+\n",
      "|             | Predicted: NO | Predicted: Yes |\n",
      "+-------------+---------------+----------------+\n",
      "|  Actual:NO  |       0       |      161       |\n",
      "| Actual: Yes |       0       |      837       |\n",
      "+-------------+---------------+----------------+\n"
     ]
    }
   ],
   "source": [
    "# Please write all the code with proper documentation\n",
    "\n",
    "\n",
    "hyperparameter_TFIDF_W2V_kd = []\n",
    "\n",
    "auc_scoresTFIDF_W2V_kd_train = []\n",
    "\n",
    "\n",
    "auc_scoresTFIDF_W2V_kd_cv = []\n",
    "\n",
    "table1_TFIDF_W2V_kd = PrettyTable()\n",
    "\n",
    "table1_TFIDF_W2V_kd.field_names = [\"Hyperparameter\", \"AUC_Train\", \"AUC_CV\"]\n",
    "#print(type(tfidf_sent_vectors_train))\n",
    "#print(str(len(tfidf_sent_vectors_train)))\n",
    "\n",
    "\n",
    "for i in range(1,50,2):\n",
    "  \n",
    "    knn = KNeighborsClassifier( n_neighbors = i, algorithm = 'kd_tree')\n",
    "    \n",
    "    knn.fit(tfidf_sent_vectors_train, Y_train)\n",
    "       \n",
    "    TFIDF_W2V_kdpred_train = knn.predict(tfidf_sent_vectors_train)\n",
    "        \n",
    "    TFIDF_W2V_kdpred_cv = knn.predict(tfidf_sent_vectors_cv)\n",
    "    \n",
    "    hyperparameter_TFIDF_W2V_kd.append(i)\n",
    "    \n",
    "    auc_scoreTFIDF_W2V_kd_train = roc_auc_score(Y_train, TFIDF_W2V_kdpred_train)\n",
    "    auc_scoresTFIDF_W2V_kd_train.append(auc_scoreTFIDF_W2V_kd_train)\n",
    "    \n",
    "    auc_scoreTFIDF_W2V_kd_cv = roc_auc_score(Y_cv, TFIDF_W2V_kdpred_cv)\n",
    "    auc_scoresTFIDF_W2V_kd_cv.append(auc_scoreTFIDF_W2V_kd_cv)\n",
    "    \n",
    "    table1_TFIDF_W2V_kd.add_row([i,auc_scoreTFIDF_W2V_kd_train, auc_scoreTFIDF_W2V_kd_cv])\n",
    "\n",
    "    \n",
    "plt.plot(hyperparameter_TFIDF_W2V_kd, auc_scoresTFIDF_W2V_kd_train, 'r',label = 'Training Set')\n",
    "plt.plot( hyperparameter_TFIDF_W2V_kd, auc_scoresTFIDF_W2V_kd_cv, 'blue', label = 'CV Set')\n",
    "plt.title(\"Performance of model on CV\")\n",
    "plt.xlabel(\"Hyperparameter\")\n",
    "plt.ylabel(\"Area under ROC Score\")\n",
    "plt.legend()\n",
    "plt.show()\n",
    "\n",
    "print(table1_TFIDF_W2V_kd)\n",
    "\n",
    "\n",
    "print(\"from the plot the optimal K is 13\")\n",
    "print(\"AUC for training set for K = 13: \" + str(auc_scoresTFIDF_W2V_kd_train[6]))\n",
    "print(\"AUC for CV set for K = 13: \" + str(auc_scoresTFIDF_W2V_kd_cv[6]))\n",
    "\n",
    "\n",
    "\n",
    "knn = KNeighborsClassifier(n_neighbors = 13)\n",
    "\n",
    "knn.fit(tfidf_sent_vectors_train, Y_train)\n",
    "\n",
    "TFIDF_W2V_kdpred_train = knn.predict(tfidf_sent_vectors_train)\n",
    "\n",
    "TFIDF_W2V_kdpred_test = knn.predict(tfidf_sent_vectors_test)\n",
    "\n",
    "TFIDF_W2V_kdfpr_train, TFIDF_W2V_kdtpr_train, TFIDF_W2V_kdthrshold_train = roc_curve(Y_train, TFIDF_W2V_kdpred_train)\n",
    "\n",
    "TFIDF_W2V_kdfpr_test, TFIDF_W2V_kdtpr_test, TFIDF_W2V_kdthrshold_test = roc_curve(Y_test, TFIDF_W2V_kdpred_test)\n",
    "\n",
    "\n",
    "plt.plot(TFIDF_W2V_kdfpr_train,TFIDF_W2V_kdtpr_train,'r', label=\"Training Set\")\n",
    "plt.plot(TFIDF_W2V_kdfpr_test,TFIDF_W2V_kdtpr_test, 'blue', label = \"Test Set\")\n",
    "plt.title(\"ROC Curve for optimal K\")\n",
    "plt.xlabel(\"FPR\")\n",
    "plt.ylabel(\"TPR\")\n",
    "plt.legend()\n",
    "plt.show()\n",
    "\n",
    "cm = confusion_matrix(Y_test,TFIDF_W2V_kdpred_test)\n",
    "\n",
    "\n",
    "table2_TFIDF_W2V_kd = PrettyTable()\n",
    "\n",
    "table2_TFIDF_W2V_kd.field_names = [\"     \", \"Predicted: NO\", \"Predicted: Yes\"]\n",
    "\n",
    "table2_TFIDF_W2V_kd.add_row([\"Actual:NO\", cm[0][0], cm[0][1]])\n",
    "table2_TFIDF_W2V_kd.add_row([\"Actual: Yes\", cm[1][0], cm[1][1]])\n",
    "print(table2_TFIDF_W2V_kd)"
   ]
  },
  {
   "cell_type": "markdown",
   "metadata": {},
   "source": [
    "# [6] Conclusions"
   ]
  },
  {
   "cell_type": "code",
   "execution_count": 114,
   "metadata": {},
   "outputs": [
    {
     "name": "stdout",
     "output_type": "stream",
     "text": [
      "Comparison Table:\n",
      "+------------+--------+----------------+------+\n",
      "| Vectorizer | Model  | Hyperparameter | AUC  |\n",
      "+------------+--------+----------------+------+\n",
      "|    BOW     | Brute  |       1        | 0.59 |\n",
      "|   TFIDF    | Brute  |       1        | 0.59 |\n",
      "|  Avg W2V   | Brute  |       9        | 0.49 |\n",
      "| TFIDF W2V  | Brute  |       13       | 0.5  |\n",
      "|    BOW     | KDTree |       1        | 0.6  |\n",
      "|   TFIDF    | KDTree |       1        | 0.52 |\n",
      "|  Avg W2V   | KDTree |       3        | 0.5  |\n",
      "| TFIDF W2V  | KDTree |       13       | 0.5  |\n",
      "+------------+--------+----------------+------+\n"
     ]
    }
   ],
   "source": [
    "# Please compare all your models using Prettytable library\n",
    "\n",
    "cmpTable = PrettyTable()\n",
    "\n",
    "cmpTable.field_names = [\"Vectorizer\", \"Model\", \"Hyperparameter\", \"AUC\"]\n",
    "\n",
    "cmpTable.add_row([\"BOW\", \"Brute\",1,0.59])\n",
    "cmpTable.add_row([\"TFIDF\", \"Brute\",1,0.59])\n",
    "cmpTable.add_row([\"Avg W2V\", \"Brute\",9,0.49])\n",
    "cmpTable.add_row([\"TFIDF W2V\", \"Brute\",13,0.50])\n",
    "cmpTable.add_row([\"BOW\", \"KDTree\",1,0.60])\n",
    "cmpTable.add_row([\"TFIDF\", \"KDTree\",1,0.52])\n",
    "cmpTable.add_row([\"Avg W2V\", \"KDTree\",3,0.50])\n",
    "cmpTable.add_row([\"TFIDF W2V\", \"KDTree\",13,0.50])\n",
    "                             \n",
    "print(\"Comparison Table:\")\n",
    "    \n",
    "print(cmpTable)"
   ]
  },
  {
   "cell_type": "code",
   "execution_count": null,
   "metadata": {},
   "outputs": [],
   "source": []
  }
 ],
 "metadata": {
  "kernelspec": {
   "display_name": "Python 3",
   "language": "python",
   "name": "python3"
  },
  "language_info": {
   "codemirror_mode": {
    "name": "ipython",
    "version": 3
   },
   "file_extension": ".py",
   "mimetype": "text/x-python",
   "name": "python",
   "nbconvert_exporter": "python",
   "pygments_lexer": "ipython3",
   "version": "3.6.5"
  }
 },
 "nbformat": 4,
 "nbformat_minor": 2
}
