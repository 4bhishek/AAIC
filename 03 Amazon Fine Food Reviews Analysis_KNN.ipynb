{
 "cells": [
  {
   "cell_type": "markdown",
   "metadata": {},
   "source": [
    "# Amazon Fine Food Reviews Analysis\n",
    "\n",
    "\n",
    "Data Source: https://www.kaggle.com/snap/amazon-fine-food-reviews <br>\n",
    "\n",
    "EDA: https://nycdatascience.com/blog/student-works/amazon-fine-foods-visualization/\n",
    "\n",
    "\n",
    "The Amazon Fine Food Reviews dataset consists of reviews of fine foods from Amazon.<br>\n",
    "\n",
    "Number of reviews: 568,454<br>\n",
    "Number of users: 256,059<br>\n",
    "Number of products: 74,258<br>\n",
    "Timespan: Oct 1999 - Oct 2012<br>\n",
    "Number of Attributes/Columns in data: 10 \n",
    "\n",
    "Attribute Information:\n",
    "\n",
    "1. Id\n",
    "2. ProductId - unique identifier for the product\n",
    "3. UserId - unqiue identifier for the user\n",
    "4. ProfileName\n",
    "5. HelpfulnessNumerator - number of users who found the review helpful\n",
    "6. HelpfulnessDenominator - number of users who indicated whether they found the review helpful or not\n",
    "7. Score - rating between 1 and 5\n",
    "8. Time - timestamp for the review\n",
    "9. Summary - brief summary of the review\n",
    "10. Text - text of the review\n",
    "\n",
    "\n",
    "#### Objective:\n",
    "Given a review, determine whether the review is positive (rating of 4 or 5) or negative (rating of 1 or 2).\n",
    "\n",
    "<br>\n",
    "[Q] How to determine if a review is positive or negative?<br>\n",
    "<br> \n",
    "[Ans] We could use Score/Rating. A rating of 4 or 5 can be cosnidered as a positive review. A rating of 1 or 2 can be considered as negative one. A review of rating 3 is considered nuetral and such reviews are ignored from our analysis. This is an approximate and proxy way of determining the polarity (positivity/negativity) of a review.\n",
    "\n",
    "\n"
   ]
  },
  {
   "cell_type": "markdown",
   "metadata": {},
   "source": [
    "# [1]. Reading Data"
   ]
  },
  {
   "cell_type": "markdown",
   "metadata": {},
   "source": [
    "## [1.1] Loading the data\n",
    "\n",
    "The dataset is available in two forms\n",
    "1. .csv file\n",
    "2. SQLite Database\n",
    "\n",
    "In order to load the data, We have used the SQLITE dataset as it is easier to query the data and visualise the data efficiently.\n",
    "<br> \n",
    "\n",
    "Here as we only want to get the global sentiment of the recommendations (positive or negative), we will purposefully ignore all Scores equal to 3. If the score is above 3, then the recommendation wil be set to \"positive\". Otherwise, it will be set to \"negative\"."
   ]
  },
  {
   "cell_type": "code",
   "execution_count": 3,
   "metadata": {},
   "outputs": [],
   "source": [
    "%matplotlib inline\n",
    "import warnings\n",
    "warnings.filterwarnings(\"ignore\")\n",
    "\n",
    "\n",
    "import sqlite3\n",
    "import pandas as pd\n",
    "import numpy as np\n",
    "import nltk\n",
    "import string\n",
    "import matplotlib.pyplot as plt\n",
    "import seaborn as sns\n",
    "from sklearn.feature_extraction.text import TfidfTransformer\n",
    "from sklearn.feature_extraction.text import TfidfVectorizer\n",
    "\n",
    "from sklearn.feature_extraction.text import CountVectorizer\n",
    "from sklearn.metrics import confusion_matrix\n",
    "from sklearn import metrics\n",
    "from sklearn.metrics import roc_curve, auc\n",
    "from nltk.stem.porter import PorterStemmer\n",
    "\n",
    "import re\n",
    "# Tutorial about Python regular expressions: https://pymotw.com/2/re/\n",
    "import string\n",
    "from nltk.corpus import stopwords\n",
    "from nltk.stem import PorterStemmer\n",
    "from nltk.stem.wordnet import WordNetLemmatizer\n",
    "\n",
    "from gensim.models import Word2Vec\n",
    "from gensim.models import KeyedVectors\n",
    "import pickle\n",
    "\n",
    "from tqdm import tqdm\n",
    "import os"
   ]
  },
  {
   "cell_type": "code",
   "execution_count": 4,
   "metadata": {},
   "outputs": [
    {
     "name": "stdout",
     "output_type": "stream",
     "text": [
      "Number of data points in our data (100000, 10)\n"
     ]
    },
    {
     "data": {
      "text/html": [
       "<div>\n",
       "<style scoped>\n",
       "    .dataframe tbody tr th:only-of-type {\n",
       "        vertical-align: middle;\n",
       "    }\n",
       "\n",
       "    .dataframe tbody tr th {\n",
       "        vertical-align: top;\n",
       "    }\n",
       "\n",
       "    .dataframe thead th {\n",
       "        text-align: right;\n",
       "    }\n",
       "</style>\n",
       "<table border=\"1\" class=\"dataframe\">\n",
       "  <thead>\n",
       "    <tr style=\"text-align: right;\">\n",
       "      <th></th>\n",
       "      <th>Id</th>\n",
       "      <th>ProductId</th>\n",
       "      <th>UserId</th>\n",
       "      <th>ProfileName</th>\n",
       "      <th>HelpfulnessNumerator</th>\n",
       "      <th>HelpfulnessDenominator</th>\n",
       "      <th>Score</th>\n",
       "      <th>Time</th>\n",
       "      <th>Summary</th>\n",
       "      <th>Text</th>\n",
       "    </tr>\n",
       "  </thead>\n",
       "  <tbody>\n",
       "    <tr>\n",
       "      <th>0</th>\n",
       "      <td>1</td>\n",
       "      <td>B001E4KFG0</td>\n",
       "      <td>A3SGXH7AUHU8GW</td>\n",
       "      <td>delmartian</td>\n",
       "      <td>1</td>\n",
       "      <td>1</td>\n",
       "      <td>1</td>\n",
       "      <td>1303862400</td>\n",
       "      <td>Good Quality Dog Food</td>\n",
       "      <td>I have bought several of the Vitality canned d...</td>\n",
       "    </tr>\n",
       "    <tr>\n",
       "      <th>1</th>\n",
       "      <td>2</td>\n",
       "      <td>B00813GRG4</td>\n",
       "      <td>A1D87F6ZCVE5NK</td>\n",
       "      <td>dll pa</td>\n",
       "      <td>0</td>\n",
       "      <td>0</td>\n",
       "      <td>0</td>\n",
       "      <td>1346976000</td>\n",
       "      <td>Not as Advertised</td>\n",
       "      <td>Product arrived labeled as Jumbo Salted Peanut...</td>\n",
       "    </tr>\n",
       "    <tr>\n",
       "      <th>2</th>\n",
       "      <td>3</td>\n",
       "      <td>B000LQOCH0</td>\n",
       "      <td>ABXLMWJIXXAIN</td>\n",
       "      <td>Natalia Corres \"Natalia Corres\"</td>\n",
       "      <td>1</td>\n",
       "      <td>1</td>\n",
       "      <td>1</td>\n",
       "      <td>1219017600</td>\n",
       "      <td>\"Delight\" says it all</td>\n",
       "      <td>This is a confection that has been around a fe...</td>\n",
       "    </tr>\n",
       "  </tbody>\n",
       "</table>\n",
       "</div>"
      ],
      "text/plain": [
       "   Id   ProductId          UserId                      ProfileName  \\\n",
       "0   1  B001E4KFG0  A3SGXH7AUHU8GW                       delmartian   \n",
       "1   2  B00813GRG4  A1D87F6ZCVE5NK                           dll pa   \n",
       "2   3  B000LQOCH0   ABXLMWJIXXAIN  Natalia Corres \"Natalia Corres\"   \n",
       "\n",
       "   HelpfulnessNumerator  HelpfulnessDenominator  Score        Time  \\\n",
       "0                     1                       1      1  1303862400   \n",
       "1                     0                       0      0  1346976000   \n",
       "2                     1                       1      1  1219017600   \n",
       "\n",
       "                 Summary                                               Text  \n",
       "0  Good Quality Dog Food  I have bought several of the Vitality canned d...  \n",
       "1      Not as Advertised  Product arrived labeled as Jumbo Salted Peanut...  \n",
       "2  \"Delight\" says it all  This is a confection that has been around a fe...  "
      ]
     },
     "execution_count": 4,
     "metadata": {},
     "output_type": "execute_result"
    }
   ],
   "source": [
    "# using SQLite Table to read data.\n",
    "con = sqlite3.connect('database.sqlite') \n",
    "\n",
    "# filtering only positive and negative reviews i.e. \n",
    "# not taking into consideration those reviews with Score=3\n",
    "# SELECT * FROM Reviews WHERE Score != 3 LIMIT 500000, will give top 500000 data points\n",
    "# you can change the number to any other number based on your computing power\n",
    "\n",
    "# filtered_data = pd.read_sql_query(\"\"\" SELECT * FROM Reviews WHERE Score != 3 LIMIT 500000\"\"\", con) \n",
    "# for tsne assignment you can take 5k data points\n",
    "\n",
    "filtered_data = pd.read_sql_query(\"\"\" SELECT * FROM Reviews WHERE Score != 3 LIMIT 100000\"\"\", con) \n",
    "\n",
    "# Give reviews with Score>3 a positive rating(1), and reviews with a score<3 a negative rating(0).\n",
    "def partition(x):\n",
    "    if x < 3:\n",
    "        return 0\n",
    "    return 1\n",
    "\n",
    "#changing reviews with score less than 3 to be positive and vice-versa\n",
    "actualScore = filtered_data['Score']\n",
    "positiveNegative = actualScore.map(partition) \n",
    "filtered_data['Score'] = positiveNegative\n",
    "print(\"Number of data points in our data\", filtered_data.shape)\n",
    "filtered_data.head(3)"
   ]
  },
  {
   "cell_type": "code",
   "execution_count": 5,
   "metadata": {},
   "outputs": [],
   "source": [
    "display = pd.read_sql_query(\"\"\"\n",
    "SELECT UserId, ProductId, ProfileName, Time, Score, Text, COUNT(*)\n",
    "FROM Reviews\n",
    "GROUP BY UserId\n",
    "HAVING COUNT(*)>1\n",
    "\"\"\", con)"
   ]
  },
  {
   "cell_type": "code",
   "execution_count": 6,
   "metadata": {
    "scrolled": true
   },
   "outputs": [
    {
     "name": "stdout",
     "output_type": "stream",
     "text": [
      "(80668, 7)\n"
     ]
    },
    {
     "data": {
      "text/html": [
       "<div>\n",
       "<style scoped>\n",
       "    .dataframe tbody tr th:only-of-type {\n",
       "        vertical-align: middle;\n",
       "    }\n",
       "\n",
       "    .dataframe tbody tr th {\n",
       "        vertical-align: top;\n",
       "    }\n",
       "\n",
       "    .dataframe thead th {\n",
       "        text-align: right;\n",
       "    }\n",
       "</style>\n",
       "<table border=\"1\" class=\"dataframe\">\n",
       "  <thead>\n",
       "    <tr style=\"text-align: right;\">\n",
       "      <th></th>\n",
       "      <th>UserId</th>\n",
       "      <th>ProductId</th>\n",
       "      <th>ProfileName</th>\n",
       "      <th>Time</th>\n",
       "      <th>Score</th>\n",
       "      <th>Text</th>\n",
       "      <th>COUNT(*)</th>\n",
       "    </tr>\n",
       "  </thead>\n",
       "  <tbody>\n",
       "    <tr>\n",
       "      <th>0</th>\n",
       "      <td>#oc-R115TNMSPFT9I7</td>\n",
       "      <td>B007Y59HVM</td>\n",
       "      <td>Breyton</td>\n",
       "      <td>1331510400</td>\n",
       "      <td>2</td>\n",
       "      <td>Overall its just OK when considering the price...</td>\n",
       "      <td>2</td>\n",
       "    </tr>\n",
       "    <tr>\n",
       "      <th>1</th>\n",
       "      <td>#oc-R11D9D7SHXIJB9</td>\n",
       "      <td>B005HG9ET0</td>\n",
       "      <td>Louis E. Emory \"hoppy\"</td>\n",
       "      <td>1342396800</td>\n",
       "      <td>5</td>\n",
       "      <td>My wife has recurring extreme muscle spasms, u...</td>\n",
       "      <td>3</td>\n",
       "    </tr>\n",
       "    <tr>\n",
       "      <th>2</th>\n",
       "      <td>#oc-R11DNU2NBKQ23Z</td>\n",
       "      <td>B007Y59HVM</td>\n",
       "      <td>Kim Cieszykowski</td>\n",
       "      <td>1348531200</td>\n",
       "      <td>1</td>\n",
       "      <td>This coffee is horrible and unfortunately not ...</td>\n",
       "      <td>2</td>\n",
       "    </tr>\n",
       "    <tr>\n",
       "      <th>3</th>\n",
       "      <td>#oc-R11O5J5ZVQE25C</td>\n",
       "      <td>B005HG9ET0</td>\n",
       "      <td>Penguin Chick</td>\n",
       "      <td>1346889600</td>\n",
       "      <td>5</td>\n",
       "      <td>This will be the bottle that you grab from the...</td>\n",
       "      <td>3</td>\n",
       "    </tr>\n",
       "    <tr>\n",
       "      <th>4</th>\n",
       "      <td>#oc-R12KPBODL2B5ZD</td>\n",
       "      <td>B007OSBE1U</td>\n",
       "      <td>Christopher P. Presta</td>\n",
       "      <td>1348617600</td>\n",
       "      <td>1</td>\n",
       "      <td>I didnt like this coffee. Instead of telling y...</td>\n",
       "      <td>2</td>\n",
       "    </tr>\n",
       "  </tbody>\n",
       "</table>\n",
       "</div>"
      ],
      "text/plain": [
       "               UserId   ProductId             ProfileName        Time  Score  \\\n",
       "0  #oc-R115TNMSPFT9I7  B007Y59HVM                 Breyton  1331510400      2   \n",
       "1  #oc-R11D9D7SHXIJB9  B005HG9ET0  Louis E. Emory \"hoppy\"  1342396800      5   \n",
       "2  #oc-R11DNU2NBKQ23Z  B007Y59HVM        Kim Cieszykowski  1348531200      1   \n",
       "3  #oc-R11O5J5ZVQE25C  B005HG9ET0           Penguin Chick  1346889600      5   \n",
       "4  #oc-R12KPBODL2B5ZD  B007OSBE1U   Christopher P. Presta  1348617600      1   \n",
       "\n",
       "                                                Text  COUNT(*)  \n",
       "0  Overall its just OK when considering the price...         2  \n",
       "1  My wife has recurring extreme muscle spasms, u...         3  \n",
       "2  This coffee is horrible and unfortunately not ...         2  \n",
       "3  This will be the bottle that you grab from the...         3  \n",
       "4  I didnt like this coffee. Instead of telling y...         2  "
      ]
     },
     "execution_count": 6,
     "metadata": {},
     "output_type": "execute_result"
    }
   ],
   "source": [
    "print(display.shape)\n",
    "display.head()"
   ]
  },
  {
   "cell_type": "code",
   "execution_count": 7,
   "metadata": {},
   "outputs": [
    {
     "data": {
      "text/html": [
       "<div>\n",
       "<style scoped>\n",
       "    .dataframe tbody tr th:only-of-type {\n",
       "        vertical-align: middle;\n",
       "    }\n",
       "\n",
       "    .dataframe tbody tr th {\n",
       "        vertical-align: top;\n",
       "    }\n",
       "\n",
       "    .dataframe thead th {\n",
       "        text-align: right;\n",
       "    }\n",
       "</style>\n",
       "<table border=\"1\" class=\"dataframe\">\n",
       "  <thead>\n",
       "    <tr style=\"text-align: right;\">\n",
       "      <th></th>\n",
       "      <th>UserId</th>\n",
       "      <th>ProductId</th>\n",
       "      <th>ProfileName</th>\n",
       "      <th>Time</th>\n",
       "      <th>Score</th>\n",
       "      <th>Text</th>\n",
       "      <th>COUNT(*)</th>\n",
       "    </tr>\n",
       "  </thead>\n",
       "  <tbody>\n",
       "    <tr>\n",
       "      <th>80638</th>\n",
       "      <td>AZY10LLTJ71NX</td>\n",
       "      <td>B006P7E5ZI</td>\n",
       "      <td>undertheshrine \"undertheshrine\"</td>\n",
       "      <td>1334707200</td>\n",
       "      <td>5</td>\n",
       "      <td>I was recommended to try green tea extract to ...</td>\n",
       "      <td>5</td>\n",
       "    </tr>\n",
       "  </tbody>\n",
       "</table>\n",
       "</div>"
      ],
      "text/plain": [
       "              UserId   ProductId                      ProfileName        Time  \\\n",
       "80638  AZY10LLTJ71NX  B006P7E5ZI  undertheshrine \"undertheshrine\"  1334707200   \n",
       "\n",
       "       Score                                               Text  COUNT(*)  \n",
       "80638      5  I was recommended to try green tea extract to ...         5  "
      ]
     },
     "execution_count": 7,
     "metadata": {},
     "output_type": "execute_result"
    }
   ],
   "source": [
    "display[display['UserId']=='AZY10LLTJ71NX']"
   ]
  },
  {
   "cell_type": "code",
   "execution_count": 8,
   "metadata": {},
   "outputs": [
    {
     "data": {
      "text/plain": [
       "393063"
      ]
     },
     "execution_count": 8,
     "metadata": {},
     "output_type": "execute_result"
    }
   ],
   "source": [
    "display['COUNT(*)'].sum()"
   ]
  },
  {
   "cell_type": "markdown",
   "metadata": {},
   "source": [
    "#  [2] Exploratory Data Analysis"
   ]
  },
  {
   "cell_type": "markdown",
   "metadata": {},
   "source": [
    "## [2.1] Data Cleaning: Deduplication\n",
    "\n",
    "It is observed (as shown in the table below) that the reviews data had many duplicate entries. Hence it was necessary to remove duplicates in order to get unbiased results for the analysis of the data.  Following is an example:"
   ]
  },
  {
   "cell_type": "code",
   "execution_count": 9,
   "metadata": {
    "scrolled": false
   },
   "outputs": [
    {
     "data": {
      "text/html": [
       "<div>\n",
       "<style scoped>\n",
       "    .dataframe tbody tr th:only-of-type {\n",
       "        vertical-align: middle;\n",
       "    }\n",
       "\n",
       "    .dataframe tbody tr th {\n",
       "        vertical-align: top;\n",
       "    }\n",
       "\n",
       "    .dataframe thead th {\n",
       "        text-align: right;\n",
       "    }\n",
       "</style>\n",
       "<table border=\"1\" class=\"dataframe\">\n",
       "  <thead>\n",
       "    <tr style=\"text-align: right;\">\n",
       "      <th></th>\n",
       "      <th>Id</th>\n",
       "      <th>ProductId</th>\n",
       "      <th>UserId</th>\n",
       "      <th>ProfileName</th>\n",
       "      <th>HelpfulnessNumerator</th>\n",
       "      <th>HelpfulnessDenominator</th>\n",
       "      <th>Score</th>\n",
       "      <th>Time</th>\n",
       "      <th>Summary</th>\n",
       "      <th>Text</th>\n",
       "    </tr>\n",
       "  </thead>\n",
       "  <tbody>\n",
       "    <tr>\n",
       "      <th>0</th>\n",
       "      <td>78445</td>\n",
       "      <td>B000HDL1RQ</td>\n",
       "      <td>AR5J8UI46CURR</td>\n",
       "      <td>Geetha Krishnan</td>\n",
       "      <td>2</td>\n",
       "      <td>2</td>\n",
       "      <td>5</td>\n",
       "      <td>1199577600</td>\n",
       "      <td>LOACKER QUADRATINI VANILLA WAFERS</td>\n",
       "      <td>DELICIOUS WAFERS. I FIND THAT EUROPEAN WAFERS ...</td>\n",
       "    </tr>\n",
       "    <tr>\n",
       "      <th>1</th>\n",
       "      <td>138317</td>\n",
       "      <td>B000HDOPYC</td>\n",
       "      <td>AR5J8UI46CURR</td>\n",
       "      <td>Geetha Krishnan</td>\n",
       "      <td>2</td>\n",
       "      <td>2</td>\n",
       "      <td>5</td>\n",
       "      <td>1199577600</td>\n",
       "      <td>LOACKER QUADRATINI VANILLA WAFERS</td>\n",
       "      <td>DELICIOUS WAFERS. I FIND THAT EUROPEAN WAFERS ...</td>\n",
       "    </tr>\n",
       "    <tr>\n",
       "      <th>2</th>\n",
       "      <td>138277</td>\n",
       "      <td>B000HDOPYM</td>\n",
       "      <td>AR5J8UI46CURR</td>\n",
       "      <td>Geetha Krishnan</td>\n",
       "      <td>2</td>\n",
       "      <td>2</td>\n",
       "      <td>5</td>\n",
       "      <td>1199577600</td>\n",
       "      <td>LOACKER QUADRATINI VANILLA WAFERS</td>\n",
       "      <td>DELICIOUS WAFERS. I FIND THAT EUROPEAN WAFERS ...</td>\n",
       "    </tr>\n",
       "    <tr>\n",
       "      <th>3</th>\n",
       "      <td>73791</td>\n",
       "      <td>B000HDOPZG</td>\n",
       "      <td>AR5J8UI46CURR</td>\n",
       "      <td>Geetha Krishnan</td>\n",
       "      <td>2</td>\n",
       "      <td>2</td>\n",
       "      <td>5</td>\n",
       "      <td>1199577600</td>\n",
       "      <td>LOACKER QUADRATINI VANILLA WAFERS</td>\n",
       "      <td>DELICIOUS WAFERS. I FIND THAT EUROPEAN WAFERS ...</td>\n",
       "    </tr>\n",
       "    <tr>\n",
       "      <th>4</th>\n",
       "      <td>155049</td>\n",
       "      <td>B000PAQ75C</td>\n",
       "      <td>AR5J8UI46CURR</td>\n",
       "      <td>Geetha Krishnan</td>\n",
       "      <td>2</td>\n",
       "      <td>2</td>\n",
       "      <td>5</td>\n",
       "      <td>1199577600</td>\n",
       "      <td>LOACKER QUADRATINI VANILLA WAFERS</td>\n",
       "      <td>DELICIOUS WAFERS. I FIND THAT EUROPEAN WAFERS ...</td>\n",
       "    </tr>\n",
       "  </tbody>\n",
       "</table>\n",
       "</div>"
      ],
      "text/plain": [
       "       Id   ProductId         UserId      ProfileName  HelpfulnessNumerator  \\\n",
       "0   78445  B000HDL1RQ  AR5J8UI46CURR  Geetha Krishnan                     2   \n",
       "1  138317  B000HDOPYC  AR5J8UI46CURR  Geetha Krishnan                     2   \n",
       "2  138277  B000HDOPYM  AR5J8UI46CURR  Geetha Krishnan                     2   \n",
       "3   73791  B000HDOPZG  AR5J8UI46CURR  Geetha Krishnan                     2   \n",
       "4  155049  B000PAQ75C  AR5J8UI46CURR  Geetha Krishnan                     2   \n",
       "\n",
       "   HelpfulnessDenominator  Score        Time  \\\n",
       "0                       2      5  1199577600   \n",
       "1                       2      5  1199577600   \n",
       "2                       2      5  1199577600   \n",
       "3                       2      5  1199577600   \n",
       "4                       2      5  1199577600   \n",
       "\n",
       "                             Summary  \\\n",
       "0  LOACKER QUADRATINI VANILLA WAFERS   \n",
       "1  LOACKER QUADRATINI VANILLA WAFERS   \n",
       "2  LOACKER QUADRATINI VANILLA WAFERS   \n",
       "3  LOACKER QUADRATINI VANILLA WAFERS   \n",
       "4  LOACKER QUADRATINI VANILLA WAFERS   \n",
       "\n",
       "                                                Text  \n",
       "0  DELICIOUS WAFERS. I FIND THAT EUROPEAN WAFERS ...  \n",
       "1  DELICIOUS WAFERS. I FIND THAT EUROPEAN WAFERS ...  \n",
       "2  DELICIOUS WAFERS. I FIND THAT EUROPEAN WAFERS ...  \n",
       "3  DELICIOUS WAFERS. I FIND THAT EUROPEAN WAFERS ...  \n",
       "4  DELICIOUS WAFERS. I FIND THAT EUROPEAN WAFERS ...  "
      ]
     },
     "execution_count": 9,
     "metadata": {},
     "output_type": "execute_result"
    }
   ],
   "source": [
    "display= pd.read_sql_query(\"\"\"\n",
    "SELECT *\n",
    "FROM Reviews\n",
    "WHERE Score != 3 AND UserId=\"AR5J8UI46CURR\"\n",
    "ORDER BY ProductID\n",
    "\"\"\", con)\n",
    "display.head()"
   ]
  },
  {
   "cell_type": "markdown",
   "metadata": {},
   "source": [
    "As it can be seen above that same user has multiple reviews with same values for HelpfulnessNumerator, HelpfulnessDenominator, Score, Time, Summary and Text and on doing analysis it was found that <br>\n",
    "<br> \n",
    "ProductId=B000HDOPZG was Loacker Quadratini Vanilla Wafer Cookies, 8.82-Ounce Packages (Pack of 8)<br>\n",
    "<br> \n",
    "ProductId=B000HDL1RQ was Loacker Quadratini Lemon Wafer Cookies, 8.82-Ounce Packages (Pack of 8) and so on<br>\n",
    "\n",
    "It was inferred after analysis that reviews with same parameters other than ProductId belonged to the same product just having different flavour or quantity. Hence in order to reduce redundancy it was decided to eliminate the rows having same parameters.<br>\n",
    "\n",
    "The method used for the same was that we first sort the data according to ProductId and then just keep the first similar product review and delelte the others. for eg. in the above just the review for ProductId=B000HDL1RQ remains. This method ensures that there is only one representative for each product and deduplication without sorting would lead to possibility of different representatives still existing for the same product."
   ]
  },
  {
   "cell_type": "code",
   "execution_count": 10,
   "metadata": {},
   "outputs": [],
   "source": [
    "#Sorting data according to ProductId in ascending order\n",
    "sorted_data=filtered_data.sort_values('ProductId', axis=0, ascending=True, inplace=False, kind='quicksort', na_position='last')"
   ]
  },
  {
   "cell_type": "code",
   "execution_count": 11,
   "metadata": {},
   "outputs": [
    {
     "data": {
      "text/plain": [
       "(87775, 10)"
      ]
     },
     "execution_count": 11,
     "metadata": {},
     "output_type": "execute_result"
    }
   ],
   "source": [
    "#Deduplication of entries\n",
    "final=sorted_data.drop_duplicates(subset={\"UserId\",\"ProfileName\",\"Time\",\"Text\"}, keep='first', inplace=False)\n",
    "final.shape"
   ]
  },
  {
   "cell_type": "code",
   "execution_count": 12,
   "metadata": {},
   "outputs": [
    {
     "data": {
      "text/plain": [
       "87.775"
      ]
     },
     "execution_count": 12,
     "metadata": {},
     "output_type": "execute_result"
    }
   ],
   "source": [
    "#Checking to see how much % of data still remains\n",
    "(final['Id'].size*1.0)/(filtered_data['Id'].size*1.0)*100"
   ]
  },
  {
   "cell_type": "markdown",
   "metadata": {},
   "source": [
    "<b>Observation:-</b> It was also seen that in two rows given below the value of HelpfulnessNumerator is greater than HelpfulnessDenominator which is not practically possible hence these two rows too are removed from calcualtions"
   ]
  },
  {
   "cell_type": "code",
   "execution_count": 13,
   "metadata": {},
   "outputs": [
    {
     "data": {
      "text/html": [
       "<div>\n",
       "<style scoped>\n",
       "    .dataframe tbody tr th:only-of-type {\n",
       "        vertical-align: middle;\n",
       "    }\n",
       "\n",
       "    .dataframe tbody tr th {\n",
       "        vertical-align: top;\n",
       "    }\n",
       "\n",
       "    .dataframe thead th {\n",
       "        text-align: right;\n",
       "    }\n",
       "</style>\n",
       "<table border=\"1\" class=\"dataframe\">\n",
       "  <thead>\n",
       "    <tr style=\"text-align: right;\">\n",
       "      <th></th>\n",
       "      <th>Id</th>\n",
       "      <th>ProductId</th>\n",
       "      <th>UserId</th>\n",
       "      <th>ProfileName</th>\n",
       "      <th>HelpfulnessNumerator</th>\n",
       "      <th>HelpfulnessDenominator</th>\n",
       "      <th>Score</th>\n",
       "      <th>Time</th>\n",
       "      <th>Summary</th>\n",
       "      <th>Text</th>\n",
       "    </tr>\n",
       "  </thead>\n",
       "  <tbody>\n",
       "    <tr>\n",
       "      <th>0</th>\n",
       "      <td>64422</td>\n",
       "      <td>B000MIDROQ</td>\n",
       "      <td>A161DK06JJMCYF</td>\n",
       "      <td>J. E. Stephens \"Jeanne\"</td>\n",
       "      <td>3</td>\n",
       "      <td>1</td>\n",
       "      <td>5</td>\n",
       "      <td>1224892800</td>\n",
       "      <td>Bought This for My Son at College</td>\n",
       "      <td>My son loves spaghetti so I didn't hesitate or...</td>\n",
       "    </tr>\n",
       "    <tr>\n",
       "      <th>1</th>\n",
       "      <td>44737</td>\n",
       "      <td>B001EQ55RW</td>\n",
       "      <td>A2V0I904FH7ABY</td>\n",
       "      <td>Ram</td>\n",
       "      <td>3</td>\n",
       "      <td>2</td>\n",
       "      <td>4</td>\n",
       "      <td>1212883200</td>\n",
       "      <td>Pure cocoa taste with crunchy almonds inside</td>\n",
       "      <td>It was almost a 'love at first bite' - the per...</td>\n",
       "    </tr>\n",
       "  </tbody>\n",
       "</table>\n",
       "</div>"
      ],
      "text/plain": [
       "      Id   ProductId          UserId              ProfileName  \\\n",
       "0  64422  B000MIDROQ  A161DK06JJMCYF  J. E. Stephens \"Jeanne\"   \n",
       "1  44737  B001EQ55RW  A2V0I904FH7ABY                      Ram   \n",
       "\n",
       "   HelpfulnessNumerator  HelpfulnessDenominator  Score        Time  \\\n",
       "0                     3                       1      5  1224892800   \n",
       "1                     3                       2      4  1212883200   \n",
       "\n",
       "                                        Summary  \\\n",
       "0             Bought This for My Son at College   \n",
       "1  Pure cocoa taste with crunchy almonds inside   \n",
       "\n",
       "                                                Text  \n",
       "0  My son loves spaghetti so I didn't hesitate or...  \n",
       "1  It was almost a 'love at first bite' - the per...  "
      ]
     },
     "execution_count": 13,
     "metadata": {},
     "output_type": "execute_result"
    }
   ],
   "source": [
    "display= pd.read_sql_query(\"\"\"\n",
    "SELECT *\n",
    "FROM Reviews\n",
    "WHERE Score != 3 AND Id=44737 OR Id=64422\n",
    "ORDER BY ProductID\n",
    "\"\"\", con)\n",
    "\n",
    "display.head()"
   ]
  },
  {
   "cell_type": "code",
   "execution_count": 14,
   "metadata": {},
   "outputs": [],
   "source": [
    "final=final[final.HelpfulnessNumerator<=final.HelpfulnessDenominator]"
   ]
  },
  {
   "cell_type": "code",
   "execution_count": 15,
   "metadata": {},
   "outputs": [
    {
     "name": "stdout",
     "output_type": "stream",
     "text": [
      "(87773, 10)\n"
     ]
    },
    {
     "data": {
      "text/plain": [
       "1    73592\n",
       "0    14181\n",
       "Name: Score, dtype: int64"
      ]
     },
     "execution_count": 15,
     "metadata": {},
     "output_type": "execute_result"
    }
   ],
   "source": [
    "#Before starting the next phase of preprocessing lets see the number of entries left\n",
    "print(final.shape)\n",
    "\n",
    "#How many positive and negative reviews are present in our dataset?\n",
    "final['Score'].value_counts()"
   ]
  },
  {
   "cell_type": "markdown",
   "metadata": {},
   "source": [
    "#  [3] Preprocessing"
   ]
  },
  {
   "cell_type": "markdown",
   "metadata": {},
   "source": [
    "## [3.1].  Preprocessing Review Text\n",
    "\n",
    "Now that we have finished deduplication our data requires some preprocessing before we go on further with analysis and making the prediction model.\n",
    "\n",
    "Hence in the Preprocessing phase we do the following in the order below:-\n",
    "\n",
    "1. Begin by removing the html tags\n",
    "2. Remove any punctuations or limited set of special characters like , or . or # etc.\n",
    "3. Check if the word is made up of english letters and is not alpha-numeric\n",
    "4. Check to see if the length of the word is greater than 2 (as it was researched that there is no adjective in 2-letters)\n",
    "5. Convert the word to lowercase\n",
    "6. Remove Stopwords\n",
    "7. Finally Snowball Stemming the word (it was obsereved to be better than Porter Stemming)<br>\n",
    "\n",
    "After which we collect the words used to describe positive and negative reviews"
   ]
  },
  {
   "cell_type": "code",
   "execution_count": 16,
   "metadata": {},
   "outputs": [
    {
     "name": "stdout",
     "output_type": "stream",
     "text": [
      "My dogs loves this chicken but its a product from China, so we wont be buying it anymore.  Its very hard to find any chicken products made in the USA but they are out there, but this one isnt.  Its too bad too because its a good product but I wont take any chances till they know what is going on with the china imports.\n",
      "==================================================\n",
      "The Candy Blocks were a nice visual for the Lego Birthday party but the candy has little taste to it.  Very little of the 2 lbs that I bought were eaten and I threw the rest away.  I would not buy the candy again.\n",
      "==================================================\n",
      "was way to hot for my blood, took a bite and did a jig  lol\n",
      "==================================================\n",
      "My dog LOVES these treats. They tend to have a very strong fish oil smell. So if you are afraid of the fishy smell, don't get it. But I think my dog likes it because of the smell. These treats are really small in size. They are great for training. You can give your dog several of these without worrying about him over eating. Amazon's price was much more reasonable than any other retailer. You can buy a 1 pound bag on Amazon for almost the same price as a 6 ounce bag at other retailers. It's definitely worth it to buy a big bag if your dog eats them a lot.\n",
      "==================================================\n"
     ]
    }
   ],
   "source": [
    "# printing some random reviews\n",
    "sent_0 = final['Text'].values[0]\n",
    "print(sent_0)\n",
    "print(\"=\"*50)\n",
    "\n",
    "sent_1000 = final['Text'].values[1000]\n",
    "print(sent_1000)\n",
    "print(\"=\"*50)\n",
    "\n",
    "sent_1500 = final['Text'].values[1500]\n",
    "print(sent_1500)\n",
    "print(\"=\"*50)\n",
    "\n",
    "sent_4900 = final['Text'].values[4900]\n",
    "print(sent_4900)\n",
    "print(\"=\"*50)"
   ]
  },
  {
   "cell_type": "code",
   "execution_count": 17,
   "metadata": {},
   "outputs": [
    {
     "name": "stdout",
     "output_type": "stream",
     "text": [
      "My dogs loves this chicken but its a product from China, so we wont be buying it anymore.  Its very hard to find any chicken products made in the USA but they are out there, but this one isnt.  Its too bad too because its a good product but I wont take any chances till they know what is going on with the china imports.\n"
     ]
    }
   ],
   "source": [
    "# remove urls from text python: https://stackoverflow.com/a/40823105/4084039\n",
    "sent_0 = re.sub(r\"http\\S+\", \"\", sent_0)\n",
    "sent_1000 = re.sub(r\"http\\S+\", \"\", sent_1000)\n",
    "sent_150 = re.sub(r\"http\\S+\", \"\", sent_1500)\n",
    "sent_4900 = re.sub(r\"http\\S+\", \"\", sent_4900)\n",
    "\n",
    "print(sent_0)"
   ]
  },
  {
   "cell_type": "code",
   "execution_count": 18,
   "metadata": {},
   "outputs": [
    {
     "name": "stdout",
     "output_type": "stream",
     "text": [
      "My dogs loves this chicken but its a product from China, so we wont be buying it anymore.  Its very hard to find any chicken products made in the USA but they are out there, but this one isnt.  Its too bad too because its a good product but I wont take any chances till they know what is going on with the china imports.\n",
      "==================================================\n",
      "The Candy Blocks were a nice visual for the Lego Birthday party but the candy has little taste to it.  Very little of the 2 lbs that I bought were eaten and I threw the rest away.  I would not buy the candy again.\n",
      "==================================================\n",
      "was way to hot for my blood, took a bite and did a jig  lol\n",
      "==================================================\n",
      "My dog LOVES these treats. They tend to have a very strong fish oil smell. So if you are afraid of the fishy smell, don't get it. But I think my dog likes it because of the smell. These treats are really small in size. They are great for training. You can give your dog several of these without worrying about him over eating. Amazon's price was much more reasonable than any other retailer. You can buy a 1 pound bag on Amazon for almost the same price as a 6 ounce bag at other retailers. It's definitely worth it to buy a big bag if your dog eats them a lot.\n"
     ]
    }
   ],
   "source": [
    "# https://stackoverflow.com/questions/16206380/python-beautifulsoup-how-to-remove-all-tags-from-an-element\n",
    "from bs4 import BeautifulSoup\n",
    "\n",
    "soup = BeautifulSoup(sent_0, 'lxml')\n",
    "text = soup.get_text()\n",
    "print(text)\n",
    "print(\"=\"*50)\n",
    "\n",
    "soup = BeautifulSoup(sent_1000, 'lxml')\n",
    "text = soup.get_text()\n",
    "print(text)\n",
    "print(\"=\"*50)\n",
    "\n",
    "soup = BeautifulSoup(sent_1500, 'lxml')\n",
    "text = soup.get_text()\n",
    "print(text)\n",
    "print(\"=\"*50)\n",
    "\n",
    "soup = BeautifulSoup(sent_4900, 'lxml')\n",
    "text = soup.get_text()\n",
    "print(text)"
   ]
  },
  {
   "cell_type": "code",
   "execution_count": 19,
   "metadata": {},
   "outputs": [],
   "source": [
    "# https://stackoverflow.com/a/47091490/4084039\n",
    "import re\n",
    "\n",
    "def decontracted(phrase):\n",
    "    # specific\n",
    "    phrase = re.sub(r\"won't\", \"will not\", phrase)\n",
    "    phrase = re.sub(r\"can\\'t\", \"can not\", phrase)\n",
    "\n",
    "    # general\n",
    "    phrase = re.sub(r\"n\\'t\", \" not\", phrase)\n",
    "    phrase = re.sub(r\"\\'re\", \" are\", phrase)\n",
    "    phrase = re.sub(r\"\\'s\", \" is\", phrase)\n",
    "    phrase = re.sub(r\"\\'d\", \" would\", phrase)\n",
    "    phrase = re.sub(r\"\\'ll\", \" will\", phrase)\n",
    "    phrase = re.sub(r\"\\'t\", \" not\", phrase)\n",
    "    phrase = re.sub(r\"\\'ve\", \" have\", phrase)\n",
    "    phrase = re.sub(r\"\\'m\", \" am\", phrase)\n",
    "    return phrase"
   ]
  },
  {
   "cell_type": "code",
   "execution_count": 20,
   "metadata": {},
   "outputs": [
    {
     "name": "stdout",
     "output_type": "stream",
     "text": [
      "was way to hot for my blood, took a bite and did a jig  lol\n",
      "==================================================\n"
     ]
    }
   ],
   "source": [
    "sent_1500 = decontracted(sent_1500)\n",
    "print(sent_1500)\n",
    "print(\"=\"*50)"
   ]
  },
  {
   "cell_type": "code",
   "execution_count": 21,
   "metadata": {},
   "outputs": [
    {
     "name": "stdout",
     "output_type": "stream",
     "text": [
      "My dogs loves this chicken but its a product from China, so we wont be buying it anymore.  Its very hard to find any chicken products made in the USA but they are out there, but this one isnt.  Its too bad too because its a good product but I wont take any chances till they know what is going on with the china imports.\n"
     ]
    }
   ],
   "source": [
    "#remove words with numbers python: https://stackoverflow.com/a/18082370/4084039\n",
    "sent_0 = re.sub(\"\\S*\\d\\S*\", \"\", sent_0).strip()\n",
    "print(sent_0)"
   ]
  },
  {
   "cell_type": "code",
   "execution_count": 22,
   "metadata": {},
   "outputs": [
    {
     "name": "stdout",
     "output_type": "stream",
     "text": [
      "was way to hot for my blood took a bite and did a jig lol\n"
     ]
    }
   ],
   "source": [
    "#remove spacial character: https://stackoverflow.com/a/5843547/4084039\n",
    "sent_1500 = re.sub('[^A-Za-z0-9]+', ' ', sent_1500)\n",
    "print(sent_1500)"
   ]
  },
  {
   "cell_type": "code",
   "execution_count": 23,
   "metadata": {},
   "outputs": [],
   "source": [
    "# https://gist.github.com/sebleier/554280\n",
    "# we are removing the words from the stop words list: 'no', 'nor', 'not'\n",
    "# <br /><br /> ==> after the above steps, we are getting \"br br\"\n",
    "# we are including them into stop words list\n",
    "# instead of <br /> if we have <br/> these tags would have revmoved in the 1st step\n",
    "\n",
    "stopwords= set(['br', 'the', 'i', 'me', 'my', 'myself', 'we', 'our', 'ours', 'ourselves', 'you', \"you're\", \"you've\",\\\n",
    "            \"you'll\", \"you'd\", 'your', 'yours', 'yourself', 'yourselves', 'he', 'him', 'his', 'himself', \\\n",
    "            'she', \"she's\", 'her', 'hers', 'herself', 'it', \"it's\", 'its', 'itself', 'they', 'them', 'their',\\\n",
    "            'theirs', 'themselves', 'what', 'which', 'who', 'whom', 'this', 'that', \"that'll\", 'these', 'those', \\\n",
    "            'am', 'is', 'are', 'was', 'were', 'be', 'been', 'being', 'have', 'has', 'had', 'having', 'do', 'does', \\\n",
    "            'did', 'doing', 'a', 'an', 'the', 'and', 'but', 'if', 'or', 'because', 'as', 'until', 'while', 'of', \\\n",
    "            'at', 'by', 'for', 'with', 'about', 'against', 'between', 'into', 'through', 'during', 'before', 'after',\\\n",
    "            'above', 'below', 'to', 'from', 'up', 'down', 'in', 'out', 'on', 'off', 'over', 'under', 'again', 'further',\\\n",
    "            'then', 'once', 'here', 'there', 'when', 'where', 'why', 'how', 'all', 'any', 'both', 'each', 'few', 'more',\\\n",
    "            'most', 'other', 'some', 'such', 'only', 'own', 'same', 'so', 'than', 'too', 'very', \\\n",
    "            's', 't', 'can', 'will', 'just', 'don', \"don't\", 'should', \"should've\", 'now', 'd', 'll', 'm', 'o', 're', \\\n",
    "            've', 'y', 'ain', 'aren', \"aren't\", 'couldn', \"couldn't\", 'didn', \"didn't\", 'doesn', \"doesn't\", 'hadn',\\\n",
    "            \"hadn't\", 'hasn', \"hasn't\", 'haven', \"haven't\", 'isn', \"isn't\", 'ma', 'mightn', \"mightn't\", 'mustn',\\\n",
    "            \"mustn't\", 'needn', \"needn't\", 'shan', \"shan't\", 'shouldn', \"shouldn't\", 'wasn', \"wasn't\", 'weren', \"weren't\", \\\n",
    "            'won', \"won't\", 'wouldn', \"wouldn't\"])"
   ]
  },
  {
   "cell_type": "code",
   "execution_count": 24,
   "metadata": {},
   "outputs": [
    {
     "name": "stderr",
     "output_type": "stream",
     "text": [
      "100%|██████████████████████████████████████████████████████████████████████████| 87773/87773 [00:40<00:00, 2189.92it/s]\n"
     ]
    }
   ],
   "source": [
    "# Combining all the above stundents \n",
    "from tqdm import tqdm\n",
    "preprocessed_reviews = []\n",
    "# tqdm is for printing the status bar\n",
    "for sentance in tqdm(final['Text'].values):\n",
    "    sentance = re.sub(r\"http\\S+\", \"\", sentance)\n",
    "    sentance = BeautifulSoup(sentance, 'lxml').get_text()\n",
    "    sentance = decontracted(sentance)\n",
    "    sentance = re.sub(\"\\S*\\d\\S*\", \"\", sentance).strip()\n",
    "    sentance = re.sub('[^A-Za-z]+', ' ', sentance)\n",
    "    # https://gist.github.com/sebleier/554280\n",
    "    sentance = ' '.join(e.lower() for e in sentance.split() if e.lower() not in stopwords)\n",
    "    preprocessed_reviews.append(sentance.strip())"
   ]
  },
  {
   "cell_type": "code",
   "execution_count": 25,
   "metadata": {},
   "outputs": [
    {
     "data": {
      "text/plain": [
       "'way hot blood took bite jig lol'"
      ]
     },
     "execution_count": 25,
     "metadata": {},
     "output_type": "execute_result"
    }
   ],
   "source": [
    "preprocessed_reviews[1500]"
   ]
  },
  {
   "cell_type": "markdown",
   "metadata": {},
   "source": [
    "<h2><font color='red'>[3.2] Preprocessing Review Summary</font></h2>"
   ]
  },
  {
   "cell_type": "code",
   "execution_count": 26,
   "metadata": {},
   "outputs": [],
   "source": [
    "## Similartly you can do preprocessing for review summary also."
   ]
  },
  {
   "cell_type": "markdown",
   "metadata": {},
   "source": [
    "# [4] Data Splitting"
   ]
  },
  {
   "cell_type": "code",
   "execution_count": 27,
   "metadata": {},
   "outputs": [
    {
     "name": "stdout",
     "output_type": "stream",
     "text": [
      "X training set length:52663\n",
      "Y training set length:52663\n",
      "X CV set length:17555\n",
      "Y cv set length:17555\n",
      "X test set length:17555\n",
      "Y test set length:17555\n"
     ]
    }
   ],
   "source": [
    "from sklearn.cross_validation import train_test_split\n",
    "\n",
    "#print(type(preprocessed_reviews))\n",
    "#print(len(preprocessed_reviews))\n",
    "Y = final[\"Score\"].tolist()\n",
    "#print(type(Y))\n",
    "#print(len(Y))\n",
    "\n",
    "X_train_cv,X_test, Y_train_cv, Y_test = train_test_split(preprocessed_reviews, Y, test_size = 0.2)\n",
    "\n",
    "X_train, X_cv, Y_train, Y_cv = train_test_split(X_train_cv, Y_train_cv, test_size = 0.25)\n",
    "\n",
    "#print(type(X_train_cv))\n",
    "print(\"X training set length:\" + str(len(X_train)))\n",
    "#print(type(X_test))\n",
    "print(\"Y training set length:\" + str(len(Y_train)))\n",
    "print(\"X CV set length:\" + str(len(X_cv)))\n",
    "print(\"Y cv set length:\" + str(len(Y_cv)))\n",
    "print(\"X test set length:\" + str(len(X_test)))\n",
    "print(\"Y test set length:\" + str(len(Y_test)))\n"
   ]
  },
  {
   "cell_type": "markdown",
   "metadata": {},
   "source": [
    "# [5] Featurization"
   ]
  },
  {
   "cell_type": "markdown",
   "metadata": {},
   "source": [
    "## [5.1] BAG OF WORDS"
   ]
  },
  {
   "cell_type": "code",
   "execution_count": 28,
   "metadata": {
    "scrolled": true
   },
   "outputs": [
    {
     "name": "stdout",
     "output_type": "stream",
     "text": [
      "the type of count vectorizer for training set:  <class 'scipy.sparse.csr.csr_matrix'>\n",
      "the shape of out text BOW vectorizer for training set:  (52663, 43075)\n",
      "the number of unique words for training set:  43075\n",
      "###############################################################################################################################\n",
      "the type of count vectorizer for CV set:  <class 'scipy.sparse.csr.csr_matrix'>\n",
      "the shape of out text BOW vectorizer for CV set:  (17555, 43075)\n",
      "the number of unique words for CV set:  43075\n",
      "###############################################################################################################################\n",
      "the type of count vectorizer for test set:  <class 'scipy.sparse.csr.csr_matrix'>\n",
      "the shape of out text BOW vectorizer for test set:  (17555, 43075)\n",
      "the number of unique words for test set:  43075\n"
     ]
    }
   ],
   "source": [
    "#BoW for training set\n",
    "count_vect = CountVectorizer() #in scikit-learn\n",
    "#count_vect.fit(X_train)\n",
    "#print(\"some feature names \", count_vect.get_feature_names()[:10])\n",
    "#print('='*127)\n",
    "\n",
    "final_counts_train = count_vect.fit_transform(X_train)\n",
    "print(\"the type of count vectorizer for training set: \",type(final_counts_train))\n",
    "print(\"the shape of out text BOW vectorizer for training set: \",final_counts_train.get_shape())\n",
    "print(\"the number of unique words for training set: \", final_counts_train.get_shape()[1])\n",
    "print('#'*127)\n",
    "###############################################################################################################################\n",
    "#BOW for CV set\n",
    "#count_vect = CountVectorizer() #in scikit-learn\n",
    "#count_vect.fit(X_cv)\n",
    "#print(\"some feature names \", count_vect.get_feature_names()[:10])\n",
    "#print('='*127)\n",
    "\n",
    "final_counts_cv = count_vect.transform(X_cv)\n",
    "print(\"the type of count vectorizer for CV set: \",type(final_counts_cv))\n",
    "print(\"the shape of out text BOW vectorizer for CV set: \",final_counts_cv.get_shape())\n",
    "print(\"the number of unique words for CV set: \", final_counts_cv.get_shape()[1])\n",
    "print('#'*127)\n",
    "###############################################################################################################################\n",
    "#BOW for test set\n",
    "#count_vect = CountVectorizer() #in scikit-learn\n",
    "#count_vect.fit(X_test)\n",
    "#print(\"some feature names \", count_vect.get_feature_names()[:10])\n",
    "#print('='*127)\n",
    "\n",
    "final_counts_test = count_vect.transform(X_test)\n",
    "print(\"the type of count vectorizer for test set: \",type(final_counts_test))\n",
    "print(\"the shape of out text BOW vectorizer for test set: \",final_counts_test.get_shape())\n",
    "print(\"the number of unique words for test set: \", final_counts_test.get_shape()[1])\n"
   ]
  },
  {
   "cell_type": "markdown",
   "metadata": {},
   "source": [
    "## [5.1.1] BAG OF WORDS-MAX FEATURES RESTRICTED"
   ]
  },
  {
   "cell_type": "code",
   "execution_count": 29,
   "metadata": {},
   "outputs": [
    {
     "name": "stdout",
     "output_type": "stream",
     "text": [
      "the type of count vectorizer for training set:  <class 'scipy.sparse.csr.csr_matrix'>\n",
      "the shape of out text BOW vectorizer for training set:  (52663, 500)\n",
      "the number of unique words for training set:  500\n",
      "###############################################################################################################################\n",
      "the type of count vectorizer for CV set:  <class 'scipy.sparse.csr.csr_matrix'>\n",
      "the shape of out text BOW vectorizer for CV set:  (17555, 500)\n",
      "the number of unique words for CV set:  500\n",
      "###############################################################################################################################\n",
      "the type of count vectorizer for test set:  <class 'scipy.sparse.csr.csr_matrix'>\n",
      "the shape of out text BOW vectorizer for test set:  (17555, 500)\n",
      "the number of unique words for test set:  500\n"
     ]
    }
   ],
   "source": [
    "#BoW for training set\n",
    "count_vect = CountVectorizer(min_df=10, max_features=500) #in scikit-learn\n",
    "#count_vect.fit(X_train)\n",
    "#print(\"some feature names \", count_vect.get_feature_names()[:10])\n",
    "#print('='*127)\n",
    "\n",
    "final_counts_res_train = count_vect.fit_transform(X_train)\n",
    "print(\"the type of count vectorizer for training set: \",type(final_counts_res_train))\n",
    "print(\"the shape of out text BOW vectorizer for training set: \",final_counts_res_train.get_shape())\n",
    "print(\"the number of unique words for training set: \", final_counts_res_train.get_shape()[1])\n",
    "print('#'*127)\n",
    "###############################################################################################################################\n",
    "#BOW for CV set\n",
    "#count_vect = CountVectorizer() #in scikit-learn\n",
    "#count_vect.fit(X_cv)\n",
    "#print(\"some feature names \", count_vect.get_feature_names()[:10])\n",
    "#print('='*127)\n",
    "\n",
    "final_counts_res_cv = count_vect.transform(X_cv)\n",
    "print(\"the type of count vectorizer for CV set: \",type(final_counts_res_cv))\n",
    "print(\"the shape of out text BOW vectorizer for CV set: \",final_counts_res_cv.get_shape())\n",
    "print(\"the number of unique words for CV set: \", final_counts_res_cv.get_shape()[1])\n",
    "print('#'*127)\n",
    "###############################################################################################################################\n",
    "#BOW for test set\n",
    "#count_vect = CountVectorizer() #in scikit-learn\n",
    "#count_vect.fit(X_test)\n",
    "#print(\"some feature names \", count_vect.get_feature_names()[:10])\n",
    "#print('='*127)\n",
    "\n",
    "final_counts_res_test = count_vect.transform(X_test)\n",
    "print(\"the type of count vectorizer for test set: \",type(final_counts_res_test))\n",
    "print(\"the shape of out text BOW vectorizer for test set: \",final_counts_res_test.get_shape())\n",
    "print(\"the number of unique words for test set: \", final_counts_res_test.get_shape()[1])\n"
   ]
  },
  {
   "cell_type": "markdown",
   "metadata": {},
   "source": [
    "## [5.2] Bi-Grams and n-Grams."
   ]
  },
  {
   "cell_type": "code",
   "execution_count": 30,
   "metadata": {},
   "outputs": [
    {
     "name": "stdout",
     "output_type": "stream",
     "text": [
      "the type of count vectorizer  <class 'scipy.sparse.csr.csr_matrix'>\n",
      "the shape of out text BOW vectorizer  (87773, 5000)\n",
      "the number of unique words including both unigrams and bigrams  5000\n"
     ]
    }
   ],
   "source": [
    "#bi-gram, tri-gram and n-gram\n",
    "\n",
    "#removing stop words like \"not\" should be avoided before building n-grams\n",
    "# count_vect = CountVectorizer(ngram_range=(1,2))\n",
    "# please do read the CountVectorizer documentation http://scikit-learn.org/stable/modules/generated/sklearn.feature_extraction.text.CountVectorizer.html\n",
    "\n",
    "# you can choose these numebrs min_df=10, max_features=5000, of your choice\n",
    "count_vect = CountVectorizer(ngram_range=(1,2), min_df=10, max_features=5000)\n",
    "final_bigram_counts = count_vect.fit_transform(preprocessed_reviews)\n",
    "print(\"the type of count vectorizer \",type(final_bigram_counts))\n",
    "print(\"the shape of out text BOW vectorizer \",final_bigram_counts.get_shape())\n",
    "print(\"the number of unique words including both unigrams and bigrams \", final_bigram_counts.get_shape()[1])"
   ]
  },
  {
   "cell_type": "markdown",
   "metadata": {},
   "source": [
    "## [5.3] TF-IDF"
   ]
  },
  {
   "cell_type": "code",
   "execution_count": 31,
   "metadata": {},
   "outputs": [
    {
     "name": "stdout",
     "output_type": "stream",
     "text": [
      "some sample features(unique words in the corpus) ['aa', 'abandoned', 'abdominal', 'ability', 'able', 'able add', 'able buy', 'able chew', 'able drink', 'able eat']\n",
      "===============================================================================================================================\n",
      "the type of count vectorizer for training set:  <class 'scipy.sparse.csr.csr_matrix'>\n",
      "the shape of out text TFIDF vectorizer for training set:  (52663, 31187)\n",
      "the number of unique words including both unigrams and bigrams for training set:  31187\n",
      "###############################################################################################################################\n",
      "some sample features(unique words in the corpus) ['aa', 'abandoned', 'abdominal', 'ability', 'able', 'able add', 'able buy', 'able chew', 'able drink', 'able eat']\n",
      "===============================================================================================================================\n",
      "the type of count vectorizer for CV set:  <class 'scipy.sparse.csr.csr_matrix'>\n",
      "the shape of out text TFIDF vectorizer for CV set:  (17555, 31187)\n",
      "the number of unique words including both unigrams and bigrams for CV set:  31187\n",
      "###############################################################################################################################\n",
      "some sample features(unique words in the corpus) ['aa', 'abandoned', 'abdominal', 'ability', 'able', 'able add', 'able buy', 'able chew', 'able drink', 'able eat']\n",
      "===============================================================================================================================\n",
      "the type of count vectorizer for test set:  <class 'scipy.sparse.csr.csr_matrix'>\n",
      "the shape of out text TFIDF vectorizer for test set:  (17555, 31187)\n",
      "the number of unique words including both unigrams and bigrams for test set:  31187\n"
     ]
    }
   ],
   "source": [
    "#TF-IDFfor training Set\n",
    "tf_idf_vect = TfidfVectorizer(ngram_range=(1,2), min_df=10)\n",
    "tf_idf_vect.fit(X_train)\n",
    "print(\"some sample features(unique words in the corpus)\",tf_idf_vect.get_feature_names()[0:10])\n",
    "print('='*127)\n",
    "\n",
    "final_tf_idf_train = tf_idf_vect.transform(X_train)\n",
    "print(\"the type of count vectorizer for training set: \",type(final_tf_idf_train))\n",
    "print(\"the shape of out text TFIDF vectorizer for training set: \",final_tf_idf_train.get_shape())\n",
    "print(\"the number of unique words including both unigrams and bigrams for training set: \", final_tf_idf_train.get_shape()[1])\n",
    "print('#'*127)\n",
    "################################################################################################################################\n",
    "#TF-IDFfor CV Set\n",
    "#tf_idf_vect = TfidfVectorizer(ngram_range=(1,2), min_df=10)\n",
    "#tf_idf_vect.fit(X_cv)\n",
    "print(\"some sample features(unique words in the corpus)\",tf_idf_vect.get_feature_names()[0:10])\n",
    "print('='*127)\n",
    "\n",
    "final_tf_idf_cv = tf_idf_vect.transform(X_cv)\n",
    "print(\"the type of count vectorizer for CV set: \",type(final_tf_idf_cv))\n",
    "print(\"the shape of out text TFIDF vectorizer for CV set: \",final_tf_idf_cv.get_shape())\n",
    "print(\"the number of unique words including both unigrams and bigrams for CV set: \", final_tf_idf_cv.get_shape()[1])\n",
    "print('#'*127)\n",
    "################################################################################################################################\n",
    "#TF-IDFfor test Set\n",
    "#tf_idf_vect = TfidfVectorizer(ngram_range=(1,2), min_df=10)\n",
    "#tf_idf_vect.fit(X_test)\n",
    "print(\"some sample features(unique words in the corpus)\",tf_idf_vect.get_feature_names()[0:10])\n",
    "print('='*127)\n",
    "\n",
    "final_tf_idf_test = tf_idf_vect.transform(X_test)\n",
    "print(\"the type of count vectorizer for test set: \",type(final_tf_idf_cv))\n",
    "print(\"the shape of out text TFIDF vectorizer for test set: \",final_tf_idf_test.get_shape())\n",
    "print(\"the number of unique words including both unigrams and bigrams for test set: \", final_tf_idf_test.get_shape()[1])\n",
    "#print('#'*127)"
   ]
  },
  {
   "cell_type": "markdown",
   "metadata": {},
   "source": [
    "## [5.3.1] TF-IDF-MAX FEATURES RESTRICTED"
   ]
  },
  {
   "cell_type": "code",
   "execution_count": 32,
   "metadata": {},
   "outputs": [
    {
     "name": "stdout",
     "output_type": "stream",
     "text": [
      "some sample features(unique words in the corpus) ['able', 'absolutely', 'actually', 'add', 'added', 'aftertaste', 'ago', 'almonds', 'almost', 'also']\n",
      "===============================================================================================================================\n",
      "the type of count vectorizer for training set:  <class 'scipy.sparse.csr.csr_matrix'>\n",
      "the shape of out text TFIDF vectorizer for training set:  (52663, 500)\n",
      "the number of unique words including both unigrams and bigrams for training set:  500\n",
      "###############################################################################################################################\n",
      "some sample features(unique words in the corpus) ['able', 'absolutely', 'actually', 'add', 'added', 'aftertaste', 'ago', 'almonds', 'almost', 'also']\n",
      "===============================================================================================================================\n",
      "the type of count vectorizer for CV set:  <class 'scipy.sparse.csr.csr_matrix'>\n",
      "the shape of out text TFIDF vectorizer for CV set:  (17555, 500)\n",
      "the number of unique words including both unigrams and bigrams for CV set:  500\n",
      "###############################################################################################################################\n",
      "some sample features(unique words in the corpus) ['able', 'absolutely', 'actually', 'add', 'added', 'aftertaste', 'ago', 'almonds', 'almost', 'also']\n",
      "===============================================================================================================================\n",
      "the type of count vectorizer for test set:  <class 'scipy.sparse.csr.csr_matrix'>\n",
      "the shape of out text TFIDF vectorizer for test set:  (17555, 500)\n",
      "the number of unique words including both unigrams and bigrams for test set:  500\n"
     ]
    }
   ],
   "source": [
    "#TF-IDFfor training Set\n",
    "tf_idf_vect = TfidfVectorizer(ngram_range=(1,2), min_df=10, max_features=500)\n",
    "tf_idf_vect.fit(X_train)\n",
    "print(\"some sample features(unique words in the corpus)\",tf_idf_vect.get_feature_names()[0:10])\n",
    "print('='*127)\n",
    "\n",
    "final_tf_idf_res_train = tf_idf_vect.transform(X_train)\n",
    "print(\"the type of count vectorizer for training set: \",type(final_tf_idf_res_train))\n",
    "print(\"the shape of out text TFIDF vectorizer for training set: \",final_tf_idf_res_train.get_shape())\n",
    "print(\"the number of unique words including both unigrams and bigrams for training set: \", final_tf_idf_res_train.get_shape()[1])\n",
    "print('#'*127)\n",
    "################################################################################################################################\n",
    "#TF-IDFfor CV Set\n",
    "#tf_idf_vect = TfidfVectorizer(ngram_range=(1,2), min_df=10)\n",
    "#tf_idf_vect.fit(X_cv)\n",
    "print(\"some sample features(unique words in the corpus)\",tf_idf_vect.get_feature_names()[0:10])\n",
    "print('='*127)\n",
    "\n",
    "final_tf_idf_res_cv = tf_idf_vect.transform(X_cv)\n",
    "print(\"the type of count vectorizer for CV set: \",type(final_tf_idf_res_cv))\n",
    "print(\"the shape of out text TFIDF vectorizer for CV set: \",final_tf_idf_res_cv.get_shape())\n",
    "print(\"the number of unique words including both unigrams and bigrams for CV set: \", final_tf_idf_res_cv.get_shape()[1])\n",
    "print('#'*127)\n",
    "################################################################################################################################\n",
    "#TF-IDFfor test Set\n",
    "#tf_idf_vect = TfidfVectorizer(ngram_range=(1,2), min_df=10)\n",
    "#tf_idf_vect.fit(X_test)\n",
    "print(\"some sample features(unique words in the corpus)\",tf_idf_vect.get_feature_names()[0:10])\n",
    "print('='*127)\n",
    "\n",
    "final_tf_idf_res_test = tf_idf_vect.transform(X_test)\n",
    "print(\"the type of count vectorizer for test set: \",type(final_tf_idf_res_cv))\n",
    "print(\"the shape of out text TFIDF vectorizer for test set: \",final_tf_idf_res_test.get_shape())\n",
    "print(\"the number of unique words including both unigrams and bigrams for test set: \", final_tf_idf_res_test.get_shape()[1])\n",
    "#print('#'*127)"
   ]
  },
  {
   "cell_type": "markdown",
   "metadata": {},
   "source": [
    "## [5.4] Word2Vec"
   ]
  },
  {
   "cell_type": "code",
   "execution_count": 33,
   "metadata": {},
   "outputs": [],
   "source": [
    "# Train your own Word2Vec model using your own text corpus\n",
    "i=0\n",
    "list_of_sentance_train=[]\n",
    "for sentance in X_train:\n",
    "    list_of_sentance_train.append(sentance.split())"
   ]
  },
  {
   "cell_type": "code",
   "execution_count": 34,
   "metadata": {
    "scrolled": true
   },
   "outputs": [],
   "source": [
    "# Using Google News Word2Vectors\n",
    "\n",
    "# in this project we are using a pretrained model by google\n",
    "# its 3.3G file, once you load this into your memory \n",
    "# it occupies ~9Gb, so please do this step only if you have >12G of ram\n",
    "# we will provide a pickle file wich contains a dict , \n",
    "# and it contains all our courpus words as keys and  model[word] as values\n",
    "# To use this code-snippet, download \"GoogleNews-vectors-negative300.bin\" \n",
    "# from https://drive.google.com/file/d/0B7XkCwpI5KDYNlNUTTlSS21pQmM/edit\n",
    "# it's 1.9GB in size.\n",
    "\n",
    "\n",
    "# http://kavita-ganesan.com/gensim-word2vec-tutorial-starter-code/#.W17SRFAzZPY\n",
    "# you can comment this whole cell\n",
    "# or change these varible according to your need\n",
    "\n",
    "#is_your_ram_gt_16g=False\n",
    "#want_to_use_google_w2v = False\n",
    "#want_to_train_w2v = True\n",
    "\n",
    "#if want_to_train_w2v:\n",
    "\n",
    "#training train_data\n",
    "    # min_count = 5 considers only words that occured atleast 5 times\n",
    "w2v_model_train=Word2Vec(list_of_sentance_train,min_count=5,size=50, workers=4)\n",
    "#print(type(w2v_model))\n",
    "#print(w2v_model.wv.most_similar('great'))\n",
    "#print('='*50)\n",
    "#print(w2v_model.wv.most_similar('worst'))\n",
    "    \n",
    "#print(\"#\"*127)\n",
    "\n",
    "list_of_sentance_cv=[]\n",
    "for sentance in X_cv:\n",
    "    list_of_sentance_cv.append(sentance.split())\n",
    "\n",
    "# min_count = 5 considers only words that occured atleast 5 times\n",
    "w2v_model_cv=Word2Vec(list_of_sentance_cv,min_count=5,size=50, workers=4)\n",
    "#print(w2v_model.wv.most_similar('great'))\n",
    "#print('='*50)\n",
    "#print(w2v_model.wv.most_similar('worst'))\n",
    "    \n",
    "#print(\"#\"*127)\n",
    "    \n",
    "    \n",
    "list_of_sentance_test=[]\n",
    "for sentance in X_test:\n",
    "    list_of_sentance_test.append(sentance.split())\n",
    "\n",
    "# min_count = 5 considers only words that occured atleast 5 times\n",
    "w2v_model_test=Word2Vec(list_of_sentance_test,min_count=5,size=50, workers=4)\n",
    "#print(w2v_model.wv.most_similar('great'))\n",
    "#print('='*50)\n",
    "#print(w2v_model.wv.most_similar('worst'))\n",
    "\n",
    "#elif want_to_use_google_w2v and is_your_ram_gt_16g:\n",
    "    #if os.path.isfile('GoogleNews-vectors-negative300.bin'):\n",
    "        #w2v_model=KeyedVectors.load_word2vec_format('GoogleNews-vectors-negative300.bin', binary=True)\n",
    "        #print(w2v_model.wv.most_similar('great'))\n",
    "        #print(w2v_model.wv.most_similar('worst'))\n",
    "    #else:\n",
    "        #print(\"you don't have gogole's word2vec file, keep want_to_train_w2v = True, to train your own w2v \")"
   ]
  },
  {
   "cell_type": "code",
   "execution_count": 35,
   "metadata": {},
   "outputs": [
    {
     "name": "stdout",
     "output_type": "stream",
     "text": [
      "number of words that occured minimum 5 times in Training set 13881\n",
      "sample words in training set ['masala', 'chai', 'absolutely', 'delicious', 'definitely', 'spicy', 'average', 'american', 'vanilla', 'traditional', 'modern', 'yummy', 'spices', 'able', 'feel', 'tummy', 'warmed', 'num', 'product', 'inexpensive', 'makes', 'many', 'cups', 'small', 'package', 'need', 'amount', 'per', 'cup', 'added', 'warm', 'milk', 'no', 'complaints', 'supply', 'issues', 'since', 'day', 'baby', 'born', 'part', 'due', 'lactation', 'consultant', 'pediatrician', 'recommended', 'fenugreek', 'finally', 'tried', 'worked']\n",
      "###############################################################################################################################\n",
      "number of words that occured minimum 5 times in CV set 8050\n",
      "sample words in CV set ['dog', 'weighs', 'little', 'big', 'awkward', 'draw', 'game', 'tug', 'war', 'though', 'slightly', 'larger', 'might', 'better', 'time', 'toy', 'seems', 'sturdy', 'screw', 'cap', 'bottom', 'makes', 'filling', 'easy', 'loves', 'vet', 'agrees', 'helps', 'keep', 'breath', 'fresh', 'teeth', 'clean', 'best', 'pricing', 'found', 'far', 'love', 'even', 'received', 'product', 'expiration', 'date', 'last', 'april', 'not', 'work', 'well', 'yeast', 'disappointed']\n",
      "###############################################################################################################################\n",
      "number of words that occured minimum 5 times in Test set 8076\n",
      "sample words in test set ['pretty', 'decent', 'bar', 'quite', 'filling', 'would', 'suggest', 'less', 'cashews', 'coconut', 'make', 'tasty', 'first', 'ran', 'across', 'cookies', 'germany', 'christmas', 'season', 'selling', 'hooked', 'contact', 'friends', 'send', 'could', 'find', 'various', 'next', 'time', 'flight', 'found', 'ordered', 'internet', 'amazing', 'must', 'try', 'ordering', 'today', 'fragrant', 'bought', 'several', 'different', 'types', 'spices', 'company', 'bulk', 'fresh', 'good', 'plus', 'price']\n"
     ]
    }
   ],
   "source": [
    "w2v_words_train = list(w2v_model_train.wv.vocab)\n",
    "print(\"number of words that occured minimum 5 times in Training set\",len(w2v_words_train))\n",
    "print(\"sample words in training set\", w2v_words_train[0:50])\n",
    "\n",
    "print(\"#\"*127)\n",
    "\n",
    "w2v_words_cv = list(w2v_model_cv.wv.vocab)\n",
    "print(\"number of words that occured minimum 5 times in CV set\",len(w2v_words_cv))\n",
    "print(\"sample words in CV set\", w2v_words_cv[0:50])\n",
    "\n",
    "print(\"#\"*127)\n",
    "\n",
    "w2v_words_test = list(w2v_model_test.wv.vocab)\n",
    "print(\"number of words that occured minimum 5 times in Test set\",len(w2v_words_test))\n",
    "print(\"sample words in test set\", w2v_words_test[0:50])"
   ]
  },
  {
   "cell_type": "markdown",
   "metadata": {},
   "source": [
    "## [4.4.1] Converting text into vectors using Avg W2V, TFIDF-W2V"
   ]
  },
  {
   "cell_type": "markdown",
   "metadata": {},
   "source": [
    "#### [4.4.1.1] Avg W2v"
   ]
  },
  {
   "cell_type": "code",
   "execution_count": 35,
   "metadata": {},
   "outputs": [
    {
     "name": "stderr",
     "output_type": "stream",
     "text": [
      "100%|███████████████████████████████████████████████████████████| 52663/52663 [03:14<00:00, 271.19it/s]\n"
     ]
    },
    {
     "name": "stdout",
     "output_type": "stream",
     "text": [
      "52663\n",
      "50\n",
      "###############################################################################################################################\n"
     ]
    },
    {
     "name": "stderr",
     "output_type": "stream",
     "text": [
      "100%|███████████████████████████████████████████████████████████| 17555/17555 [00:39<00:00, 439.18it/s]\n"
     ]
    },
    {
     "name": "stdout",
     "output_type": "stream",
     "text": [
      "17555\n",
      "50\n",
      "###############################################################################################################################\n"
     ]
    },
    {
     "name": "stderr",
     "output_type": "stream",
     "text": [
      "100%|███████████████████████████████████████████████████████████| 17555/17555 [00:40<00:00, 436.21it/s]\n"
     ]
    },
    {
     "name": "stdout",
     "output_type": "stream",
     "text": [
      "17555\n",
      "50\n"
     ]
    }
   ],
   "source": [
    "# average Word2Vec\n",
    "# compute average word2vec for each review.\n",
    "sent_vectors_train = []; # the avg-w2v for each sentence/review is stored in this list\n",
    "for sent in tqdm(list_of_sentance_train): # for each review/sentence\n",
    "    sent_vec_train = np.zeros(50) # as word vectors are of zero length 50, you might need to change this to 300 if you use google's w2v\n",
    "    cnt_words_train =0; # num of words with a valid vector in the sentence/review\n",
    "    for word in sent: # for each word in a review/sentence\n",
    "        if word in w2v_words_train:\n",
    "            vec_train = w2v_model_train.wv[word]\n",
    "            sent_vec_train += vec_train\n",
    "            cnt_words_train += 1\n",
    "    if cnt_words_train != 0:\n",
    "        sent_vec_train /= cnt_words_train\n",
    "    sent_vectors_train.append(sent_vec_train)\n",
    "print(len(sent_vectors_train))\n",
    "print(len(sent_vectors_train[0]))\n",
    "\n",
    "print(\"#\"*127)\n",
    "\n",
    "sent_vectors_cv = []; # the avg-w2v for each sentence/review is stored in this list\n",
    "for sent in tqdm(list_of_sentance_cv): # for each review/sentence\n",
    "    sent_vec_cv = np.zeros(50) # as word vectors are of zero length 50, you might need to change this to 300 if you use google's w2v\n",
    "    cnt_words_cv =0; # num of words with a valid vector in the sentence/review\n",
    "    for word in sent: # for each word in a review/sentence\n",
    "        if word in w2v_words_cv:\n",
    "            vec_cv = w2v_model_cv.wv[word]\n",
    "            sent_vec_cv += vec_cv\n",
    "            cnt_words_cv += 1\n",
    "    if cnt_words_cv != 0:\n",
    "        sent_vec_cv /= cnt_words_cv\n",
    "    sent_vectors_cv.append(sent_vec_cv)\n",
    "print(len(sent_vectors_cv))\n",
    "print(len(sent_vectors_cv[0]))\n",
    "\n",
    "print(\"#\"*127)\n",
    "\n",
    "sent_vectors_test = []; # the avg-w2v for each sentence/review is stored in this list\n",
    "for sent in tqdm(list_of_sentance_test): # for each review/sentence\n",
    "    sent_vec_test = np.zeros(50) # as word vectors are of zero length 50, you might need to change this to 300 if you use google's w2v\n",
    "    cnt_words_test =0; # num of words with a valid vector in the sentence/review\n",
    "    for word in sent: # for each word in a review/sentence\n",
    "        if word in w2v_words_test:\n",
    "            vec_test = w2v_model_test.wv[word]\n",
    "            sent_vec_test += vec_test\n",
    "            cnt_words_test += 1\n",
    "    if cnt_words_test != 0:\n",
    "        sent_vec_test /= cnt_words_test\n",
    "    sent_vectors_test.append(sent_vec_test)\n",
    "print(len(sent_vectors_test))\n",
    "print(len(sent_vectors_test[0]))\n"
   ]
  },
  {
   "cell_type": "markdown",
   "metadata": {},
   "source": [
    "#### [4.4.1.2] TFIDF weighted W2v"
   ]
  },
  {
   "cell_type": "code",
   "execution_count": 36,
   "metadata": {},
   "outputs": [],
   "source": [
    "# S = [\"abc def pqr\", \"def def def abc\", \"pqr pqr def\"]\n",
    "model = TfidfVectorizer()\n",
    "tf_idf_matrix_train = model.fit_transform(X_train)\n",
    "# we are converting a dictionary with word as a key, and the idf as a value\n",
    "dictionary = dict(zip(model.get_feature_names(), list(model.idf_)))"
   ]
  },
  {
   "cell_type": "code",
   "execution_count": 37,
   "metadata": {
    "scrolled": true
   },
   "outputs": [
    {
     "name": "stdout",
     "output_type": "stream",
     "text": [
      "For Training Set Data\n"
     ]
    },
    {
     "name": "stderr",
     "output_type": "stream",
     "text": [
      "100%|████████████████████████████████████████████████████████████████████████████| 52663/52663 [32:43<00:00, 26.82it/s]\n"
     ]
    },
    {
     "name": "stdout",
     "output_type": "stream",
     "text": [
      "###############################################################################################################################\n",
      "For CV Set Data\n"
     ]
    },
    {
     "name": "stderr",
     "output_type": "stream",
     "text": [
      "100%|████████████████████████████████████████████████████████████████████████████| 17555/17555 [12:06<00:00, 24.41it/s]\n"
     ]
    },
    {
     "name": "stdout",
     "output_type": "stream",
     "text": [
      "###############################################################################################################################\n",
      "For Test Set Data\n"
     ]
    },
    {
     "name": "stderr",
     "output_type": "stream",
     "text": [
      "100%|████████████████████████████████████████████████████████████████████████████| 17555/17555 [09:05<00:00, 32.17it/s]\n"
     ]
    }
   ],
   "source": [
    "# TF-IDF weighted Word2Vec\n",
    "tfidf_feat = model.get_feature_names() # tfidf words/col-names\n",
    "# final_tf_idf is the sparse matrix with row= sentence, col=word and cell_val = tfidf\n",
    "\n",
    "print(\"For Training Set Data\")\n",
    "\n",
    "tfidf_sent_vectors_train = []; # the tfidf-w2v for each sentence/review is stored in this list\n",
    "row_train=0;\n",
    "for sent in tqdm(list_of_sentance_train): # for each review/sentence \n",
    "    sent_vec_train = np.zeros(50) # as word vectors are of zero length\n",
    "    weight_sum_train =0; # num of words with a valid vector in the sentence/review\n",
    "    for word in sent: # for each word in a review/sentence\n",
    "        if word in w2v_words_train and word in tfidf_feat:\n",
    "            vec_train = w2v_model_train.wv[word]\n",
    "#             tf_idf = tf_idf_matrix[row, tfidf_feat.index(word)]\n",
    "            # to reduce the computation we are \n",
    "            # dictionary[word] = idf value of word in whole courpus\n",
    "            # sent.count(word) = tf valeus of word in this review\n",
    "            tf_idf_train = dictionary[word]*(sent.count(word)/len(sent))\n",
    "            sent_vec_train += (vec_train * tf_idf_train)\n",
    "            weight_sum_train += tf_idf_train\n",
    "    if weight_sum_train != 0:\n",
    "        sent_vec_train /= weight_sum_train\n",
    "    tfidf_sent_vectors_train.append(sent_vec_train)\n",
    "    row_train += 1\n",
    "    \n",
    "    \n",
    "print(\"#\"*127)\n",
    "################################################################################################################################\n",
    "print(\"For CV Set Data\")\n",
    "    \n",
    "    \n",
    "tf_idf_matrix_cv = model.fit_transform(X_cv)    \n",
    "    \n",
    "    # TF-IDF weighted Word2Vec\n",
    "\n",
    "tfidf_sent_vectors_cv = []; # the tfidf-w2v for each sentence/review is stored in this list\n",
    "row_cv=0;\n",
    "for sent in tqdm(list_of_sentance_cv): # for each review/sentence \n",
    "    sent_vec_cv = np.zeros(50) # as word vectors are of zero length\n",
    "    weight_sum_cv =0; # num of words with a valid vector in the sentence/review\n",
    "    for word in sent: # for each word in a review/sentence\n",
    "        if word in w2v_words_cv and word in tfidf_feat:\n",
    "            vec_cv = w2v_model_cv.wv[word]\n",
    "#             tf_idf = tf_idf_matrix[row, tfidf_feat.index(word)]\n",
    "            # to reduce the computation we are \n",
    "            # dictionary[word] = idf value of word in whole courpus\n",
    "            # sent.count(word) = tf valeus of word in this review\n",
    "            tf_idf_cv = dictionary[word]*(sent.count(word)/len(sent))\n",
    "            sent_vec_cv += (vec_cv * tf_idf_cv)\n",
    "            weight_sum_cv += tf_idf_cv\n",
    "    if weight_sum_cv != 0:\n",
    "        sent_vec_cv /= weight_sum_cv\n",
    "    tfidf_sent_vectors_cv.append(sent_vec_cv)\n",
    "    row_cv += 1\n",
    "    \n",
    "print(\"#\"*127)\n",
    "\n",
    "################################################################################################################################\n",
    "print(\"For Test Set Data\")\n",
    "\n",
    "\n",
    "tf_idf_matrix_test = model.fit_transform(X_test)    \n",
    "    \n",
    "    # TF-IDF weighted Word2Vec\n",
    "\n",
    "tfidf_sent_vectors_test = []; # the tfidf-w2v for each sentence/review is stored in this list\n",
    "row_test=0;\n",
    "for sent in tqdm(list_of_sentance_test): # for each review/sentence \n",
    "    sent_vec_test = np.zeros(50) # as word vectors are of zero length\n",
    "    weight_sum_test =0; # num of words with a valid vector in the sentence/review\n",
    "    for word in sent: # for each word in a review/sentence\n",
    "        if word in w2v_words_test and word in tfidf_feat:\n",
    "            vec_test = w2v_model_test.wv[word]\n",
    "#             tf_idf = tf_idf_matrix[row, tfidf_feat.index(word)]\n",
    "            # to reduce the computation we are \n",
    "            # dictionary[word] = idf value of word in whole courpus\n",
    "            # sent.count(word) = tf valeus of word in this review\n",
    "            tf_idf_test = dictionary[word]*(sent.count(word)/len(sent))\n",
    "            sent_vec_test += (vec_test * tf_idf_test)\n",
    "            weight_sum_test += tf_idf_test\n",
    "    if weight_sum_test != 0:\n",
    "        sent_vec_test /= weight_sum_test\n",
    "    tfidf_sent_vectors_test.append(sent_vec_test)\n",
    "    row_test += 1\n",
    "    \n"
   ]
  },
  {
   "cell_type": "markdown",
   "metadata": {},
   "source": [
    "# [5] Assignment 3: KNN"
   ]
  },
  {
   "cell_type": "markdown",
   "metadata": {},
   "source": [
    "<ol>\n",
    "    <li><strong>Apply Knn(brute force version) on these feature sets</strong>\n",
    "        <ul>\n",
    "            <li><font color='red'>SET 1:</font>Review text, preprocessed one converted into vectors using (BOW)</li>\n",
    "            <li><font color='red'>SET 2:</font>Review text, preprocessed one converted into vectors using (TFIDF)</li>\n",
    "            <li><font color='red'>SET 3:</font>Review text, preprocessed one converted into vectors using (AVG W2v)</li>\n",
    "            <li><font color='red'>SET 4:</font>Review text, preprocessed one converted into vectors using (TFIDF W2v)</li>\n",
    "        </ul>\n",
    "    </li>\n",
    "    <br>\n",
    "    <li><strong>Apply Knn(kd tree version) on these feature sets</strong>\n",
    "        <br><font color='red'>NOTE: </font>sklearn implementation of kd-tree accepts only dense matrices, you need to convert the sparse matrices of CountVectorizer/TfidfVectorizer into dense matices. You can convert sparse matrices to dense using .toarray() attribute. For more information please visit this <a href='https://docs.scipy.org/doc/scipy-0.18.1/reference/generated/scipy.sparse.csr_matrix.toarray.html'>link</a>\n",
    "        <ul>\n",
    "            <li><font color='red'>SET 5:</font>Review text, preprocessed one converted into vectors using (BOW) but with restriction on maximum features generated.\n",
    "            <pre>\n",
    "            count_vect = CountVectorizer(min_df=10, max_features=500) \n",
    "            count_vect.fit(preprocessed_reviews)\n",
    "            </pre>\n",
    "            </li>\n",
    "            <li><font color='red'>SET 6:</font>Review text, preprocessed one converted into vectors using (TFIDF) but with restriction on maximum features generated.\n",
    "            <pre>\n",
    "                tf_idf_vect = TfidfVectorizer(min_df=10, max_features=500)\n",
    "                tf_idf_vect.fit(preprocessed_reviews)\n",
    "            </pre>\n",
    "            </li>\n",
    "            <li><font color='red'>SET 3:</font>Review text, preprocessed one converted into vectors using (AVG W2v)</li>\n",
    "            <li><font color='red'>SET 4:</font>Review text, preprocessed one converted into vectors using (TFIDF W2v)</li>\n",
    "        </ul>\n",
    "    </li>\n",
    "    <br>\n",
    "    <li><strong>The hyper paramter tuning(find best K)</strong>\n",
    "        <ul>\n",
    "    <li>Find the best hyper parameter which will give the maximum <a href='https://www.appliedaicourse.com/course/applied-ai-course-online/lessons/receiver-operating-characteristic-curve-roc-curve-and-auc-1/'>AUC</a> value</li>\n",
    "    <li>Find the best hyper paramter using k-fold cross validation or simple cross validation data</li>\n",
    "    <li>Use gridsearch cv or randomsearch cv or you can also write your own for loops to do this task of hyperparameter tuning</li>\n",
    "        </ul>\n",
    "    </li>\n",
    "    <br>\n",
    "    <li>\n",
    "    <strong>Representation of results</strong>\n",
    "        <ul>\n",
    "    <li>You need to plot the performance of model both on train data and cross validation data for each hyper parameter, like shown in the figure\n",
    "    <img src='train_cv_auc.JPG' width=300px></li>\n",
    "    <li>Once after you found the best hyper parameter, you need to train your model with it, and find the AUC on test data and plot the ROC curve on both train and test.\n",
    "    <img src='train_test_auc.JPG' width=300px></li>\n",
    "    <li>Along with plotting ROC curve, you need to print the <a href='https://www.appliedaicourse.com/course/applied-ai-course-online/lessons/confusion-matrix-tpr-fpr-fnr-tnr-1/'>confusion matrix</a> with predicted and original labels of test data points\n",
    "    <img src='confusion_matrix.png' width=300px></li>\n",
    "        </ul>\n",
    "    </li>\n",
    "    <br>\n",
    "    <li><strong>Conclusion</strong>\n",
    "        <ul>\n",
    "    <li>You need to summarize the results at the end of the notebook, summarize it in the table format. To print out a table please refer to this prettytable library<a href='http://zetcode.com/python/prettytable/'> link</a> \n",
    "        <img src='summary.JPG' width=400px>\n",
    "    </li>\n",
    "        </ul>\n",
    "</ol>"
   ]
  },
  {
   "cell_type": "markdown",
   "metadata": {},
   "source": [
    "<h4><font color='red'>Note: Data Leakage</font></h4>\n",
    "\n",
    "1. There will be an issue of data-leakage if you vectorize the entire data and then split it into train/cv/test.\n",
    "2. To avoid the issue of data-leakag, make sure to split your data first and then vectorize it. \n",
    "3. While vectorizing your data, apply the method fit_transform() on you train data, and apply the method transform() on cv/test data.\n",
    "4. For more details please go through this <a href='https://soundcloud.com/applied-ai-course/leakage-bow-and-tfidf'>link.</a>"
   ]
  },
  {
   "cell_type": "markdown",
   "metadata": {},
   "source": [
    "## [5.1] Applying KNN brute force"
   ]
  },
  {
   "cell_type": "markdown",
   "metadata": {},
   "source": [
    "### [5.1.1] Applying KNN brute force on BOW,<font color='red'> SET 1</font>"
   ]
  },
  {
   "cell_type": "code",
   "execution_count": 1,
   "metadata": {},
   "outputs": [
    {
     "name": "stderr",
     "output_type": "stream",
     "text": [
      "C:\\Users\\4bhishek\\Anaconda3\\lib\\site-packages\\sklearn\\cross_validation.py:41: DeprecationWarning: This module was deprecated in version 0.18 in favor of the model_selection module into which all the refactored classes and functions are moved. Also note that the interface of the new CV iterators are different from that of this module. This module will be removed in 0.20.\n",
      "  \"This module will be removed in 0.20.\", DeprecationWarning)\n"
     ]
    }
   ],
   "source": [
    "\n",
    "from matplotlib import pyplot as plt\n",
    "from sklearn.neighbors import KNeighborsClassifier\n",
    "from sklearn import cross_validation\n",
    "from sklearn.metrics import roc_auc_score\n",
    "from sklearn.metrics import confusion_matrix\n",
    "from prettytable import PrettyTable\n",
    "import seaborn as sns; sns.set()\n",
    "\n"
   ]
  },
  {
   "cell_type": "code",
   "execution_count": 57,
   "metadata": {},
   "outputs": [
    {
     "name": "stdout",
     "output_type": "stream",
     "text": [
      "Training dataset for Best 'K'\n"
     ]
    },
    {
     "name": "stderr",
     "output_type": "stream",
     "text": [
      "100%|███████████████████████████████████████████████████████████████| 17/17 [1:03:41<00:00, 203.56s/it]\n"
     ]
    },
    {
     "data": {
      "image/png": "[encoded data removed]",
      "text/plain": [
       "<Figure size 432x288 with 1 Axes>"
      ]
     },
     "metadata": {},
     "output_type": "display_data"
    },
    {
     "name": "stdout",
     "output_type": "stream",
     "text": [
      "+----------------+--------------------+--------------------+\n",
      "| Hyperparameter |     AUC_Train      |       AUC_CV       |\n",
      "+----------------+--------------------+--------------------+\n",
      "|       1        | 0.9985477941718331 | 0.5923548450410385 |\n",
      "|       3        | 0.8993583036641923 | 0.6448152774124427 |\n",
      "|       5        | 0.8783931840152769 | 0.6640403091973937 |\n",
      "|       7        | 0.8543990063344005 | 0.6732186761397381 |\n",
      "|       9        | 0.8379782345657463 | 0.6773293800930617 |\n",
      "|       11       | 0.8262075318469405 | 0.6805180706837363 |\n",
      "|       13       | 0.8160372007436028 | 0.6825333432157935 |\n",
      "|       15       | 0.8072953369689168 | 0.6836703505250352 |\n",
      "|       17       | 0.7999962144276699 | 0.6846319689838057 |\n",
      "|       19       | 0.7936495158596892 | 0.6830187638329624 |\n",
      "|       21       | 0.7891326256610178 | 0.6836907655230361 |\n",
      "|       23       | 0.7835833537217806 | 0.685471998116248  |\n",
      "|       25       | 0.7792448129758638 | 0.6860398112635836 |\n",
      "|       27       | 0.7759443914163349 | 0.6850127687406319 |\n",
      "|       29       | 0.7728623459941939 | 0.684175945963758  |\n",
      "|       31       | 0.7704058879764302 | 0.6855940557866479 |\n",
      "|       33       | 0.7679618728202253 | 0.686184277396495  |\n",
      "+----------------+--------------------+--------------------+\n"
     ]
    }
   ],
   "source": [
    "# Please write all the code with proper documentation\n",
    "\n",
    "hyperparameter_BOW = []\n",
    "\n",
    "auc_scoresBOW_train = []\n",
    "\n",
    "auc_scoresBOW_cv = []\n",
    "\n",
    "table1_BOW = PrettyTable()\n",
    "\n",
    "table1_BOW.field_names = [\"Hyperparameter\", \"AUC_Train\", \"AUC_CV\"]\n",
    "\n",
    "print(\"Training dataset for Best 'K'\")\n",
    "\n",
    "for i in tqdm(range(1,35,2)):\n",
    "  \n",
    "    knn = KNeighborsClassifier( n_neighbors = i)\n",
    "    \n",
    "    knn.fit(final_counts_train, Y_train)\n",
    "    \n",
    "    #print(final_counts_train.shape[0])\n",
    "    #print(final_counts_train[0:3000].shape)\n",
    "       \n",
    "    BOWpred_train = []\n",
    "   \n",
    "    for k in range(0,final_counts_train.shape[0],3000):\n",
    "    \n",
    "       BOWpred_train.extend(knn.predict_proba(final_counts_train[k:k+3000])[:,1])\n",
    "        \n",
    "    BOWpred_cv = []    \n",
    "    \n",
    "    for l in range(0,final_counts_cv.shape[0],3000):\n",
    "    \n",
    "        BOWpred_cv.extend(knn.predict_proba(final_counts_cv[l:l+3000])[:,1])\n",
    "    \n",
    "    hyperparameter_BOW.append(i)\n",
    "    \n",
    "    auc_scoreBOW_train = roc_auc_score(Y_train, BOWpred_train)\n",
    "    auc_scoresBOW_train.append(auc_scoreBOW_train)\n",
    "    \n",
    "    auc_scoreBOW_cv = roc_auc_score(Y_cv, BOWpred_cv)\n",
    "    auc_scoresBOW_cv.append(auc_scoreBOW_cv)\n",
    "    \n",
    "    table1_BOW.add_row([i,auc_scoreBOW_train, auc_scoreBOW_cv])\n",
    "\n",
    "    \n",
    "plt.plot(hyperparameter_BOW, auc_scoresBOW_train, 'r',label = 'Training Set')\n",
    "plt.plot( hyperparameter_BOW, auc_scoresBOW_cv, 'blue', label = 'CV Set')\n",
    "plt.title(\"Performance of model on CV\")\n",
    "plt.xlabel(\"Hyperparameter\")\n",
    "plt.ylabel(\"Area under ROC Score\")\n",
    "plt.legend()\n",
    "plt.show()\n",
    "\n",
    "print(table1_BOW)\n",
    "\n"
   ]
  },
  {
   "cell_type": "code",
   "execution_count": 58,
   "metadata": {},
   "outputs": [
    {
     "name": "stdout",
     "output_type": "stream",
     "text": [
      "from the plot the optimal K is 33\n",
      "AUC for training set for K = 33: 0.7679618728202253\n",
      "AUC for CV set for K = 33: 0.686184277396495\n",
      "\n",
      "Predict for training Data\n"
     ]
    },
    {
     "name": "stderr",
     "output_type": "stream",
     "text": [
      "100%|██████████████████████████████████████████████████████████████████| 18/18 [04:05<00:00, 11.96s/it]\n"
     ]
    },
    {
     "name": "stdout",
     "output_type": "stream",
     "text": [
      "Predict for Test Data\n"
     ]
    },
    {
     "name": "stderr",
     "output_type": "stream",
     "text": [
      "100%|████████████████████████████████████████████████████████████████████| 6/6 [01:34<00:00, 15.26s/it]\n"
     ]
    }
   ],
   "source": [
    "print(\"from the plot the optimal K is 33\")\n",
    "print(\"AUC for training set for K = 33: \" + str(auc_scoresBOW_train[16]))\n",
    "print(\"AUC for CV set for K = 33: \" + str(auc_scoresBOW_cv[16]))\n",
    "\n",
    "\n",
    "knn = KNeighborsClassifier(n_neighbors = 33)\n",
    "\n",
    "knn.fit(final_counts_train, Y_train)\n",
    "\n",
    "BOWpred_train = []\n",
    "BOWpred_train_val = []\n",
    "\n",
    "print(\"\\nPredict for training Data\")\n",
    "for m in tqdm(range(0,final_counts_train.shape[0],3000)):\n",
    "    \n",
    "       BOWpred_train.extend(knn.predict_proba(final_counts_train[m:m+3000])[:,1])\n",
    "       BOWpred_train_val.extend(knn.predict(final_counts_train[m:m+3000]))\n",
    "\n",
    "#knn.predict(final_counts_train)\n",
    "\n",
    "BOWpred_test = []\n",
    "BOWpred_test_val = []\n",
    "\n",
    "print(\"Predict for Test Data\")\n",
    "\n",
    "for n in tqdm(range(0,final_counts_test.shape[0],3000)):\n",
    "    \n",
    "        BOWpred_test.extend(knn.predict_proba(final_counts_test[n:n+3000])[:,1])\n",
    "        BOWpred_test_val.extend(knn.predict(final_counts_test[n:n+3000]))    \n",
    "\n",
    "#knn.predict(final_counts_test)\n",
    "\n",
    "BOWfpr_train, BOWtpr_train, BOWthrshold_train = roc_curve(Y_train, BOWpred_train)\n",
    "\n",
    "BOWfpr_test, BOWtpr_test, BOWthrshold_test = roc_curve(Y_test, BOWpred_test)\n",
    "\n",
    "\n"
   ]
  },
  {
   "cell_type": "code",
   "execution_count": 67,
   "metadata": {},
   "outputs": [
    {
     "name": "stdout",
     "output_type": "stream",
     "text": [
      "AUC of test data for K = 33 is 0.6861794145375679\n",
      "AUC of test data for K = 33 is 0.7679618728202253\n"
     ]
    },
    {
     "data": {
      "image/png": "[encoded data removed]",
      "text/plain": [
       "<Figure size 432x288 with 1 Axes>"
      ]
     },
     "metadata": {},
     "output_type": "display_data"
    },
    {
     "name": "stdout",
     "output_type": "stream",
     "text": [
      "Confusion Matrix on training Data\n",
      "[[ 1014  7519]\n",
      " [  819 43311]]\n"
     ]
    },
    {
     "data": {
      "text/plain": [
       "<matplotlib.axes._subplots.AxesSubplot at 0x27780be07b8>"
      ]
     },
     "execution_count": 67,
     "metadata": {},
     "output_type": "execute_result"
    },
    {
     "data": {
      "image/png": "[encoded data removed]",
      "text/plain": [
       "<Figure size 432x288 with 2 Axes>"
      ]
     },
     "metadata": {},
     "output_type": "display_data"
    }
   ],
   "source": [
    "auc_scoreBOW_test = roc_auc_score(Y_test, BOWpred_test)\n",
    "\n",
    "print(\"AUC of test data for K = 33 is \" + str(auc_scoreBOW_test))\n",
    "print(\"AUC of train data for K = 33 is \" + str(auc_scoreBOW_train))\n",
    "\n",
    "plt.plot(BOWfpr_train,BOWtpr_train,'r', label=\"Training Set\")\n",
    "plt.plot(BOWfpr_test,BOWtpr_test, 'blue', label = \"Test Set\")\n",
    "plt.title(\"ROC Curve for optimal K\")\n",
    "plt.xlabel(\"FPR\")\n",
    "plt.ylabel(\"TPR\")\n",
    "plt.legend()\n",
    "plt.show()\n",
    "\n",
    "plt.subplot()\n",
    "cm_train = confusion_matrix(Y_train,BOWpred_train_val)\n",
    "\n",
    "\n",
    "print(\"Confusion Matrix on training Data\")\n",
    "print(cm_train)\n",
    "sns.heatmap(cm_train, annot = True)\n",
    "\n",
    "#table2_BOW = PrettyTable()\n",
    "\n",
    "#table2_BOW.field_names = [\"     \", \"Predicted: NO\", \"Predicted: Yes\"]\n",
    "\n",
    "#table2_BOW.add_row([\"Actual:NO\", cm[0][0], cm[0][1]])\n",
    "#table2_BOW.add_row([\"Actual: Yes\", cm[1][0], cm[1][1]])\n",
    "#print(table2_BOW)"
   ]
  },
  {
   "cell_type": "code",
   "execution_count": 62,
   "metadata": {},
   "outputs": [
    {
     "name": "stdout",
     "output_type": "stream",
     "text": [
      "Confusion Matrix on training Data\n",
      "[[  310  2511]\n",
      " [  270 14464]]\n",
      "AxesSubplot(0.125,0.125;0.62x0.755)\n"
     ]
    },
    {
     "data": {
      "image/png": "[encoded data removed]",
      "text/plain": [
       "<Figure size 432x288 with 2 Axes>"
      ]
     },
     "metadata": {},
     "output_type": "display_data"
    }
   ],
   "source": [
    "cm_test = confusion_matrix(Y_test,BOWpred_test_val)\n",
    "\n",
    "print(\"Confusion Matrix on training Data\")\n",
    "print(cm_test)\n",
    "\n",
    "print(sns.heatmap(cm_test, annot = True))\n"
   ]
  },
  {
   "cell_type": "markdown",
   "metadata": {},
   "source": [
    "### [5.1.2] Applying KNN brute force on TFIDF,<font color='red'> SET 2</font>"
   ]
  },
  {
   "cell_type": "code",
   "execution_count": 64,
   "metadata": {},
   "outputs": [
    {
     "name": "stderr",
     "output_type": "stream",
     "text": [
      "100%|█████████████████████████████████████████████████████████████████| 16/16 [49:18<00:00, 181.76s/it]\n"
     ]
    },
    {
     "data": {
      "image/png": "[encoded data removed]",
      "text/plain": [
       "<Figure size 432x288 with 1 Axes>"
      ]
     },
     "metadata": {},
     "output_type": "display_data"
    },
    {
     "name": "stdout",
     "output_type": "stream",
     "text": [
      "+----------------+--------------------+--------------------+\n",
      "| Hyperparameter |     AUC_Train      |       AUC_CV       |\n",
      "+----------------+--------------------+--------------------+\n",
      "|       1        | 0.9985364640109449 | 0.5057673330057967 |\n",
      "|       3        | 0.9961886894959385 | 0.508136829770812  |\n",
      "|       5        | 0.8711459972425736 | 0.5039532322658035 |\n",
      "|       7        |  0.83228261593219  | 0.5024626732176554 |\n",
      "|       9        | 0.8028002626079808 | 0.5043866066468927 |\n",
      "|       11       | 0.7805564055721181 | 0.5046606239553525 |\n",
      "|       13       | 0.7641499568370398 | 0.5080030995250847 |\n",
      "|       15       | 0.7497620533432949 | 0.5098018529901103 |\n",
      "|       17       | 0.7385582145206693 | 0.5066418274583933 |\n",
      "|       19       | 0.7296733660541689 | 0.5070212101741818 |\n",
      "|       21       | 0.7208632199023963 | 0.5048912653974719 |\n",
      "|       23       | 0.7130575503392821 | 0.5033863317889667 |\n",
      "|       25       | 0.7090197481530829 | 0.5053334062188791 |\n",
      "|       27       | 0.7036761372896296 | 0.5048712586994311 |\n",
      "|       29       | 0.6973524044385975 | 0.5055951985461832 |\n",
      "|       31       | 0.6941582232204483 | 0.5070461645070321 |\n",
      "+----------------+--------------------+--------------------+\n"
     ]
    }
   ],
   "source": [
    "# Please write all the code with proper documentation\n",
    "\n",
    "\n",
    "hyperparameter_TFIDF = []\n",
    "\n",
    "auc_scoresTFIDF_train = []\n",
    "\n",
    "\n",
    "auc_scoresTFIDF_cv = []\n",
    "\n",
    "table1_TFIDF = PrettyTable()\n",
    "\n",
    "table1_TFIDF.field_names = [\"Hyperparameter\", \"AUC_Train\", \"AUC_CV\"]\n",
    "\n",
    "#print(type(final_tf_idf_train))\n",
    "#print(str(final_tf_idf_train.get_shape()))\n",
    "\n",
    "# Cross Validation loop to get optimal K.\n",
    "\n",
    "for i in tqdm(range(1,33,2)):\n",
    "  \n",
    "    knn = KNeighborsClassifier( n_neighbors = i)\n",
    "    \n",
    "    knn.fit(final_tf_idf_train, Y_train)\n",
    "       \n",
    "    TFIDFpred_train = []\n",
    "    \n",
    "    for k in range(0,final_tf_idf_train.shape[0],3000):\n",
    "            TFIDFpred_train.extend(knn.predict_proba(final_tf_idf_train[k:k+3000])[:,1])\n",
    "        \n",
    "    TFIDFpred_cv = []\n",
    "    \n",
    "    for l in range(0,final_tf_idf_cv.shape[0],3000):\n",
    "        TFIDFpred_cv.extend(knn.predict_proba(final_tf_idf_cv[l:l+3000])[:,1])\n",
    "    \n",
    "    hyperparameter_TFIDF.append(i)\n",
    "    \n",
    "    auc_scoreTFIDF_train = roc_auc_score(Y_train, TFIDFpred_train)\n",
    "    auc_scoresTFIDF_train.append(auc_scoreTFIDF_train)\n",
    "    \n",
    "    auc_scoreTFIDF_cv = roc_auc_score(Y_cv, TFIDFpred_cv)\n",
    "    auc_scoresTFIDF_cv.append(auc_scoreTFIDF_cv)\n",
    "    \n",
    "    table1_TFIDF.add_row([i,auc_scoreTFIDF_train, auc_scoreTFIDF_cv])\n",
    "\n",
    "    \n",
    "plt.plot(hyperparameter_TFIDF, auc_scoresTFIDF_train, 'r',label = 'Training Set')\n",
    "plt.plot( hyperparameter_TFIDF, auc_scoresTFIDF_cv, 'blue', label = 'CV Set')\n",
    "plt.title(\"Performance model on CV\")\n",
    "plt.xlabel(\"Hyperparameter\")\n",
    "plt.ylabel(\"Area under ROC Score\")\n",
    "plt.legend()\n",
    "plt.show()\n",
    "\n",
    "print(table1_TFIDF)\n"
   ]
  },
  {
   "cell_type": "code",
   "execution_count": 65,
   "metadata": {},
   "outputs": [
    {
     "name": "stdout",
     "output_type": "stream",
     "text": [
      "from the plot the optimal K is 31\n",
      "AUC for training set for K = 31: 0.6941582232204483\n",
      "AUC for CV set for K = 31: 0.5070461645070321\n",
      "Predicting training data\n"
     ]
    },
    {
     "name": "stderr",
     "output_type": "stream",
     "text": [
      "100%|██████████████████████████████████████████████████████████████████| 18/18 [04:40<00:00, 13.27s/it]\n"
     ]
    },
    {
     "name": "stdout",
     "output_type": "stream",
     "text": [
      "Predicting test data\n"
     ]
    },
    {
     "name": "stderr",
     "output_type": "stream",
     "text": [
      "100%|████████████████████████████████████████████████████████████████████| 6/6 [01:30<00:00, 14.61s/it]\n"
     ]
    }
   ],
   "source": [
    "print(\"from the plot the optimal K is 31\")\n",
    "print(\"AUC for training set for K = 31: \" + str(auc_scoresTFIDF_train[15]))\n",
    "print(\"AUC for CV set for K = 31: \" + str(auc_scoresTFIDF_cv[15]))\n",
    "\n",
    "\n",
    "#Predicting Y for K = 31 for test dataset.\n",
    "\n",
    "knn = KNeighborsClassifier(n_neighbors = 31)\n",
    "\n",
    "knn.fit(final_tf_idf_train, Y_train)\n",
    "\n",
    "TFIDFpred_train = []\n",
    "TFIDFpred_train_val = []\n",
    "\n",
    "print(\"Predicting training data\")\n",
    "\n",
    "for m in tqdm(range(0, final_tf_idf_train.shape[0],3000)):\n",
    "   TFIDFpred_train.extend(knn.predict_proba(final_tf_idf_train[m:m+3000])[:,1])\n",
    "   TFIDFpred_train_val.extend(knn.predict(final_tf_idf_train[m:m+3000]))\n",
    "\n",
    "\n",
    "TFIDFpred_test = []\n",
    "TFIDFpred_test_val = []\n",
    "\n",
    "print(\"Predicting test data\")\n",
    "for n in tqdm(range(0,final_tf_idf_test.shape[0],3000)):\n",
    "    TFIDFpred_test.extend(knn.predict_proba(final_tf_idf_test[n:n+3000])[:,1])\n",
    "    TFIDFpred_test_val.extend(knn.predict(final_tf_idf_test[n:n+3000]))\n",
    "\n",
    "              \n",
    "TFIDFfpr_train, TFIDFtpr_train, TFIDFthrshold_train = roc_curve(Y_train, TFIDFpred_train)\n",
    "\n",
    "TFIDFfpr_test, TFIDFtpr_test, TFIDFthrshold_test = roc_curve(Y_test, TFIDFpred_test)\n",
    "\n",
    "\n"
   ]
  },
  {
   "cell_type": "code",
   "execution_count": 69,
   "metadata": {},
   "outputs": [
    {
     "name": "stdout",
     "output_type": "stream",
     "text": [
      "AUC for test data for K = 31 = 0.5002480114455051\n",
      "AUC for test data for K = 31 = 0.6941582232204483\n"
     ]
    },
    {
     "data": {
      "image/png": "[encoded data removed]",
      "text/plain": [
       "<Figure size 432x288 with 1 Axes>"
      ]
     },
     "metadata": {},
     "output_type": "display_data"
    },
    {
     "name": "stdout",
     "output_type": "stream",
     "text": [
      "Confusion Matrix on training Data\n",
      "[[    0  8533]\n",
      " [    0 44130]]\n"
     ]
    },
    {
     "data": {
      "text/plain": [
       "<matplotlib.axes._subplots.AxesSubplot at 0x27780d94ef0>"
      ]
     },
     "execution_count": 69,
     "metadata": {},
     "output_type": "execute_result"
    },
    {
     "data": {
      "image/png": "[encoded data removed]",
      "text/plain": [
       "<Figure size 432x288 with 2 Axes>"
      ]
     },
     "metadata": {},
     "output_type": "display_data"
    }
   ],
   "source": [
    "\n",
    "auc_scoreTFIDF_test = roc_auc_score(Y_test, TFIDFpred_test)\n",
    "\n",
    "#print(\"AUC for test data for k = 31 = \" + str(auc_scoreTFIDF_test))\n",
    "\n",
    "auc_scoreTFIDF_train = roc_auc_score(Y_train, TFIDFpred_train)\n",
    "\n",
    "#print(\"AUC for train data for k = 31 = \" + str(auc_scoreTFIDF_train))\n",
    "\n",
    "print(\"AUC for test data for K = 31 = \" + str(auc_scoreTFIDF_test))\n",
    "print(\"AUC for train data for K = 31 = \" + str(auc_scoreTFIDF_train))\n",
    "\n",
    "plt.plot(TFIDFfpr_train,TFIDFtpr_train,'r', label=\"Training Set\")\n",
    "plt.plot(TFIDFfpr_test,TFIDFtpr_test, 'blue', label = \"Test Set\")\n",
    "plt.title(\"ROC Curve for Optimal K\")\n",
    "plt.xlabel(\"FPR\")\n",
    "plt.ylabel(\"TPR\")\n",
    "plt.legend()\n",
    "plt.show()\n",
    "\n",
    "cm_train = confusion_matrix(Y_train,TFIDFpred_train_val)\n",
    "\n",
    "\n",
    "print(\"Confusion Matrix on training Data\")\n",
    "print(cm_train)\n",
    "sns.heatmap(cm_train, annot = True)"
   ]
  },
  {
   "cell_type": "code",
   "execution_count": 70,
   "metadata": {},
   "outputs": [
    {
     "name": "stdout",
     "output_type": "stream",
     "text": [
      "Confusion Matrix on training Data\n",
      "[[    0  2821]\n",
      " [    0 14734]]\n",
      "AxesSubplot(0.125,0.125;0.62x0.755)\n"
     ]
    },
    {
     "data": {
      "image/png": "[encoded data removed]",
      "text/plain": [
       "<Figure size 432x288 with 2 Axes>"
      ]
     },
     "metadata": {},
     "output_type": "display_data"
    }
   ],
   "source": [
    "cm_test = confusion_matrix(Y_test,TFIDFpred_test_val)\n",
    "\n",
    "print(\"Confusion Matrix on training Data\")\n",
    "print(cm_test)\n",
    "\n",
    "print(sns.heatmap(cm_test, annot = True))"
   ]
  },
  {
   "cell_type": "markdown",
   "metadata": {},
   "source": [
    "### [5.1.3] Applying KNN brute force on AVG W2V,<font color='red'> SET 3</font>"
   ]
  },
  {
   "cell_type": "code",
   "execution_count": 71,
   "metadata": {},
   "outputs": [
    {
     "name": "stderr",
     "output_type": "stream",
     "text": [
      "100%|███████████████████████████████████████████████████████████████| 17/17 [2:31:30<00:00, 565.89s/it]\n"
     ]
    },
    {
     "data": {
      "image/png": "[encoded data removed]",
      "text/plain": [
       "<Figure size 432x288 with 1 Axes>"
      ]
     },
     "metadata": {},
     "output_type": "display_data"
    },
    {
     "name": "stdout",
     "output_type": "stream",
     "text": [
      "+----------------+--------------------+--------------------+\n",
      "| Hyperparameter |     AUC_Train      |       AUC_CV       |\n",
      "+----------------+--------------------+--------------------+\n",
      "|       1        | 0.9992855173722185 | 0.5716731671222655 |\n",
      "|       3        | 0.959162588114142  | 0.6439817690705383 |\n",
      "|       5        | 0.9435547650158093 | 0.6741418663669777 |\n",
      "|       7        | 0.9346274745872046 | 0.693844957360995  |\n",
      "|       9        |  0.92885501720052  | 0.7100061662901019 |\n",
      "|       11       | 0.9244302076296796 | 0.7230729058487192 |\n",
      "|       13       | 0.9222576423083743 | 0.7312138066103091 |\n",
      "|       15       | 0.9200545826152234 | 0.738379338811534  |\n",
      "|       17       | 0.9183876056405053 | 0.7434336840165647 |\n",
      "|       19       | 0.917340163934535  | 0.7478998611203713 |\n",
      "|       21       | 0.9161109457108562 | 0.7526206132492472 |\n",
      "|       23       | 0.9150870499726618 | 0.7580112895419296 |\n",
      "|       25       | 0.9140351667586438 | 0.7606446321428716 |\n",
      "|       27       | 0.9127454271786671 | 0.7641903210044679 |\n",
      "|       29       | 0.9117388075125831 | 0.7663972903677524 |\n",
      "|       31       | 0.910528576901784  | 0.7681191993785386 |\n",
      "|       33       | 0.9100546474121118 | 0.7710784133828622 |\n",
      "+----------------+--------------------+--------------------+\n"
     ]
    }
   ],
   "source": [
    "# Please write all the code with proper documentation\n",
    "\n",
    "hyperparameter_Avg_W2V = []\n",
    "\n",
    "auc_scoresAvg_W2V_train = []\n",
    "\n",
    "\n",
    "auc_scoresAvg_W2V_cv = []\n",
    "\n",
    "table1_Avg_W2V = PrettyTable()\n",
    "\n",
    "table1_Avg_W2V.field_names = [\"Hyperparameter\", \"AUC_Train\", \"AUC_CV\"]\n",
    "\n",
    "#print(type(sent_vectors_train))\n",
    "#print(str(len(sent_vectors_train)))\n",
    "\n",
    "#running Cross Validation for optimal K\n",
    "\n",
    "for i in tqdm(range(1,34,2)):\n",
    "  \n",
    "    knn = KNeighborsClassifier( n_neighbors = i)\n",
    "    \n",
    "    knn.fit(sent_vectors_train, Y_train)\n",
    "    \n",
    "    Avg_W2Vpred_train = []\n",
    "    \n",
    "    for k in range(0,len(sent_vectors_train), 3000):\n",
    "        \n",
    "        Avg_W2Vpred_train.extend(knn.predict_proba(sent_vectors_train[k:k+3000])[:,1])\n",
    "        \n",
    "    Avg_W2Vpred_cv = []\n",
    "    \n",
    "    for l in range(0,len(sent_vectors_cv), 3000):\n",
    "        \n",
    "        Avg_W2Vpred_cv.extend(knn.predict_proba(sent_vectors_cv[l:l+3000])[:,1])\n",
    "    \n",
    "    hyperparameter_Avg_W2V.append(i)\n",
    "    \n",
    "    auc_scoreAvg_W2V_train = roc_auc_score(Y_train, Avg_W2Vpred_train)\n",
    "    auc_scoresAvg_W2V_train.append(auc_scoreAvg_W2V_train)\n",
    "    \n",
    "    auc_scoreAvg_W2V_cv = roc_auc_score(Y_cv, Avg_W2Vpred_cv)\n",
    "    auc_scoresAvg_W2V_cv.append(auc_scoreAvg_W2V_cv)\n",
    "    \n",
    "    table1_Avg_W2V.add_row([i,auc_scoreAvg_W2V_train, auc_scoreAvg_W2V_cv])\n",
    "\n",
    "    \n",
    "plt.plot(hyperparameter_Avg_W2V, auc_scoresAvg_W2V_train, 'r',label = 'Training Set')\n",
    "plt.plot( hyperparameter_Avg_W2V, auc_scoresAvg_W2V_cv, 'blue', label = 'CV Set')\n",
    "plt.title(\"Performance of Model on CV\")\n",
    "plt.xlabel(\"Hyperparameter\")\n",
    "plt.ylabel(\"Area under ROC Score\")\n",
    "plt.legend()\n",
    "plt.show()\n",
    "\n",
    "print(table1_Avg_W2V)\n",
    "\n",
    "\n"
   ]
  },
  {
   "cell_type": "code",
   "execution_count": 72,
   "metadata": {},
   "outputs": [
    {
     "name": "stdout",
     "output_type": "stream",
     "text": [
      "from the plot the optimal K is 33\n",
      "AUC for training set for K = 33: 0.9100546474121118\n",
      "AUC for CV set for K = 33: 0.7710784133828622\n"
     ]
    },
    {
     "name": "stderr",
     "output_type": "stream",
     "text": [
      "100%|██████████████████████████████████████████████████████████████████| 18/18 [15:21<00:00, 48.97s/it]\n",
      "100%|████████████████████████████████████████████████████████████████████| 6/6 [06:23<00:00, 61.72s/it]\n"
     ]
    }
   ],
   "source": [
    "print(\"from the plot the optimal K is 33\")\n",
    "print(\"AUC for training set for K = 33: \" + str(auc_scoresAvg_W2V_train[16]))\n",
    "print(\"AUC for CV set for K = 33: \" + str(auc_scoresAvg_W2V_cv[16]))\n",
    "\n",
    "\n",
    "\n",
    "knn = KNeighborsClassifier(n_neighbors = 33)\n",
    "\n",
    "knn.fit(sent_vectors_train, Y_train)\n",
    "\n",
    "Avg_W2Vpred_train = []\n",
    "Avg_W2Vpred_train_val = []\n",
    "\n",
    "for m in tqdm(range(0, len(sent_vectors_train),3000)):\n",
    "    \n",
    "    Avg_W2Vpred_train.extend(knn.predict_proba(sent_vectors_train[m:m+3000])[:,1])\n",
    "    Avg_W2Vpred_train_val.extend(knn.predict(sent_vectors_train[m:m+3000]))\n",
    "\n",
    "Avg_W2Vpred_test = []\n",
    "Avg_W2Vpred_test_val = []\n",
    "\n",
    "for n in tqdm(range(0, len(sent_vectors_test),3000)):\n",
    "\n",
    "    Avg_W2Vpred_test.extend(knn.predict_proba(sent_vectors_test[n:n+3000])[:,1])\n",
    "    Avg_W2Vpred_test_val.extend(knn.predict(sent_vectors_test[n:n+3000]))\n",
    "\n",
    "    \n",
    "Avg_W2Vfpr_train, Avg_W2Vtpr_train, Avg_W2Vthrshold_train = roc_curve(Y_train, Avg_W2Vpred_train)\n",
    "\n",
    "Avg_W2Vfpr_test, Avg_W2Vtpr_test, Avg_W2Vthrshold_test = roc_curve(Y_test, Avg_W2Vpred_test)\n",
    "\n",
    "\n",
    "\n"
   ]
  },
  {
   "cell_type": "code",
   "execution_count": 74,
   "metadata": {},
   "outputs": [
    {
     "name": "stdout",
     "output_type": "stream",
     "text": [
      "AUC for test dataset for k=33 = 0.7522072381088394\n",
      "AUC for train dataset for k=33 = 0.9100546474121118\n"
     ]
    },
    {
     "data": {
      "image/png": "[encoded data removed]",
      "text/plain": [
       "<Figure size 432x288 with 1 Axes>"
      ]
     },
     "metadata": {},
     "output_type": "display_data"
    },
    {
     "name": "stdout",
     "output_type": "stream",
     "text": [
      "Confusion Matrix on training Data\n",
      "[[ 2616  5917]\n",
      " [  648 43482]]\n"
     ]
    },
    {
     "data": {
      "text/plain": [
       "<matplotlib.axes._subplots.AxesSubplot at 0x2778080b400>"
      ]
     },
     "execution_count": 74,
     "metadata": {},
     "output_type": "execute_result"
    },
    {
     "data": {
      "image/png": "[encoded data removed]",
      "text/plain": [
       "<Figure size 432x288 with 2 Axes>"
      ]
     },
     "metadata": {},
     "output_type": "display_data"
    }
   ],
   "source": [
    "auc_scoreAvg_W2V_test = roc_auc_score(Y_test, Avg_W2Vpred_test)\n",
    "\n",
    "print(\"AUC for test dataset for k=33 = \" + str(auc_scoreAvg_W2V_test))\n",
    "\n",
    "auc_scoreAvg_W2V_train = roc_auc_score(Y_train, Avg_W2Vpred_train)\n",
    "\n",
    "print(\"AUC for train dataset for k=33 = \" + str(auc_scoreAvg_W2V_train))\n",
    "\n",
    "plt.plot(Avg_W2Vfpr_train,Avg_W2Vtpr_train,'r', label=\"Training Set\")\n",
    "plt.plot(Avg_W2Vfpr_test,Avg_W2Vtpr_test, 'blue', label = \"Test Set\")\n",
    "plt.title(\"ROC Curve for optimal K\")\n",
    "plt.xlabel(\"FPR\")\n",
    "plt.ylabel(\"TPR\")\n",
    "plt.legend()\n",
    "plt.show()\n",
    "\n",
    "\n",
    "cm_train = confusion_matrix(Y_train,Avg_W2Vpred_train_val)\n",
    "\n",
    "\n",
    "print(\"Confusion Matrix on training Data\")\n",
    "print(cm_train)\n",
    "sns.heatmap(cm_train, annot = True)\n"
   ]
  },
  {
   "cell_type": "code",
   "execution_count": 75,
   "metadata": {},
   "outputs": [
    {
     "name": "stdout",
     "output_type": "stream",
     "text": [
      "Confusion Matrix on training Data\n",
      "[[  444  2377]\n",
      " [  407 14327]]\n",
      "AxesSubplot(0.125,0.125;0.62x0.755)\n"
     ]
    },
    {
     "data": {
      "image/png": "[encoded data removed]",
      "text/plain": [
       "<Figure size 432x288 with 2 Axes>"
      ]
     },
     "metadata": {},
     "output_type": "display_data"
    }
   ],
   "source": [
    "cm_test = confusion_matrix(Y_test,Avg_W2Vpred_test_val)\n",
    "\n",
    "print(\"Confusion Matrix on training Data\")\n",
    "print(cm_test)\n",
    "\n",
    "print(sns.heatmap(cm_test, annot = True))"
   ]
  },
  {
   "cell_type": "markdown",
   "metadata": {},
   "source": [
    "### [5.1.4] Applying KNN brute force on TFIDF W2V,<font color='red'> SET 4</font>"
   ]
  },
  {
   "cell_type": "code",
   "execution_count": 76,
   "metadata": {
    "scrolled": true
   },
   "outputs": [
    {
     "name": "stderr",
     "output_type": "stream",
     "text": [
      "100%|███████████████████████████████████████████████████████████████| 17/17 [3:36:25<00:00, 590.85s/it]\n"
     ]
    }
   ],
   "source": [
    "# Please write all the code with proper documentation\n",
    "\n",
    "hyperparameter_TFIDF_W2V = []\n",
    "\n",
    "auc_scoresTFIDF_W2V_train = []\n",
    "\n",
    "\n",
    "auc_scoresTFIDF_W2V_cv = []\n",
    "\n",
    "table1_TFIDF_W2V = PrettyTable()\n",
    "\n",
    "table1_TFIDF_W2V.field_names = [\"Hyperparameter\", \"AUC_Train\", \"AUC_CV\"]\n",
    "\n",
    "#print(type(tfidf_sent_vectors_train))\n",
    "#print(str(len(tfidf_sent_vectors_train)))\n",
    "\n",
    "#Running cross Validation for optimal K.\n",
    "\n",
    "for i in tqdm(range(1,34,2)):\n",
    "  \n",
    "    knn = KNeighborsClassifier( n_neighbors = i)\n",
    "    \n",
    "    knn.fit(tfidf_sent_vectors_train, Y_train)\n",
    "       \n",
    "    TFIDF_W2Vpred_train = []\n",
    "    \n",
    "    for k in range(0,len(tfidf_sent_vectors_train),3000):\n",
    "    \n",
    "        TFIDF_W2Vpred_train.extend(knn.predict_proba(tfidf_sent_vectors_train[k:k+3000])[:,1])\n",
    "    \n",
    "    \n",
    "        \n",
    "    TFIDF_W2Vpred_cv = []\n",
    "    \n",
    "    for l in range(0,len(tfidf_sent_vectors_cv),3000):\n",
    "    \n",
    "        TFIDF_W2Vpred_cv.extend(knn.predict_proba(tfidf_sent_vectors_cv[l:l+3000])[:,1])\n",
    "    \n",
    "    hyperparameter_TFIDF_W2V.append(i)\n",
    "    \n",
    "    auc_scoreTFIDF_W2V_train = roc_auc_score(Y_train, TFIDF_W2Vpred_train)\n",
    "    auc_scoresTFIDF_W2V_train.append(auc_scoreTFIDF_W2V_train)\n",
    "    \n",
    "    auc_scoreTFIDF_W2V_cv = roc_auc_score(Y_cv, TFIDF_W2Vpred_cv)\n",
    "    auc_scoresTFIDF_W2V_cv.append(auc_scoreTFIDF_W2V_cv)\n",
    "    \n",
    "    table1_TFIDF_W2V.add_row([i,auc_scoreTFIDF_W2V_train, auc_scoreTFIDF_W2V_cv])\n",
    "\n",
    "    \n"
   ]
  },
  {
   "cell_type": "code",
   "execution_count": 77,
   "metadata": {},
   "outputs": [
    {
     "data": {
      "image/png": "[encoded data removed]",
      "text/plain": [
       "<Figure size 432x288 with 1 Axes>"
      ]
     },
     "metadata": {},
     "output_type": "display_data"
    },
    {
     "name": "stdout",
     "output_type": "stream",
     "text": [
      "+----------------+--------------------+--------------------+\n",
      "| Hyperparameter |     AUC_Train      |       AUC_CV       |\n",
      "+----------------+--------------------+--------------------+\n",
      "|       1        | 0.999238251494199  | 0.5448652365151974 |\n",
      "|       3        | 0.9506342247765298 | 0.5957070237392322 |\n",
      "|       5        | 0.9310578498389996 | 0.6183013828206975 |\n",
      "|       7        | 0.9198552538419443 |  0.63901198999252  |\n",
      "|       9        | 0.9128379725382818 | 0.655433430102025  |\n",
      "|       11       | 0.9080677849281853 | 0.6656380950203353 |\n",
      "|       13       | 0.9048739303500898 | 0.6786861728690153 |\n",
      "|       15       | 0.9011084184994161 | 0.6893949561408989 |\n",
      "|       17       | 0.8971880580183905 | 0.695435994225774  |\n",
      "|       19       | 0.8953584010188621 | 0.7035527932809006 |\n",
      "|       21       | 0.8933219025248187 | 0.7109472856891152 |\n",
      "|       23       | 0.891608942331805  | 0.7156572538955178 |\n",
      "|       25       | 0.8902589137614224 | 0.7195776780586519 |\n",
      "|       27       | 0.8889004961184406 | 0.725319672449283  |\n",
      "|       29       | 0.8877589422428418 | 0.728808403466457  |\n",
      "|       31       | 0.8869922304015901 | 0.7313953199601806 |\n",
      "|       33       | 0.8865458170169324 |  0.73614364434518  |\n",
      "+----------------+--------------------+--------------------+\n"
     ]
    }
   ],
   "source": [
    "plt.plot(hyperparameter_TFIDF_W2V, auc_scoresTFIDF_W2V_train, 'r',label = 'Training Set')\n",
    "plt.plot( hyperparameter_TFIDF_W2V, auc_scoresTFIDF_W2V_cv, 'blue', label = 'CV Set')\n",
    "plt.title(\"Performance of model on CV\")\n",
    "plt.xlabel(\"Hyperparameter\")\n",
    "plt.ylabel(\"Area under ROC Score\")\n",
    "plt.legend()\n",
    "plt.show()\n",
    "\n",
    "print(table1_TFIDF_W2V)\n",
    "\n",
    "\n"
   ]
  },
  {
   "cell_type": "code",
   "execution_count": 78,
   "metadata": {},
   "outputs": [
    {
     "name": "stdout",
     "output_type": "stream",
     "text": [
      "from the plot the optimal K is 31\n",
      "AUC for training set for K = 31: 0.8869922304015901\n",
      "AUC for CV set for K = 31: 0.7313953199601806\n"
     ]
    },
    {
     "name": "stderr",
     "output_type": "stream",
     "text": [
      "100%|██████████████████████████████████████████████████████████████████| 18/18 [14:42<00:00, 41.66s/it]\n",
      "100%|████████████████████████████████████████████████████████████████████| 6/6 [05:34<00:00, 54.76s/it]\n"
     ]
    }
   ],
   "source": [
    "print(\"from the plot the optimal K is 31\")\n",
    "print(\"AUC for training set for K = 31: \" + str(auc_scoresTFIDF_W2V_train[15]))\n",
    "print(\"AUC for CV set for K = 31: \" + str(auc_scoresTFIDF_W2V_cv[15]))\n",
    "\n",
    "\n",
    "\n",
    "knn = KNeighborsClassifier(n_neighbors = 29)\n",
    "\n",
    "knn.fit(tfidf_sent_vectors_train, Y_train)\n",
    "\n",
    "TFIDF_W2Vpred_train = []\n",
    "TFIDF_W2Vpred_train_val = []\n",
    "\n",
    "\n",
    "for m in tqdm(range(0,len(tfidf_sent_vectors_train),3000)):\n",
    "\n",
    "    TFIDF_W2Vpred_train.extend(knn.predict_proba(tfidf_sent_vectors_train[m:m+3000])[:,1])\n",
    "    TFIDF_W2Vpred_train_val.extend(knn.predict(tfidf_sent_vectors_train[m:m+3000]))\n",
    "\n",
    "\n",
    "TFIDF_W2Vpred_test = []\n",
    "TFIDF_W2Vpred_test_val = []                \n",
    "                                   \n",
    "for n in tqdm(range(0,len(tfidf_sent_vectors_test),3000)):               \n",
    "\n",
    "   TFIDF_W2Vpred_test.extend(knn.predict_proba(tfidf_sent_vectors_test[n:n+3000])[:,1])\n",
    "   TFIDF_W2Vpred_test_val.extend(knn.predict(tfidf_sent_vectors_test[n:n+3000]))\n",
    "\n",
    "                             \n",
    "        \n",
    "TFIDF_W2Vfpr_train, TFIDF_W2Vtpr_train, TFIDF_W2Vthrshold_train = roc_curve(Y_train, TFIDF_W2Vpred_train)\n",
    "\n",
    "TFIDF_W2Vfpr_test, TFIDF_W2Vtpr_test, TFIDF_W2Vthrshold_test = roc_curve(Y_test, TFIDF_W2Vpred_test)\n"
   ]
  },
  {
   "cell_type": "code",
   "execution_count": 79,
   "metadata": {},
   "outputs": [
    {
     "name": "stdout",
     "output_type": "stream",
     "text": [
      "AUC value of train data for k = = 0.8877589422428418\n",
      "AUC value of test data for k = = 0.7471076358365796\n"
     ]
    },
    {
     "data": {
      "image/png": "[encoded data removed]",
      "text/plain": [
       "<Figure size 432x288 with 1 Axes>"
      ]
     },
     "metadata": {},
     "output_type": "display_data"
    }
   ],
   "source": [
    "auc_scoreTFIDF_W2V_train = roc_auc_score(Y_train, TFIDF_W2Vpred_train)\n",
    "print(\"AUC value of train data for k = = \" + str(auc_scoreTFIDF_W2V_train))\n",
    "\n",
    "auc_scoreTFIDF_W2V_test = roc_auc_score(Y_test, TFIDF_W2Vpred_test)\n",
    "print(\"AUC value of test data for k = = \" + str(auc_scoreTFIDF_W2V_test))\n",
    "\n",
    "\n",
    "plt.plot(TFIDF_W2Vfpr_train,TFIDF_W2Vtpr_train,'r', label=\"Training Set\")\n",
    "plt.plot(TFIDF_W2Vfpr_test,TFIDF_W2Vtpr_test, 'blue', label = \"Test Set\")\n",
    "plt.title(\"ROC Curve for Optimal K\")\n",
    "plt.xlabel(\"FPR\")\n",
    "plt.ylabel(\"TPR\")\n",
    "plt.legend()\n",
    "plt.show()\n"
   ]
  },
  {
   "cell_type": "code",
   "execution_count": 80,
   "metadata": {},
   "outputs": [
    {
     "name": "stdout",
     "output_type": "stream",
     "text": [
      "Confusion Matrix on training Data\n",
      "[[ 2189  6344]\n",
      " [  568 43562]]\n",
      "AxesSubplot(0.125,0.125;0.62x0.755)\n"
     ]
    },
    {
     "data": {
      "image/png": "[encoded data removed]",
      "text/plain": [
       "<Figure size 432x288 with 2 Axes>"
      ]
     },
     "metadata": {},
     "output_type": "display_data"
    }
   ],
   "source": [
    "cm_train = confusion_matrix(Y_train,TFIDF_W2Vpred_train_val)\n",
    "\n",
    "print(\"Confusion Matrix on training Data\")\n",
    "print(cm_train)\n",
    "\n",
    "print(sns.heatmap(cm_train, annot = True))"
   ]
  },
  {
   "cell_type": "code",
   "execution_count": 81,
   "metadata": {},
   "outputs": [
    {
     "name": "stdout",
     "output_type": "stream",
     "text": [
      "Confusion Matrix on test Data\n",
      "[[ 2189  6344]\n",
      " [  568 43562]]\n",
      "AxesSubplot(0.125,0.125;0.62x0.755)\n"
     ]
    },
    {
     "data": {
      "image/png": "[encoded data removed]",
      "text/plain": [
       "<Figure size 432x288 with 2 Axes>"
      ]
     },
     "metadata": {},
     "output_type": "display_data"
    }
   ],
   "source": [
    "cm_test = confusion_matrix(Y_test,TFIDF_W2Vpred_test_val)\n",
    "\n",
    "print(\"Confusion Matrix on test Data\")\n",
    "print(cm_train)\n",
    "\n",
    "print(sns.heatmap(cm_test, annot = True))"
   ]
  },
  {
   "cell_type": "markdown",
   "metadata": {},
   "source": [
    "## [5.2] Applying KNN kd-tree"
   ]
  },
  {
   "cell_type": "markdown",
   "metadata": {},
   "source": [
    "### [5.2.1] Applying KNN kd-tree on BOW,<font color='red'> SET 5</font>"
   ]
  },
  {
   "cell_type": "code",
   "execution_count": 83,
   "metadata": {
    "scrolled": true
   },
   "outputs": [
    {
     "name": "stderr",
     "output_type": "stream",
     "text": [
      "100%|█████████████████████████████████████████████████████████████| 17/17 [16:12:30<00:00, 3663.46s/it]\n"
     ]
    },
    {
     "data": {
      "image/png": "[encoded data removed]",
      "text/plain": [
       "<Figure size 432x288 with 1 Axes>"
      ]
     },
     "metadata": {},
     "output_type": "display_data"
    },
    {
     "name": "stdout",
     "output_type": "stream",
     "text": [
      "+----------------+--------------------+--------------------+\n",
      "| Hyperparameter |     AUC_Train      |       AUC_CV       |\n",
      "+----------------+--------------------+--------------------+\n",
      "|       1        | 0.9983419060413778 | 0.6364518771902891 |\n",
      "|       3        | 0.9175432145454994 | 0.711487922871465  |\n",
      "|       5        | 0.8881598623692839 | 0.7445254300743568 |\n",
      "|       7        | 0.8722958246717288 | 0.7585012975292377 |\n",
      "|       9        | 0.8617293827520083 | 0.7685762911837759 |\n",
      "|       11       | 0.8536263339760707 | 0.771465926071384  |\n",
      "|       13       | 0.8476221838946854 | 0.7751127292171957 |\n",
      "|       15       | 0.8427137691184348 | 0.7789411898187475 |\n",
      "|       17       | 0.8365703203321828 | 0.7786280958023497 |\n",
      "|       19       | 0.8330872844099296 | 0.7786977709896442 |\n",
      "|       21       | 0.830494516576571  | 0.777225429325006  |\n",
      "|       23       | 0.8271218942871159 | 0.7773810156274168 |\n",
      "|       25       | 0.8248349505069945 | 0.7773358384377234 |\n",
      "|       27       | 0.8226977366685778 | 0.7799201970522857 |\n",
      "|       29       | 0.8200541099166087 | 0.7793155288291473 |\n",
      "|       31       | 0.8178420649663697 | 0.7776222368420292 |\n",
      "|       33       | 0.8168027653612512 | 0.778143900085061  |\n",
      "+----------------+--------------------+--------------------+\n"
     ]
    }
   ],
   "source": [
    "# Please write all the code with proper documentation\n",
    "\n",
    "\n",
    "hyperparameter_BOW_Kd = []\n",
    "\n",
    "auc_scoresBOW_Kd_train = []\n",
    "\n",
    "\n",
    "auc_scoresBOW_Kd_cv = []\n",
    "\n",
    "table1_BOW_Kd = PrettyTable()\n",
    "\n",
    "table1_BOW_Kd.field_names = [\"Hyperparameter\", \"AUC_Train\", \"AUC_CV\"]\n",
    "#print(type(final_counts_res_train))\n",
    "#print(str(len(final_counts_res_train)))\n",
    "\n",
    "#Running Cross Validation for optimal K\n",
    "\n",
    "for i in tqdm(range(1,35,2)):\n",
    "  \n",
    "    knn = KNeighborsClassifier( n_neighbors = i, algorithm = 'kd_tree')\n",
    "    \n",
    "    knn.fit(final_counts_res_train.toarray(), Y_train)\n",
    "     \n",
    "    BOW_Kdpred_train = []\n",
    "    \n",
    "    #for k in range(0,len(final_counts_res_train.toarray()),10000):\n",
    "    \n",
    "        #BOW_Kdpred_train.extend(knn.predict_proba(final_counts_res_train.toarray()[k:k+10000])[:,1])\n",
    "    BOW_Kdpred_train = knn.predict_proba(final_counts_res_train.toarray())[:,1]\n",
    "        \n",
    "    BOW_Kdpred_cv = []\n",
    "    \n",
    "    #for l in range(0,len(final_counts_res_cv.toarray()),10000):\n",
    "    \n",
    "        #BOW_Kdpred_cv.extend(knn.predict_proba(final_counts_res_cv.toarray()[l:l+10000])[:,1])\n",
    "    BOW_Kdpred_cv = knn.predict_proba(final_counts_res_cv.toarray())[:,1]\n",
    "    \n",
    "    hyperparameter_BOW_Kd.append(i)\n",
    "    \n",
    "    auc_scoreBOW_Kd_train = roc_auc_score(Y_train, BOW_Kdpred_train)\n",
    "    auc_scoresBOW_Kd_train.append(auc_scoreBOW_Kd_train)\n",
    "    \n",
    "    auc_scoreBOW_Kd_cv = roc_auc_score(Y_cv, BOW_Kdpred_cv)\n",
    "    auc_scoresBOW_Kd_cv.append(auc_scoreBOW_Kd_cv)\n",
    "    \n",
    "    table1_BOW_Kd.add_row([i,auc_scoreBOW_Kd_train, auc_scoreBOW_Kd_cv])\n",
    "\n",
    "    \n",
    "plt.plot(hyperparameter_BOW_Kd, auc_scoresBOW_Kd_train, 'r',label = 'Training Set')\n",
    "plt.plot( hyperparameter_BOW_Kd, auc_scoresBOW_Kd_cv, 'blue', label = 'CV Set')\n",
    "plt.title(\"Performance of model on CV\")\n",
    "plt.xlabel(\"Hyperparameter\")\n",
    "plt.ylabel(\"Area under ROC Score\")\n",
    "plt.legend()\n",
    "plt.show()\n",
    "\n",
    "print(table1_BOW_Kd)\n",
    "\n",
    "\n"
   ]
  },
  {
   "cell_type": "code",
   "execution_count": 84,
   "metadata": {},
   "outputs": [
    {
     "name": "stdout",
     "output_type": "stream",
     "text": [
      "from the plot the optimal K is 33\n",
      "AUC for training set for K = 33: 0.8168027653612512\n",
      "AUC for CV set for K =33: 0.778143900085061\n"
     ]
    }
   ],
   "source": [
    "print(\"from the plot the optimal K is 33\")\n",
    "print(\"AUC for training set for K = 33: \" + str(auc_scoresBOW_Kd_train[16]))\n",
    "print(\"AUC for CV set for K =33: \" + str(auc_scoresBOW_Kd_cv[16]))\n",
    "\n",
    "\n",
    "\n",
    "knn = KNeighborsClassifier(n_neighbors = 33)\n",
    "\n",
    "knn.fit(final_counts_res_train.toarray(), Y_train)\n",
    "\n",
    "BOW_Kdpred_train = []\n",
    "BOW_Kdpred_train_val = []\n",
    "\n",
    "#for m in tqdm(range(0,len(final_counts_res_train.toarray()),3000)):\n",
    "\n",
    "    #BOW_Kdpred_train.extend(knn.predict_proba(final_counts_res_train.toarray()[m:m+3000])[:,1])\n",
    "    #BOW_Kdpred_train_val.extend(knn.predict(final_counts_res_train.toarray()[m:m+3000]))\n",
    "\n",
    "BOW_Kdpred_train = knn.predict_proba(final_counts_res_train.toarray())[:,1]\n",
    "BOW_Kdpred_train_val = knn.predict(final_counts_res_train.toarray())\n",
    "    \n",
    "BOW_Kdpred_test = []\n",
    "BOW_Kdpred_test_val = []\n",
    "\n",
    "#for n in tqdm(range(0,len(final_counts_res_test.toarray()),3000)):\n",
    "\n",
    "#    BOW_Kdpred_test.extend(knn.predict_proba(final_counts_res_test.toarray()[n:n+3000])[:,1])\n",
    "#    BOW_Kdpred_test_val.extend(knn.predict(final_counts_res_test.toarray()[n:n+3000]))\n",
    "\n",
    "BOW_Kdpred_test = knn.predict_proba(final_counts_res_test.toarray())[:,1]\n",
    "BOW_Kdpred_test_val = knn.predict(final_counts_res_test.toarray())\n",
    "    \n",
    "    \n",
    "BOW_Kdfpr_train, BOW_Kdtpr_train, BOW_Kdthrshold_train = roc_curve(Y_train, BOW_Kdpred_train)\n",
    "\n",
    "BOW_Kdfpr_test, BOW_Kdtpr_test, BOW_Kdthrshold_test = roc_curve(Y_test, BOW_Kdpred_test)\n",
    "\n"
   ]
  },
  {
   "cell_type": "code",
   "execution_count": 85,
   "metadata": {},
   "outputs": [
    {
     "name": "stdout",
     "output_type": "stream",
     "text": [
      "AUC of Train data for k = = 0.8168027653612512\n",
      "AUC of Test data for k = = 0.7751633877798072\n"
     ]
    },
    {
     "data": {
      "image/png": "[encoded data removed]",
      "text/plain": [
       "<Figure size 432x288 with 1 Axes>"
      ]
     },
     "metadata": {},
     "output_type": "display_data"
    },
    {
     "name": "stdout",
     "output_type": "stream",
     "text": [
      "Confusion Matrix on training Data\n",
      "[[ 2250  6283]\n",
      " [ 1625 42505]]\n",
      "AxesSubplot(0.125,0.125;0.62x0.755)\n"
     ]
    },
    {
     "data": {
      "image/png": "[encoded data removed]",
      "text/plain": [
       "<Figure size 432x288 with 2 Axes>"
      ]
     },
     "metadata": {},
     "output_type": "display_data"
    }
   ],
   "source": [
    "auc_scoreBOW_Kd_train = roc_auc_score(Y_train, BOW_Kdpred_train)\n",
    "print(\"AUC of Train data for k = = \" + str(auc_scoreBOW_Kd_train))\n",
    "\n",
    "auc_scoreBOW_Kd_test = roc_auc_score(Y_test, BOW_Kdpred_test)\n",
    "print(\"AUC of Test data for k = = \" + str(auc_scoreBOW_Kd_test))\n",
    "\n",
    "plt.plot(BOW_Kdfpr_train,BOW_Kdtpr_train,'r', label=\"Training Set\")\n",
    "plt.plot(BOW_Kdfpr_test,BOW_Kdtpr_test, 'blue', label = \"Test Set\")\n",
    "plt.title(\"ROC Curve for Optimal K\")\n",
    "plt.xlabel(\"FPR\")\n",
    "plt.ylabel(\"TPR\")\n",
    "plt.legend()\n",
    "plt.show()\n",
    "\n",
    "cm_train = confusion_matrix(Y_train,BOW_Kdpred_train_val)\n",
    "\n",
    "\n",
    "print(\"Confusion Matrix on training Data\")\n",
    "print(cm_train)\n",
    "\n",
    "print(sns.heatmap(cm_train, annot = True))\n"
   ]
  },
  {
   "cell_type": "code",
   "execution_count": 86,
   "metadata": {},
   "outputs": [
    {
     "name": "stdout",
     "output_type": "stream",
     "text": [
      "Confusion Matrix on training Data\n",
      "[[  678  2143]\n",
      " [  602 14132]]\n",
      "AxesSubplot(0.125,0.125;0.62x0.755)\n"
     ]
    },
    {
     "data": {
      "image/png": "[encoded data removed]",
      "text/plain": [
       "<Figure size 432x288 with 2 Axes>"
      ]
     },
     "metadata": {},
     "output_type": "display_data"
    }
   ],
   "source": [
    "cm_test = confusion_matrix(Y_test,BOW_Kdpred_test_val)\n",
    "\n",
    "\n",
    "print(\"Confusion Matrix on training Data\")\n",
    "print(cm_test)\n",
    "\n",
    "print(sns.heatmap(cm_test, annot = True))\n"
   ]
  },
  {
   "cell_type": "markdown",
   "metadata": {},
   "source": [
    "### [5.2.2] Applying KNN kd-tree on TFIDF,<font color='red'> SET 6</font>"
   ]
  },
  {
   "cell_type": "code",
   "execution_count": 89,
   "metadata": {},
   "outputs": [
    {
     "name": "stderr",
     "output_type": "stream",
     "text": [
      "100%|█████████████████████████████████████████████████████████████| 17/17 [16:49:10<00:00, 3544.75s/it]\n"
     ]
    },
    {
     "data": {
      "image/png": "[encoded data removed]",
      "text/plain": [
       "<Figure size 432x288 with 1 Axes>"
      ]
     },
     "metadata": {},
     "output_type": "display_data"
    },
    {
     "name": "stdout",
     "output_type": "stream",
     "text": [
      "+----------------+--------------------+--------------------+\n",
      "| Hyperparameter |     AUC_Train      |       AUC_CV       |\n",
      "+----------------+--------------------+--------------------+\n",
      "|       1        | 0.9983419060413778 | 0.5718118329939801 |\n",
      "|       3        | 0.9045181144349702 | 0.5942768810763441 |\n",
      "|       5        | 0.8693079936602087 | 0.6029732258982455 |\n",
      "|       7        | 0.840796580551336  | 0.5991484399963339 |\n",
      "|       9        | 0.8103914013572665 | 0.5937064259880908 |\n",
      "|       11       | 0.7745330009890289 | 0.5875135723710238 |\n",
      "|       13       | 0.7477951557367992 | 0.5853455596274537 |\n",
      "|       15       | 0.7342195237327767 | 0.5783702351634843 |\n",
      "|       17       | 0.7336125375499962 | 0.5768588888438425 |\n",
      "|       19       | 0.7131899696859441 | 0.5697180587901987 |\n",
      "|       21       | 0.7156173779838071 | 0.568615889074604  |\n",
      "|       23       | 0.7102648150583932 | 0.5664178542751502 |\n",
      "|       25       | 0.7045746390979275 | 0.5672347784333847 |\n",
      "|       27       | 0.7120363035722551 | 0.566268092251581  |\n",
      "|       29       | 0.7134937847700702 | 0.5658367113350026 |\n",
      "|       31       | 0.7173160523217881 | 0.5660844293225085 |\n",
      "|       33       | 0.720782157401256  | 0.566042554558962  |\n",
      "+----------------+--------------------+--------------------+\n"
     ]
    }
   ],
   "source": [
    "# Please write all the code with proper documentation\n",
    "\n",
    "\n",
    "hyperparameter_TFIDF_kd = []\n",
    "\n",
    "auc_scoresTFIDF_kd_train = []\n",
    "\n",
    "\n",
    "auc_scoresTFIDF_kd_cv = []\n",
    "\n",
    "table1_TFIDF_kd = PrettyTable()\n",
    "\n",
    "table1_TFIDF_kd.field_names = [\"Hyperparameter\", \"AUC_Train\", \"AUC_CV\"]\n",
    "#print(type(final_tf_idf_res_train))\n",
    "#print(str(len(final_tf_idf_res_train)))\n",
    "\n",
    "\n",
    "#running Cross validation to get optimal K\n",
    "\n",
    "for i in tqdm(range(1,35,2)):\n",
    "  \n",
    "    knn = KNeighborsClassifier( n_neighbors = i, algorithm = 'kd_tree')\n",
    "    \n",
    "    knn.fit(final_tf_idf_res_train.toarray(), Y_train)\n",
    "       \n",
    "    TFIDF_kdpred_train = []\n",
    "    \n",
    "#    for k in range(0,len(final_tf_idf_res_train.toarray()),3000):\n",
    "    \n",
    "#        TFIDF_kdpred_train.extend(knn.predict_proba(final_tf_idf_res_train.toarray()[k:k+3000])[:,1])\n",
    "        \n",
    "    TFIDF_kdpred_train = knn.predict_proba(final_tf_idf_res_train.toarray())[:,1]\n",
    "        \n",
    "    TFIDF_kdpred_cv = []\n",
    "    \n",
    "#    for l in range(0, len(final_tf_idf_res_cv.toarray()), 3000):\n",
    "    \n",
    "#        TFIDF_kdpred_cv.extend(knn.predict_proba(final_tf_idf_res_cv.toarray()[l:l+3000])[:,1])\n",
    "        \n",
    "    TFIDF_kdpred_cv = knn.predict_proba(final_tf_idf_res_cv.toarray())[:,1]\n",
    "    \n",
    "    hyperparameter_TFIDF_kd.append(i)\n",
    "    \n",
    "    auc_scoreTFIDF_kd_train = roc_auc_score(Y_train, TFIDF_kdpred_train)\n",
    "    auc_scoresTFIDF_kd_train.append(auc_scoreTFIDF_kd_train)\n",
    "    \n",
    "    auc_scoreTFIDF_kd_cv = roc_auc_score(Y_cv, TFIDF_kdpred_cv)\n",
    "    auc_scoresTFIDF_kd_cv.append(auc_scoreTFIDF_kd_cv)\n",
    "    \n",
    "    table1_TFIDF_kd.add_row([i,auc_scoreTFIDF_kd_train, auc_scoreTFIDF_kd_cv])\n",
    "\n",
    "    \n",
    "plt.plot(hyperparameter_TFIDF_kd, auc_scoresTFIDF_kd_train, 'r',label = 'Training Set')\n",
    "plt.plot( hyperparameter_TFIDF_kd, auc_scoresTFIDF_kd_cv, 'blue', label = 'CV Set')\n",
    "plt.title(\"Performance of model on CV\")\n",
    "plt.xlabel(\"Hyperparameter\")\n",
    "plt.ylabel(\"Area under ROC Score\")\n",
    "plt.legend()\n",
    "plt.show()\n",
    "\n",
    "print(table1_TFIDF_kd)\n"
   ]
  },
  {
   "cell_type": "code",
   "execution_count": 90,
   "metadata": {},
   "outputs": [
    {
     "name": "stdout",
     "output_type": "stream",
     "text": [
      "from the plot the optimal K is 25\n",
      "AUC for training set for K = 25: 0.7045746390979275\n",
      "AUC for CV set for K =25: 0.5672347784333847\n"
     ]
    }
   ],
   "source": [
    "print(\"from the plot the optimal K is 25\")\n",
    "print(\"AUC for training set for K = 25: \" + str(auc_scoresTFIDF_kd_train[12]))\n",
    "print(\"AUC for CV set for K =25: \" + str(auc_scoresTFIDF_kd_cv[12]))\n",
    "\n",
    "\n",
    "\n",
    "knn = KNeighborsClassifier(n_neighbors = 25, algorithm = 'kd_tree')\n",
    "\n",
    "knn.fit(final_tf_idf_res_train.toarray(), Y_train)\n",
    "\n",
    "TFIDF_kdpred_train = []\n",
    "TFIDF_kdpred_train_val = []\n",
    "\n",
    "#for m in range(0,len(final_tf_idf_res_train.toarray()), 3000):\n",
    "\n",
    "#    TFIDF_kdpred_train.extend(knn.predict_proba(final_tf_idf_res_train.toarray()[m:m+3000])[:,1])\n",
    "#    TFIDF_kdpred_train_val.extend(knn.predict(final_tf_idf_res_train.toarray()[m:m+3000]))\n",
    "    \n",
    "TFIDF_kdpred_train = knn.predict_proba(final_tf_idf_res_train.toarray())[:,1]\n",
    "TFIDF_kdpred_train_val = knn.predict(final_tf_idf_res_train.toarray())\n",
    "\n",
    "TFIDF_kdpred_test = []\n",
    "TFIDF_kdpred_test_val = []\n",
    "\n",
    "#for n in range(0, len(final_tf_idf_res_test.toarray()), 3000):\n",
    "\n",
    "#    TFIDF_kdpred_test.extend(knn.predict_proba(final_tf_idf_res_test.toarray()[n:n+3000])[:,1])\n",
    "#    TFIDF_kdpred_test_val.extend(knn.predict(final_tf_idf_res_test.toarray()[n:n+3000]))\n",
    "\n",
    "TFIDF_kdpred_test = knn.predict_proba(final_tf_idf_res_test.toarray())[:,1]\n",
    "TFIDF_kdpred_test_val = knn.predict(final_tf_idf_res_test.toarray())\n",
    "\n",
    "\n",
    "TFIDF_kdfpr_train, TFIDF_kdtpr_train, TFIDF_kdthrshold_train = roc_curve(Y_train, TFIDF_kdpred_train)\n",
    "\n",
    "TFIDF_kdfpr_test, TFIDF_kdtpr_test, TFIDF_kdthrshold_test = roc_curve(Y_test, TFIDF_kdpred_test)\n",
    "\n",
    "\n"
   ]
  },
  {
   "cell_type": "code",
   "execution_count": 91,
   "metadata": {},
   "outputs": [
    {
     "name": "stdout",
     "output_type": "stream",
     "text": [
      "AUC of train data for K=15 = 0.7045746390979275\n",
      "AUC of test data for K=15 = 0.5676990528529869\n"
     ]
    },
    {
     "data": {
      "image/png": "[encoded data removed]",
      "text/plain": [
       "<Figure size 432x288 with 1 Axes>"
      ]
     },
     "metadata": {},
     "output_type": "display_data"
    },
    {
     "name": "stdout",
     "output_type": "stream",
     "text": [
      "Confusion Matrix on training Data\n",
      "[[  138  8395]\n",
      " [   48 44082]]\n",
      "AxesSubplot(0.125,0.125;0.62x0.755)\n"
     ]
    },
    {
     "data": {
      "image/png": "[encoded data removed]",
      "text/plain": [
       "<Figure size 432x288 with 2 Axes>"
      ]
     },
     "metadata": {},
     "output_type": "display_data"
    }
   ],
   "source": [
    "auc_scoreTFIDF_kd_train = roc_auc_score(Y_train, TFIDF_kdpred_train)\n",
    "print(\"AUC of train data for K=15 = \" + str(auc_scoreTFIDF_kd_train))\n",
    "\n",
    "auc_scoreTFIDF_kd_test = roc_auc_score(Y_test, TFIDF_kdpred_test)\n",
    "print(\"AUC of test data for K=15 = \" + str(auc_scoreTFIDF_kd_test))\n",
    "\n",
    "plt.plot(TFIDF_kdfpr_train,TFIDF_kdtpr_train,'r', label=\"Training Set\")\n",
    "plt.plot(TFIDF_kdfpr_test,TFIDF_kdtpr_test, 'blue', label = \"Test Set\")\n",
    "plt.title(\"ROC Curve for Optimal K\")\n",
    "plt.xlabel(\"FPR\")\n",
    "plt.ylabel(\"TPR\")\n",
    "plt.legend()\n",
    "plt.show()\n",
    "\n",
    "cm_train = confusion_matrix(Y_train,TFIDF_kdpred_train_val)\n",
    "\n",
    "\n",
    "print(\"Confusion Matrix on training Data\")\n",
    "print(cm_train)\n",
    "\n",
    "print(sns.heatmap(cm_train, annot = True))\n"
   ]
  },
  {
   "cell_type": "code",
   "execution_count": 92,
   "metadata": {},
   "outputs": [
    {
     "name": "stdout",
     "output_type": "stream",
     "text": [
      "Confusion Matrix on training Data\n",
      "[[   30  2791]\n",
      " [   12 14722]]\n",
      "AxesSubplot(0.125,0.125;0.62x0.755)\n"
     ]
    },
    {
     "data": {
      "image/png": "[encoded data removed]",
      "text/plain": [
       "<Figure size 432x288 with 2 Axes>"
      ]
     },
     "metadata": {},
     "output_type": "display_data"
    }
   ],
   "source": [
    "cm_test = confusion_matrix(Y_test,TFIDF_kdpred_test_val)\n",
    "\n",
    "\n",
    "print(\"Confusion Matrix on training Data\")\n",
    "print(cm_test)\n",
    "\n",
    "print(sns.heatmap(cm_test, annot = True))\n"
   ]
  },
  {
   "cell_type": "markdown",
   "metadata": {},
   "source": [
    "### [5.2.3] Applying KNN kd-tree on AVG W2V,<font color='red'> SET 3</font>"
   ]
  },
  {
   "cell_type": "code",
   "execution_count": 93,
   "metadata": {
    "scrolled": true
   },
   "outputs": [
    {
     "name": "stderr",
     "output_type": "stream",
     "text": [
      "100%|███████████████████████████████████████████████████████████████| 17/17 [2:45:03<00:00, 578.00s/it]\n"
     ]
    }
   ],
   "source": [
    "\n",
    "hyperparameter_Avg_W2V_kd = []\n",
    "\n",
    "auc_scoresAvg_W2V_kd_train = []\n",
    "\n",
    "\n",
    "auc_scoresAvg_W2V_kd_cv = []\n",
    "\n",
    "table1_Avg_W2V_kd = PrettyTable()\n",
    "\n",
    "table1_Avg_W2V_kd.field_names = [\"Hyperparameter\", \"AUC_Train\", \"AUC_CV\"]\n",
    "\n",
    "#print(type(sent_vectors_train))\n",
    "#print(str(len(sent_vectors_train)))\n",
    "\n",
    "#running cross-validation for optimal K\n",
    "\n",
    "for i in tqdm(range(1,35,2)):\n",
    "  \n",
    "    knn = KNeighborsClassifier( n_neighbors = i, algorithm = 'kd_tree')\n",
    "    \n",
    "    knn.fit(sent_vectors_train, Y_train)\n",
    "    \n",
    "    #Avg_W2Vpred_train = []\n",
    "    \n",
    "    #for k in range(0,len(sent_vectors_train), 3000):\n",
    "        \n",
    "    Avg_W2Vpred_kd_train = knn.predict_proba(sent_vectors_train)[:,1]\n",
    "        \n",
    "   # Avg_W2Vpred_cv = []\n",
    "    \n",
    "   # for l in range(0,len(sent_vectors_cv), 3000):\n",
    "        \n",
    "    Avg_W2Vpred_kd_cv = knn.predict_proba(sent_vectors_cv)[:,1]\n",
    "    \n",
    "    hyperparameter_Avg_W2V_kd.append(i)\n",
    "    \n",
    "    auc_scoreAvg_W2V_kd_train = roc_auc_score(Y_train, Avg_W2Vpred_kd_train)\n",
    "    auc_scoresAvg_W2V_kd_train.append(auc_scoreAvg_W2V_kd_train)\n",
    "    \n",
    "    auc_scoreAvg_W2V_kd_cv = roc_auc_score(Y_cv, Avg_W2Vpred_kd_cv)\n",
    "    auc_scoresAvg_W2V_kd_cv.append(auc_scoreAvg_W2V_kd_cv)\n",
    "    \n",
    "    table1_Avg_W2V_kd.add_row([i,auc_scoreAvg_W2V_kd_train, auc_scoreAvg_W2V_kd_cv])\n",
    "\n",
    "    \n",
    "\n",
    "\n"
   ]
  },
  {
   "cell_type": "code",
   "execution_count": 40,
   "metadata": {},
   "outputs": [
    {
     "data": {
      "image/png": "[encoded data removed]",
      "text/plain": [
       "<Figure size 432x288 with 1 Axes>"
      ]
     },
     "metadata": {},
     "output_type": "display_data"
    },
    {
     "name": "stdout",
     "output_type": "stream",
     "text": [
      "+----------------+--------------------+--------------------+\n",
      "| Hyperparameter |     AUC_Train      |       AUC_CV       |\n",
      "+----------------+--------------------+--------------------+\n",
      "|       1        | 0.9992855173722185 | 0.5716731671222655 |\n",
      "|       3        | 0.959162588114142  | 0.6439817690705383 |\n",
      "|       5        | 0.9435547650158093 | 0.6741418663669777 |\n",
      "|       7        | 0.9346274745872046 | 0.693844957360995  |\n",
      "|       9        |  0.92885501720052  | 0.7100061662901019 |\n",
      "|       11       | 0.9244302076296796 | 0.7230729058487192 |\n",
      "|       13       | 0.9222576423083743 | 0.7312138066103091 |\n",
      "|       15       | 0.9200545826152234 | 0.738379338811534  |\n",
      "|       17       | 0.9183876056405053 | 0.7434336840165647 |\n",
      "|       19       | 0.917340163934535  | 0.7478998611203713 |\n",
      "|       21       | 0.9161109457108562 | 0.7526206132492472 |\n",
      "|       23       | 0.9150870499726618 | 0.7580112895419296 |\n",
      "|       25       | 0.9140351667586438 | 0.7606446321428716 |\n",
      "|       27       | 0.9127454271786671 | 0.7641903210044679 |\n",
      "|       29       | 0.9117388075125831 | 0.7663972903677524 |\n",
      "|       31       | 0.910528576901784  | 0.7681191993785386 |\n",
      "|       33       | 0.9100546474121118 | 0.7710784133828622 |\n",
      "+----------------+--------------------+--------------------+\n"
     ]
    }
   ],
   "source": [
    "plt.plot(hyperparameter_Avg_W2V_kd, auc_scoresAvg_W2V_kd_train, 'r',label = 'Training Set')\n",
    "plt.plot( hyperparameter_Avg_W2V_kd, auc_scoresAvg_W2V_kd_cv, 'blue', label = 'CV Set')\n",
    "plt.title(\"Performance of Model on CV\")\n",
    "plt.xlabel(\"Hyperparameter\")\n",
    "plt.ylabel(\"Area under ROC Score\")\n",
    "plt.legend()\n",
    "plt.show()\n",
    "\n",
    "print(table1_Avg_W2V_kd)"
   ]
  },
  {
   "cell_type": "code",
   "execution_count": 41,
   "metadata": {},
   "outputs": [
    {
     "name": "stdout",
     "output_type": "stream",
     "text": [
      "from the plot the optimal K is 33\n",
      "AUC for training set for K = 33: 0.9100546474121118\n",
      "AUC for CV set for K =33: 0.7710784133828622\n"
     ]
    }
   ],
   "source": [
    "\n",
    "print(\"from the plot the optimal K is 33\")\n",
    "print(\"AUC for training set for K = 33: \" + str(auc_scoresAvg_W2V_kd_train[16]))\n",
    "print(\"AUC for CV set for K =33: \" + str(auc_scoresAvg_W2V_kd_cv[16]))\n",
    "\n",
    "\n",
    "\n",
    "knn = KNeighborsClassifier(n_neighbors = 33,  algorithm = 'kd_tree')\n",
    "\n",
    "knn.fit(sent_vectors_train, Y_train)\n",
    "\n",
    "#Avg_W2Vpred_train = []\n",
    "#Avg_W2Vpred_train_val = []\n",
    "\n",
    "#for m in tqdm(range(0, len(sent_vectors_train),3000)):\n",
    "    \n",
    "#    Avg_W2Vpred_train.extend(knn.predict_proba(sent_vectors_train[m:m+3000])[:,1])\n",
    "#    Avg_W2Vpred_train_val.extend(knn.predict(sent_vectors_train[m:m+3000]))\n",
    "    \n",
    "    \n",
    "Avg_W2Vpred_kd_train = knn.predict_proba(sent_vectors_train)[:,1]\n",
    "Avg_W2Vpred_kd_train_val = knn.predict(sent_vectors_train)\n",
    "\n",
    "#Avg_W2Vpred_test = []\n",
    "#Avg_W2Vpred_test_val = []\n",
    "\n",
    "#for n in tqdm(range(0, len(sent_vectors_test),3000)):\n",
    "\n",
    "#    Avg_W2Vpred_test.extend(knn.predict_proba(sent_vectors_test[n:n+3000])[:,1])\n",
    "#    Avg_W2Vpred_test_val.extend(knn.predict(sent_vectors_test[n:n+3000]))\n",
    "\n",
    "Avg_W2Vpred_kd_test = knn.predict_proba(sent_vectors_test)[:,1]\n",
    "Avg_W2Vpred_kd_test_val = knn.predict(sent_vectors_test)    \n",
    "    \n",
    "Avg_W2Vfpr_kd_train, Avg_W2Vtpr_kd_train, Avg_W2Vthrshold_kd_train = roc_curve(Y_train, Avg_W2Vpred_kd_train)\n",
    "\n",
    "Avg_W2Vfpr_kd_test, Avg_W2Vtpr_kd_test, Avg_W2Vthrshold_kd_test = roc_curve(Y_test, Avg_W2Vpred_kd_test)\n",
    "\n",
    "\n",
    "################################################################################################\n",
    "\n"
   ]
  },
  {
   "cell_type": "code",
   "execution_count": 94,
   "metadata": {},
   "outputs": [
    {
     "name": "stdout",
     "output_type": "stream",
     "text": [
      "AUC of train data for K= = 0.9100546474121118\n",
      "AUC of test data for K= = 0.7522072381088394\n"
     ]
    },
    {
     "data": {
      "image/png": "[encoded data removed]",
      "text/plain": [
       "<Figure size 432x288 with 1 Axes>"
      ]
     },
     "metadata": {},
     "output_type": "display_data"
    },
    {
     "name": "stdout",
     "output_type": "stream",
     "text": [
      "Confusion Matrix on training Data\n",
      "[[ 2616  5917]\n",
      " [  648 43482]]\n",
      "AxesSubplot(0.125,0.125;0.62x0.755)\n"
     ]
    },
    {
     "data": {
      "image/png": "[encoded data removed]",
      "text/plain": [
       "<Figure size 432x288 with 2 Axes>"
      ]
     },
     "metadata": {},
     "output_type": "display_data"
    }
   ],
   "source": [
    "auc_scoreAvg_W2V_kd_train = roc_auc_score(Y_train, Avg_W2Vpred_kd_train)\n",
    "print(\"AUC of train data for K= = \" + str(auc_scoreAvg_W2V_kd_train))\n",
    "\n",
    "auc_scoreAvg_W2V_kd_test = roc_auc_score(Y_test, Avg_W2Vpred_kd_test)\n",
    "print(\"AUC of test data for K= = \" + str(auc_scoreAvg_W2V_kd_test))\n",
    "\n",
    "\n",
    "plt.plot(Avg_W2Vfpr_kd_train,Avg_W2Vtpr_kd_train,'r', label=\"Training Set\")\n",
    "plt.plot(Avg_W2Vfpr_kd_test,Avg_W2Vtpr_kd_test, 'blue', label = \"Test Set\")\n",
    "plt.title(\"ROC Curve for optimal K\")\n",
    "plt.xlabel(\"FPR\")\n",
    "plt.ylabel(\"TPR\")\n",
    "plt.legend()\n",
    "plt.show()\n",
    "\n",
    "cm_train = confusion_matrix(Y_train,Avg_W2Vpred_kd_train_val)\n",
    "\n",
    "\n",
    "print(\"Confusion Matrix on training Data\")\n",
    "print(cm_train)\n",
    "\n",
    "print(sns.heatmap(cm_train, annot = True))"
   ]
  },
  {
   "cell_type": "code",
   "execution_count": 95,
   "metadata": {},
   "outputs": [
    {
     "name": "stdout",
     "output_type": "stream",
     "text": [
      "Confusion Matrix on test Data\n",
      "[[  444  2377]\n",
      " [  407 14327]]\n",
      "AxesSubplot(0.125,0.125;0.62x0.755)\n"
     ]
    },
    {
     "data": {
      "image/png": "[encoded data removed]",
      "text/plain": [
       "<Figure size 432x288 with 2 Axes>"
      ]
     },
     "metadata": {},
     "output_type": "display_data"
    }
   ],
   "source": [
    "cm_test = confusion_matrix(Y_test,Avg_W2Vpred_kd_test_val)\n",
    "\n",
    "\n",
    "print(\"Confusion Matrix on test Data\")\n",
    "print(cm_test)\n",
    "\n",
    "print(sns.heatmap(cm_test, annot = True))"
   ]
  },
  {
   "cell_type": "markdown",
   "metadata": {},
   "source": [
    "### [5.2.4] Applying KNN kd-tree on TFIDF W2V,<font color='red'> SET 4</font>"
   ]
  },
  {
   "cell_type": "code",
   "execution_count": 38,
   "metadata": {
    "scrolled": true
   },
   "outputs": [
    {
     "name": "stderr",
     "output_type": "stream",
     "text": [
      "100%|███████████████████████████████████████████████████████████████████████████████| 17/17 [2:23:41<00:00, 506.34s/it]\n"
     ]
    },
    {
     "data": {
      "image/png": "[encoded data removed]",
      "text/plain": [
       "<Figure size 432x288 with 1 Axes>"
      ]
     },
     "metadata": {},
     "output_type": "display_data"
    },
    {
     "name": "stdout",
     "output_type": "stream",
     "text": [
      "+----------------+--------------------+--------------------+\n",
      "| Hyperparameter |     AUC_Train      |       AUC_CV       |\n",
      "+----------------+--------------------+--------------------+\n",
      "|       1        | 0.9992941176470589 | 0.5741432912942153 |\n",
      "|       3        | 0.9514022624741766 | 0.6346014518076499 |\n",
      "|       5        | 0.9321962529186664 | 0.6582586261330197 |\n",
      "|       7        | 0.9207688735979414 | 0.6735537836411355 |\n",
      "|       9        | 0.9131945746439327 | 0.6804109598945368 |\n",
      "|       11       | 0.9069508878206537 | 0.6873428353147873 |\n",
      "|       13       | 0.9027279303542625 | 0.6943655571649263 |\n",
      "|       15       | 0.8997250519798978 | 0.698080210926636  |\n",
      "|       17       | 0.8978496785304707 |  0.70056685328404  |\n",
      "|       19       | 0.895904658011564  | 0.7001715224941015 |\n",
      "|       21       | 0.8937923814318881 | 0.7026916041462316 |\n",
      "|       23       | 0.8922180997934123 | 0.7063266061104136 |\n",
      "|       25       | 0.8906819109954965 | 0.7065360867228526 |\n",
      "|       27       | 0.8894842142277739 | 0.7089312680903572 |\n",
      "|       29       | 0.8881152734988432 | 0.7089150244257478 |\n",
      "|       31       | 0.886910125724089  | 0.7078151668590681 |\n",
      "|       33       | 0.8855408440123553 | 0.7072408665537163 |\n",
      "+----------------+--------------------+--------------------+\n"
     ]
    }
   ],
   "source": [
    "# Please write all the code with proper documentation\n",
    "\n",
    "\n",
    "hyperparameter_TFIDF_W2V_kd = []\n",
    "\n",
    "auc_scoresTFIDF_W2V_kd_train = []\n",
    "\n",
    "\n",
    "auc_scoresTFIDF_W2V_kd_cv = []\n",
    "\n",
    "table1_TFIDF_W2V_kd = PrettyTable()\n",
    "\n",
    "table1_TFIDF_W2V_kd.field_names = [\"Hyperparameter\", \"AUC_Train\", \"AUC_CV\"]\n",
    "#print(type(tfidf_sent_vectors_train))\n",
    "#print(str(len(tfidf_sent_vectors_train)))\n",
    "\n",
    "\n",
    "for i in tqdm(range(1,35,2)):\n",
    "  \n",
    "    knn = KNeighborsClassifier( n_neighbors = i, algorithm = 'kd_tree')\n",
    "    \n",
    "    knn.fit(tfidf_sent_vectors_train, Y_train)\n",
    "       \n",
    "    TFIDF_W2V_kdpred_train = knn.predict_proba(tfidf_sent_vectors_train)[:,1]\n",
    "        \n",
    "    TFIDF_W2V_kdpred_cv = knn.predict_proba(tfidf_sent_vectors_cv)[:,1]\n",
    "    \n",
    "    hyperparameter_TFIDF_W2V_kd.append(i)\n",
    "    \n",
    "    auc_scoreTFIDF_W2V_kd_train = roc_auc_score(Y_train, TFIDF_W2V_kdpred_train)\n",
    "    auc_scoresTFIDF_W2V_kd_train.append(auc_scoreTFIDF_W2V_kd_train)\n",
    "    \n",
    "    auc_scoreTFIDF_W2V_kd_cv = roc_auc_score(Y_cv, TFIDF_W2V_kdpred_cv)\n",
    "    auc_scoresTFIDF_W2V_kd_cv.append(auc_scoreTFIDF_W2V_kd_cv)\n",
    "    \n",
    "    table1_TFIDF_W2V_kd.add_row([i,auc_scoreTFIDF_W2V_kd_train, auc_scoreTFIDF_W2V_kd_cv])\n",
    "\n",
    "    \n",
    "plt.plot(hyperparameter_TFIDF_W2V_kd, auc_scoresTFIDF_W2V_kd_train, 'r',label = 'Training Set')\n",
    "plt.plot( hyperparameter_TFIDF_W2V_kd, auc_scoresTFIDF_W2V_kd_cv, 'blue', label = 'CV Set')\n",
    "plt.title(\"Performance of model on CV\")\n",
    "plt.xlabel(\"Hyperparameter\")\n",
    "plt.ylabel(\"Area under ROC Score\")\n",
    "plt.legend()\n",
    "plt.show()\n",
    "\n",
    "print(table1_TFIDF_W2V_kd)\n",
    "\n"
   ]
  },
  {
   "cell_type": "code",
   "execution_count": 43,
   "metadata": {},
   "outputs": [
    {
     "name": "stdout",
     "output_type": "stream",
     "text": [
      "from the plot the optimal K is 27\n",
      "AUC for training set for K = 27: 0.8894842142277739\n",
      "AUC for CV set for K = 27: 0.7089312680903572\n"
     ]
    }
   ],
   "source": [
    "print(\"from the plot the optimal K is 27\")\n",
    "print(\"AUC for training set for K = 27: \" + str(auc_scoresTFIDF_W2V_kd_train[13]))\n",
    "print(\"AUC for CV set for K = 27: \" + str(auc_scoresTFIDF_W2V_kd_cv[13]))\n",
    "\n",
    "\n",
    "\n",
    "knn = KNeighborsClassifier(n_neighbors = 27, algorithm = 'kd_tree')\n",
    "\n",
    "knn.fit(tfidf_sent_vectors_train, Y_train)\n",
    "\n",
    "TFIDF_W2V_kdpred_train = knn.predict_proba(tfidf_sent_vectors_train)[:,1]\n",
    "TFIDF_W2V_kdpred_train_val = knn.predict(tfidf_sent_vectors_train)\n",
    "\n",
    "TFIDF_W2V_kdpred_test = knn.predict_proba(tfidf_sent_vectors_test)[:,1]\n",
    "TFIDF_W2V_kdpred_test_val = knn.predict(tfidf_sent_vectors_test)\n",
    "\n",
    "TFIDF_W2V_kdfpr_train, TFIDF_W2V_kdtpr_train, TFIDF_W2V_kdthrshold_train = roc_curve(Y_train, TFIDF_W2V_kdpred_train)\n",
    "\n",
    "TFIDF_W2V_kdfpr_test, TFIDF_W2V_kdtpr_test, TFIDF_W2V_kdthrshold_test = roc_curve(Y_test, TFIDF_W2V_kdpred_test)\n",
    "\n"
   ]
  },
  {
   "cell_type": "code",
   "execution_count": 44,
   "metadata": {},
   "outputs": [
    {
     "name": "stdout",
     "output_type": "stream",
     "text": [
      "AUC of train data for K= 27 = 0.8894842142277739\n",
      "AUC of test data for K= 27 = 0.7010231129845086\n"
     ]
    },
    {
     "data": {
      "image/png": "[encoded data removed]",
      "text/plain": [
       "<Figure size 432x288 with 1 Axes>"
      ]
     },
     "metadata": {},
     "output_type": "display_data"
    },
    {
     "name": "stdout",
     "output_type": "stream",
     "text": [
      "Confusion Matrix on training Data\n",
      "[[ 2408  6092]\n",
      " [  617 43546]]\n",
      "AxesSubplot(0.125,0.125;0.62x0.755)\n"
     ]
    },
    {
     "data": {
      "image/png": "[encoded data removed]",
      "text/plain": [
       "<Figure size 432x288 with 2 Axes>"
      ]
     },
     "metadata": {},
     "output_type": "display_data"
    }
   ],
   "source": [
    "auc_scoreTFIDF_W2V_kd_train = roc_auc_score(Y_train, TFIDF_W2V_kdpred_train)\n",
    "print(\"AUC of train data for K= 27 = \" + str(auc_scoreTFIDF_W2V_kd_train))\n",
    "\n",
    "auc_scoreTFIDF_W2V_kd_test = roc_auc_score(Y_test, TFIDF_W2V_kdpred_test)\n",
    "print(\"AUC of test data for K= 27 = \" + str(auc_scoreTFIDF_W2V_kd_test))\n",
    "\n",
    "plt.plot(TFIDF_W2V_kdfpr_train,TFIDF_W2V_kdtpr_train,'r', label=\"Training Set\")\n",
    "plt.plot(TFIDF_W2V_kdfpr_test,TFIDF_W2V_kdtpr_test, 'blue', label = \"Test Set\")\n",
    "plt.title(\"ROC Curve for optimal K\")\n",
    "plt.xlabel(\"FPR\")\n",
    "plt.ylabel(\"TPR\")\n",
    "plt.legend()\n",
    "plt.show()\n",
    "\n",
    "cm_train = confusion_matrix(Y_train,TFIDF_W2V_kdpred_train_val)\n",
    "\n",
    "print(\"Confusion Matrix on training Data\")\n",
    "print(cm_train)\n",
    "\n",
    "print(sns.heatmap(cm_train, annot = True))\n",
    "\n"
   ]
  },
  {
   "cell_type": "code",
   "execution_count": 41,
   "metadata": {},
   "outputs": [
    {
     "name": "stdout",
     "output_type": "stream",
     "text": [
      "Confusion Matrix on test Data\n",
      "[[  360  2506]\n",
      " [  373 14316]]\n",
      "AxesSubplot(0.125,0.125;0.62x0.755)\n"
     ]
    },
    {
     "data": {
      "image/png": "[encoded data removed]",
      "text/plain": [
       "<Figure size 432x288 with 2 Axes>"
      ]
     },
     "metadata": {},
     "output_type": "display_data"
    }
   ],
   "source": [
    "cm_test = confusion_matrix(Y_test,TFIDF_W2V_kdpred_test_val)\n",
    "\n",
    "print(\"Confusion Matrix on test Data\")\n",
    "print(cm_test)\n",
    "\n",
    "print(sns.heatmap(cm_train, annot = True))"
   ]
  },
  {
   "cell_type": "markdown",
   "metadata": {},
   "source": [
    "# [6] Conclusions"
   ]
  },
  {
   "cell_type": "code",
   "execution_count": 42,
   "metadata": {},
   "outputs": [
    {
     "name": "stdout",
     "output_type": "stream",
     "text": [
      "Comparison Table:\n",
      "+------------+--------+----------------+------+\n",
      "| Vectorizer | Model  | Hyperparameter | AUC  |\n",
      "+------------+--------+----------------+------+\n",
      "|    BOW     | Brute  |       33       | 0.68 |\n",
      "|   TFIDF    | Brute  |       31       | 0.5  |\n",
      "|  Avg W2V   | Brute  |       33       | 0.75 |\n",
      "| TFIDF W2V  | Brute  |       31       | 0.74 |\n",
      "|    BOW     | KDTree |       33       | 0.75 |\n",
      "|   TFIDF    | KDTree |       25       | 0.56 |\n",
      "|  Avg W2V   | KDTree |       33       | 0.75 |\n",
      "| TFIDF W2V  | KDTree |       27       | 0.7  |\n",
      "+------------+--------+----------------+------+\n"
     ]
    }
   ],
   "source": [
    "# Please compare all your models using Prettytable library\n",
    "\n",
    "cmpTable = PrettyTable()\n",
    "\n",
    "cmpTable.field_names = [\"Vectorizer\", \"Model\", \"Hyperparameter\", \"AUC\"]\n",
    "\n",
    "cmpTable.add_row([\"BOW\", \"Brute\",33,0.68])\n",
    "cmpTable.add_row([\"TFIDF\", \"Brute\",31,0.50])\n",
    "cmpTable.add_row([\"Avg W2V\", \"Brute\",33,0.75])\n",
    "cmpTable.add_row([\"TFIDF W2V\", \"Brute\",31,0.74])\n",
    "cmpTable.add_row([\"BOW\", \"KDTree\",33,0.75])\n",
    "cmpTable.add_row([\"TFIDF\", \"KDTree\",25,0.56])\n",
    "cmpTable.add_row([\"Avg W2V\", \"KDTree\",33,0.75])\n",
    "cmpTable.add_row([\"TFIDF W2V\", \"KDTree\",27,0.70])\n",
    "                             \n",
    "print(\"Comparison Table:\")\n",
    "    \n",
    "print(cmpTable)"
   ]
  },
  {
   "cell_type": "code",
   "execution_count": null,
   "metadata": {},
   "outputs": [],
   "source": []
  }
 ],
 "metadata": {
  "kernelspec": {
   "display_name": "Python 3",
   "language": "python",
   "name": "python3"
  },
  "language_info": {
   "codemirror_mode": {
    "name": "ipython",
    "version": 3
   },
   "file_extension": ".py",
   "mimetype": "text/x-python",
   "name": "python",
   "nbconvert_exporter": "python",
   "pygments_lexer": "ipython3",
   "version": "3.6.5"
  }
 },
 "nbformat": 4,
 "nbformat_minor": 2
}
